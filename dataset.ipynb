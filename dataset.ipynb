{
 "cells": [
  {
   "cell_type": "markdown",
   "metadata": {},
   "source": [
    "# Creating the dataset:\n",
    "Datset chosen is the Goodreads dataset found on Kaggle:\n",
    "    Link: https://www.kaggle.com/datasets/jealousleopard/goodreadsbooks\n",
    "    \n",
    "About the dataset:\n",
    "This data was entirely scraped via the Goodreads API. \n",
    "\n",
    "Inspiration: \n",
    "The reason behind choosing this dataset is pretty straightforward, as I'm an avid reader and a book-lover. So exploring the book dataset irrespective of the language and publication, and use it to determine what what book to be reading next.\n"
   ]
  },
  {
   "cell_type": "markdown",
   "metadata": {},
   "source": [
    "Aim:\n",
    "The goal is to generate a dataset for the project, from the link above. The criteria is to have 100 rows randomly chosen from the main dataset and then to study the data to formulate a question and leverage the Wikidata kniowledge base to answer the formulated question."
   ]
  },
  {
   "cell_type": "markdown",
   "metadata": {},
   "source": [
    "### Query: \"What genres of books have historically generated the highest reader engagement, and in what years were these highly engaging books predominantly published?\""
   ]
  },
  {
   "cell_type": "code",
   "execution_count": 1,
   "metadata": {},
   "outputs": [],
   "source": [
    "import pandas as pd"
   ]
  },
  {
   "cell_type": "code",
   "execution_count": 2,
   "metadata": {},
   "outputs": [
    {
     "name": "stderr",
     "output_type": "stream",
     "text": [
      "C:\\Users\\ragib_rridy9t\\AppData\\Local\\Temp\\ipykernel_17740\\458108474.py:1: FutureWarning: The error_bad_lines argument has been deprecated and will be removed in a future version. Use on_bad_lines in the future.\n",
      "\n",
      "\n",
      "  books = pd.read_csv('books.csv', error_bad_lines=False)\n",
      "Skipping line 3350: expected 12 fields, saw 13\n",
      "Skipping line 4704: expected 12 fields, saw 13\n",
      "Skipping line 5879: expected 12 fields, saw 13\n",
      "Skipping line 8981: expected 12 fields, saw 13\n",
      "\n"
     ]
    }
   ],
   "source": [
    "books = pd.read_csv('books.csv', error_bad_lines=False)"
   ]
  },
  {
   "cell_type": "code",
   "execution_count": 3,
   "metadata": {},
   "outputs": [
    {
     "data": {
      "text/html": [
       "<div>\n",
       "<style scoped>\n",
       "    .dataframe tbody tr th:only-of-type {\n",
       "        vertical-align: middle;\n",
       "    }\n",
       "\n",
       "    .dataframe tbody tr th {\n",
       "        vertical-align: top;\n",
       "    }\n",
       "\n",
       "    .dataframe thead th {\n",
       "        text-align: right;\n",
       "    }\n",
       "</style>\n",
       "<table border=\"1\" class=\"dataframe\">\n",
       "  <thead>\n",
       "    <tr style=\"text-align: right;\">\n",
       "      <th></th>\n",
       "      <th>bookID</th>\n",
       "      <th>title</th>\n",
       "      <th>authors</th>\n",
       "      <th>average_rating</th>\n",
       "      <th>isbn</th>\n",
       "      <th>isbn13</th>\n",
       "      <th>language_code</th>\n",
       "      <th>num_pages</th>\n",
       "      <th>ratings_count</th>\n",
       "      <th>text_reviews_count</th>\n",
       "      <th>publication_date</th>\n",
       "      <th>publisher</th>\n",
       "    </tr>\n",
       "  </thead>\n",
       "  <tbody>\n",
       "    <tr>\n",
       "      <th>0</th>\n",
       "      <td>1</td>\n",
       "      <td>Harry Potter and the Half-Blood Prince (Harry ...</td>\n",
       "      <td>J.K. Rowling/Mary GrandPré</td>\n",
       "      <td>4.57</td>\n",
       "      <td>0439785960</td>\n",
       "      <td>9780439785969</td>\n",
       "      <td>eng</td>\n",
       "      <td>652</td>\n",
       "      <td>2095690</td>\n",
       "      <td>27591</td>\n",
       "      <td>9/16/2006</td>\n",
       "      <td>Scholastic Inc.</td>\n",
       "    </tr>\n",
       "    <tr>\n",
       "      <th>1</th>\n",
       "      <td>2</td>\n",
       "      <td>Harry Potter and the Order of the Phoenix (Har...</td>\n",
       "      <td>J.K. Rowling/Mary GrandPré</td>\n",
       "      <td>4.49</td>\n",
       "      <td>0439358078</td>\n",
       "      <td>9780439358071</td>\n",
       "      <td>eng</td>\n",
       "      <td>870</td>\n",
       "      <td>2153167</td>\n",
       "      <td>29221</td>\n",
       "      <td>9/1/2004</td>\n",
       "      <td>Scholastic Inc.</td>\n",
       "    </tr>\n",
       "    <tr>\n",
       "      <th>2</th>\n",
       "      <td>4</td>\n",
       "      <td>Harry Potter and the Chamber of Secrets (Harry...</td>\n",
       "      <td>J.K. Rowling</td>\n",
       "      <td>4.42</td>\n",
       "      <td>0439554896</td>\n",
       "      <td>9780439554893</td>\n",
       "      <td>eng</td>\n",
       "      <td>352</td>\n",
       "      <td>6333</td>\n",
       "      <td>244</td>\n",
       "      <td>11/1/2003</td>\n",
       "      <td>Scholastic</td>\n",
       "    </tr>\n",
       "    <tr>\n",
       "      <th>3</th>\n",
       "      <td>5</td>\n",
       "      <td>Harry Potter and the Prisoner of Azkaban (Harr...</td>\n",
       "      <td>J.K. Rowling/Mary GrandPré</td>\n",
       "      <td>4.56</td>\n",
       "      <td>043965548X</td>\n",
       "      <td>9780439655484</td>\n",
       "      <td>eng</td>\n",
       "      <td>435</td>\n",
       "      <td>2339585</td>\n",
       "      <td>36325</td>\n",
       "      <td>5/1/2004</td>\n",
       "      <td>Scholastic Inc.</td>\n",
       "    </tr>\n",
       "    <tr>\n",
       "      <th>4</th>\n",
       "      <td>8</td>\n",
       "      <td>Harry Potter Boxed Set  Books 1-5 (Harry Potte...</td>\n",
       "      <td>J.K. Rowling/Mary GrandPré</td>\n",
       "      <td>4.78</td>\n",
       "      <td>0439682584</td>\n",
       "      <td>9780439682589</td>\n",
       "      <td>eng</td>\n",
       "      <td>2690</td>\n",
       "      <td>41428</td>\n",
       "      <td>164</td>\n",
       "      <td>9/13/2004</td>\n",
       "      <td>Scholastic</td>\n",
       "    </tr>\n",
       "  </tbody>\n",
       "</table>\n",
       "</div>"
      ],
      "text/plain": [
       "   bookID                                              title  \\\n",
       "0       1  Harry Potter and the Half-Blood Prince (Harry ...   \n",
       "1       2  Harry Potter and the Order of the Phoenix (Har...   \n",
       "2       4  Harry Potter and the Chamber of Secrets (Harry...   \n",
       "3       5  Harry Potter and the Prisoner of Azkaban (Harr...   \n",
       "4       8  Harry Potter Boxed Set  Books 1-5 (Harry Potte...   \n",
       "\n",
       "                      authors  average_rating        isbn         isbn13  \\\n",
       "0  J.K. Rowling/Mary GrandPré            4.57  0439785960  9780439785969   \n",
       "1  J.K. Rowling/Mary GrandPré            4.49  0439358078  9780439358071   \n",
       "2                J.K. Rowling            4.42  0439554896  9780439554893   \n",
       "3  J.K. Rowling/Mary GrandPré            4.56  043965548X  9780439655484   \n",
       "4  J.K. Rowling/Mary GrandPré            4.78  0439682584  9780439682589   \n",
       "\n",
       "  language_code    num_pages  ratings_count  text_reviews_count  \\\n",
       "0           eng          652        2095690               27591   \n",
       "1           eng          870        2153167               29221   \n",
       "2           eng          352           6333                 244   \n",
       "3           eng          435        2339585               36325   \n",
       "4           eng         2690          41428                 164   \n",
       "\n",
       "  publication_date        publisher  \n",
       "0        9/16/2006  Scholastic Inc.  \n",
       "1         9/1/2004  Scholastic Inc.  \n",
       "2        11/1/2003       Scholastic  \n",
       "3         5/1/2004  Scholastic Inc.  \n",
       "4        9/13/2004       Scholastic  "
      ]
     },
     "execution_count": 3,
     "metadata": {},
     "output_type": "execute_result"
    }
   ],
   "source": [
    "books.head()"
   ]
  },
  {
   "cell_type": "code",
   "execution_count": 4,
   "metadata": {},
   "outputs": [
    {
     "data": {
      "text/html": [
       "<div>\n",
       "<style scoped>\n",
       "    .dataframe tbody tr th:only-of-type {\n",
       "        vertical-align: middle;\n",
       "    }\n",
       "\n",
       "    .dataframe tbody tr th {\n",
       "        vertical-align: top;\n",
       "    }\n",
       "\n",
       "    .dataframe thead th {\n",
       "        text-align: right;\n",
       "    }\n",
       "</style>\n",
       "<table border=\"1\" class=\"dataframe\">\n",
       "  <thead>\n",
       "    <tr style=\"text-align: right;\">\n",
       "      <th></th>\n",
       "      <th>bookID</th>\n",
       "      <th>title</th>\n",
       "      <th>authors</th>\n",
       "      <th>average_rating</th>\n",
       "      <th>isbn</th>\n",
       "      <th>isbn13</th>\n",
       "      <th>language_code</th>\n",
       "      <th>num_pages</th>\n",
       "      <th>ratings_count</th>\n",
       "      <th>text_reviews_count</th>\n",
       "      <th>publication_date</th>\n",
       "      <th>publisher</th>\n",
       "    </tr>\n",
       "  </thead>\n",
       "  <tbody>\n",
       "    <tr>\n",
       "      <th>5921</th>\n",
       "      <td>22285</td>\n",
       "      <td>Rant</td>\n",
       "      <td>Chuck Palahniuk</td>\n",
       "      <td>3.81</td>\n",
       "      <td>0385517874</td>\n",
       "      <td>9780385517874</td>\n",
       "      <td>eng</td>\n",
       "      <td>320</td>\n",
       "      <td>55592</td>\n",
       "      <td>2516</td>\n",
       "      <td>5/1/2007</td>\n",
       "      <td>Doubleday Books</td>\n",
       "    </tr>\n",
       "    <tr>\n",
       "      <th>142</th>\n",
       "      <td>298</td>\n",
       "      <td>Treasure Island</td>\n",
       "      <td>Robert Louis Stevenson/N.C. Wyeth/Timothy Meis</td>\n",
       "      <td>3.83</td>\n",
       "      <td>0689854684</td>\n",
       "      <td>9780689854682</td>\n",
       "      <td>eng</td>\n",
       "      <td>64</td>\n",
       "      <td>104</td>\n",
       "      <td>14</td>\n",
       "      <td>7/1/2003</td>\n",
       "      <td>Atheneum Books for Young Readers</td>\n",
       "    </tr>\n",
       "    <tr>\n",
       "      <th>5581</th>\n",
       "      <td>20425</td>\n",
       "      <td>The Spiral Stair (Arabel and Mortimer  #6)</td>\n",
       "      <td>Joan Aiken/Quentin Blake</td>\n",
       "      <td>4.33</td>\n",
       "      <td>1903015073</td>\n",
       "      <td>9781903015070</td>\n",
       "      <td>eng</td>\n",
       "      <td>62</td>\n",
       "      <td>35</td>\n",
       "      <td>5</td>\n",
       "      <td>8/1/2000</td>\n",
       "      <td>Barn Owl Books</td>\n",
       "    </tr>\n",
       "    <tr>\n",
       "      <th>10897</th>\n",
       "      <td>44543</td>\n",
       "      <td>Slammerkin</td>\n",
       "      <td>Emma Donoghue</td>\n",
       "      <td>3.71</td>\n",
       "      <td>0156007479</td>\n",
       "      <td>9780156007474</td>\n",
       "      <td>eng</td>\n",
       "      <td>410</td>\n",
       "      <td>12551</td>\n",
       "      <td>1251</td>\n",
       "      <td>5/1/2002</td>\n",
       "      <td>Mariner Books</td>\n",
       "    </tr>\n",
       "    <tr>\n",
       "      <th>3401</th>\n",
       "      <td>12441</td>\n",
       "      <td>Traveller</td>\n",
       "      <td>Richard  Adams</td>\n",
       "      <td>3.92</td>\n",
       "      <td>0440204933</td>\n",
       "      <td>9780440204930</td>\n",
       "      <td>eng</td>\n",
       "      <td>355</td>\n",
       "      <td>884</td>\n",
       "      <td>74</td>\n",
       "      <td>11/5/1989</td>\n",
       "      <td>Dell Publishing</td>\n",
       "    </tr>\n",
       "    <tr>\n",
       "      <th>4187</th>\n",
       "      <td>14990</td>\n",
       "      <td>Spook: Science Tackles the Afterlife</td>\n",
       "      <td>Mary Roach</td>\n",
       "      <td>3.58</td>\n",
       "      <td>0393329127</td>\n",
       "      <td>9780393329124</td>\n",
       "      <td>en-US</td>\n",
       "      <td>311</td>\n",
       "      <td>30473</td>\n",
       "      <td>2399</td>\n",
       "      <td>9/26/2006</td>\n",
       "      <td>W.W. Norton &amp; Company (NYC)</td>\n",
       "    </tr>\n",
       "    <tr>\n",
       "      <th>1860</th>\n",
       "      <td>6613</td>\n",
       "      <td>Four Blondes</td>\n",
       "      <td>Candace Bushnell</td>\n",
       "      <td>2.82</td>\n",
       "      <td>080213825X</td>\n",
       "      <td>9780802138255</td>\n",
       "      <td>eng</td>\n",
       "      <td>256</td>\n",
       "      <td>23409</td>\n",
       "      <td>877</td>\n",
       "      <td>6/8/2001</td>\n",
       "      <td>Grove Press</td>\n",
       "    </tr>\n",
       "    <tr>\n",
       "      <th>6432</th>\n",
       "      <td>24213</td>\n",
       "      <td>Alice's Adventures in Wonderland &amp; Through the...</td>\n",
       "      <td>Lewis Carroll/John Tenniel/Martin Gardner</td>\n",
       "      <td>4.07</td>\n",
       "      <td>0451527747</td>\n",
       "      <td>9780451527745</td>\n",
       "      <td>eng</td>\n",
       "      <td>239</td>\n",
       "      <td>381097</td>\n",
       "      <td>6041</td>\n",
       "      <td>12/1/2000</td>\n",
       "      <td>Penguin Group (USA)</td>\n",
       "    </tr>\n",
       "    <tr>\n",
       "      <th>10746</th>\n",
       "      <td>43877</td>\n",
       "      <td>The Monk Who Sold His Ferrari: A Fable About F...</td>\n",
       "      <td>Robin S. Sharma</td>\n",
       "      <td>3.83</td>\n",
       "      <td>0062515675</td>\n",
       "      <td>9780062515674</td>\n",
       "      <td>eng</td>\n",
       "      <td>208</td>\n",
       "      <td>71133</td>\n",
       "      <td>3741</td>\n",
       "      <td>4/21/1999</td>\n",
       "      <td>HarperOne</td>\n",
       "    </tr>\n",
       "    <tr>\n",
       "      <th>4663</th>\n",
       "      <td>16767</td>\n",
       "      <td>The Case of the Half-Wakened Wife</td>\n",
       "      <td>Erle Stanley Gardner</td>\n",
       "      <td>3.88</td>\n",
       "      <td>034537147X</td>\n",
       "      <td>9780345371478</td>\n",
       "      <td>eng</td>\n",
       "      <td>245</td>\n",
       "      <td>435</td>\n",
       "      <td>23</td>\n",
       "      <td>3/13/1991</td>\n",
       "      <td>Fawcett</td>\n",
       "    </tr>\n",
       "  </tbody>\n",
       "</table>\n",
       "</div>"
      ],
      "text/plain": [
       "       bookID                                              title  \\\n",
       "5921    22285                                               Rant   \n",
       "142       298                                    Treasure Island   \n",
       "5581    20425         The Spiral Stair (Arabel and Mortimer  #6)   \n",
       "10897   44543                                         Slammerkin   \n",
       "3401    12441                                          Traveller   \n",
       "4187    14990               Spook: Science Tackles the Afterlife   \n",
       "1860     6613                                       Four Blondes   \n",
       "6432    24213  Alice's Adventures in Wonderland & Through the...   \n",
       "10746   43877  The Monk Who Sold His Ferrari: A Fable About F...   \n",
       "4663    16767                  The Case of the Half-Wakened Wife   \n",
       "\n",
       "                                              authors  average_rating  \\\n",
       "5921                                  Chuck Palahniuk            3.81   \n",
       "142    Robert Louis Stevenson/N.C. Wyeth/Timothy Meis            3.83   \n",
       "5581                         Joan Aiken/Quentin Blake            4.33   \n",
       "10897                                   Emma Donoghue            3.71   \n",
       "3401                                   Richard  Adams            3.92   \n",
       "4187                                       Mary Roach            3.58   \n",
       "1860                                 Candace Bushnell            2.82   \n",
       "6432        Lewis Carroll/John Tenniel/Martin Gardner            4.07   \n",
       "10746                                 Robin S. Sharma            3.83   \n",
       "4663                             Erle Stanley Gardner            3.88   \n",
       "\n",
       "             isbn         isbn13 language_code    num_pages  ratings_count  \\\n",
       "5921   0385517874  9780385517874           eng          320          55592   \n",
       "142    0689854684  9780689854682           eng           64            104   \n",
       "5581   1903015073  9781903015070           eng           62             35   \n",
       "10897  0156007479  9780156007474           eng          410          12551   \n",
       "3401   0440204933  9780440204930           eng          355            884   \n",
       "4187   0393329127  9780393329124         en-US          311          30473   \n",
       "1860   080213825X  9780802138255           eng          256          23409   \n",
       "6432   0451527747  9780451527745           eng          239         381097   \n",
       "10746  0062515675  9780062515674           eng          208          71133   \n",
       "4663   034537147X  9780345371478           eng          245            435   \n",
       "\n",
       "       text_reviews_count publication_date                         publisher  \n",
       "5921                 2516         5/1/2007                   Doubleday Books  \n",
       "142                    14         7/1/2003  Atheneum Books for Young Readers  \n",
       "5581                    5         8/1/2000                    Barn Owl Books  \n",
       "10897                1251         5/1/2002                     Mariner Books  \n",
       "3401                   74        11/5/1989                   Dell Publishing  \n",
       "4187                 2399        9/26/2006       W.W. Norton & Company (NYC)  \n",
       "1860                  877         6/8/2001                       Grove Press  \n",
       "6432                 6041        12/1/2000               Penguin Group (USA)  \n",
       "10746                3741        4/21/1999                         HarperOne  \n",
       "4663                   23        3/13/1991                           Fawcett  "
      ]
     },
     "execution_count": 4,
     "metadata": {},
     "output_type": "execute_result"
    }
   ],
   "source": [
    "import random\n",
    "\n",
    "#Now I will sample 100 random rows from the dataframe\n",
    "\n",
    "dataset = books.sample(n=100)\n",
    "\n",
    "dataset.head(10)"
   ]
  },
  {
   "cell_type": "markdown",
   "metadata": {},
   "source": [
    "Note: I am going to remove certain columns from the dataset, to simplify the dataset.\n",
    "\n",
    "## Modify the Dataset"
   ]
  },
  {
   "cell_type": "code",
   "execution_count": 5,
   "metadata": {},
   "outputs": [],
   "source": [
    "#Removing the columns, token_count\ttotal_characters\tprotagonist_concentration\tavg_sentence_length\tavg_word_length\ttuldava_score\tevent_count\tspeed_avg\tcircuitousness\tspeed_min\tvolume\tgoodreads_avg\ttotal_ratings\tgoodreads_URL\tProbability1P\n",
    "\n",
    "dataset = dataset.drop(['bookID', 'isbn13', 'publication_date', 'language_code'], axis=1)"
   ]
  },
  {
   "cell_type": "code",
   "execution_count": 6,
   "metadata": {},
   "outputs": [
    {
     "data": {
      "text/plain": [
       "title                 0\n",
       "authors               0\n",
       "average_rating        0\n",
       "isbn                  0\n",
       "  num_pages           0\n",
       "ratings_count         0\n",
       "text_reviews_count    0\n",
       "publisher             0\n",
       "dtype: int64"
      ]
     },
     "execution_count": 6,
     "metadata": {},
     "output_type": "execute_result"
    }
   ],
   "source": [
    "#Checking for missing values\n",
    "dataset.isnull().sum()"
   ]
  },
  {
   "cell_type": "code",
   "execution_count": 7,
   "metadata": {},
   "outputs": [
    {
     "data": {
      "text/html": [
       "<div>\n",
       "<style scoped>\n",
       "    .dataframe tbody tr th:only-of-type {\n",
       "        vertical-align: middle;\n",
       "    }\n",
       "\n",
       "    .dataframe tbody tr th {\n",
       "        vertical-align: top;\n",
       "    }\n",
       "\n",
       "    .dataframe thead th {\n",
       "        text-align: right;\n",
       "    }\n",
       "</style>\n",
       "<table border=\"1\" class=\"dataframe\">\n",
       "  <thead>\n",
       "    <tr style=\"text-align: right;\">\n",
       "      <th></th>\n",
       "      <th>title</th>\n",
       "      <th>authors</th>\n",
       "      <th>average_rating</th>\n",
       "      <th>isbn</th>\n",
       "      <th>num_pages</th>\n",
       "      <th>ratings_count</th>\n",
       "      <th>text_reviews_count</th>\n",
       "      <th>publisher</th>\n",
       "    </tr>\n",
       "  </thead>\n",
       "  <tbody>\n",
       "    <tr>\n",
       "      <th>5921</th>\n",
       "      <td>Rant</td>\n",
       "      <td>Chuck Palahniuk</td>\n",
       "      <td>3.81</td>\n",
       "      <td>0385517874</td>\n",
       "      <td>320</td>\n",
       "      <td>55592</td>\n",
       "      <td>2516</td>\n",
       "      <td>Doubleday Books</td>\n",
       "    </tr>\n",
       "    <tr>\n",
       "      <th>142</th>\n",
       "      <td>Treasure Island</td>\n",
       "      <td>Robert Louis Stevenson/N.C. Wyeth/Timothy Meis</td>\n",
       "      <td>3.83</td>\n",
       "      <td>0689854684</td>\n",
       "      <td>64</td>\n",
       "      <td>104</td>\n",
       "      <td>14</td>\n",
       "      <td>Atheneum Books for Young Readers</td>\n",
       "    </tr>\n",
       "    <tr>\n",
       "      <th>5581</th>\n",
       "      <td>The Spiral Stair (Arabel and Mortimer  #6)</td>\n",
       "      <td>Joan Aiken/Quentin Blake</td>\n",
       "      <td>4.33</td>\n",
       "      <td>1903015073</td>\n",
       "      <td>62</td>\n",
       "      <td>35</td>\n",
       "      <td>5</td>\n",
       "      <td>Barn Owl Books</td>\n",
       "    </tr>\n",
       "    <tr>\n",
       "      <th>10897</th>\n",
       "      <td>Slammerkin</td>\n",
       "      <td>Emma Donoghue</td>\n",
       "      <td>3.71</td>\n",
       "      <td>0156007479</td>\n",
       "      <td>410</td>\n",
       "      <td>12551</td>\n",
       "      <td>1251</td>\n",
       "      <td>Mariner Books</td>\n",
       "    </tr>\n",
       "    <tr>\n",
       "      <th>3401</th>\n",
       "      <td>Traveller</td>\n",
       "      <td>Richard  Adams</td>\n",
       "      <td>3.92</td>\n",
       "      <td>0440204933</td>\n",
       "      <td>355</td>\n",
       "      <td>884</td>\n",
       "      <td>74</td>\n",
       "      <td>Dell Publishing</td>\n",
       "    </tr>\n",
       "    <tr>\n",
       "      <th>4187</th>\n",
       "      <td>Spook: Science Tackles the Afterlife</td>\n",
       "      <td>Mary Roach</td>\n",
       "      <td>3.58</td>\n",
       "      <td>0393329127</td>\n",
       "      <td>311</td>\n",
       "      <td>30473</td>\n",
       "      <td>2399</td>\n",
       "      <td>W.W. Norton &amp; Company (NYC)</td>\n",
       "    </tr>\n",
       "    <tr>\n",
       "      <th>1860</th>\n",
       "      <td>Four Blondes</td>\n",
       "      <td>Candace Bushnell</td>\n",
       "      <td>2.82</td>\n",
       "      <td>080213825X</td>\n",
       "      <td>256</td>\n",
       "      <td>23409</td>\n",
       "      <td>877</td>\n",
       "      <td>Grove Press</td>\n",
       "    </tr>\n",
       "    <tr>\n",
       "      <th>6432</th>\n",
       "      <td>Alice's Adventures in Wonderland &amp; Through the...</td>\n",
       "      <td>Lewis Carroll/John Tenniel/Martin Gardner</td>\n",
       "      <td>4.07</td>\n",
       "      <td>0451527747</td>\n",
       "      <td>239</td>\n",
       "      <td>381097</td>\n",
       "      <td>6041</td>\n",
       "      <td>Penguin Group (USA)</td>\n",
       "    </tr>\n",
       "    <tr>\n",
       "      <th>10746</th>\n",
       "      <td>The Monk Who Sold His Ferrari: A Fable About F...</td>\n",
       "      <td>Robin S. Sharma</td>\n",
       "      <td>3.83</td>\n",
       "      <td>0062515675</td>\n",
       "      <td>208</td>\n",
       "      <td>71133</td>\n",
       "      <td>3741</td>\n",
       "      <td>HarperOne</td>\n",
       "    </tr>\n",
       "    <tr>\n",
       "      <th>4663</th>\n",
       "      <td>The Case of the Half-Wakened Wife</td>\n",
       "      <td>Erle Stanley Gardner</td>\n",
       "      <td>3.88</td>\n",
       "      <td>034537147X</td>\n",
       "      <td>245</td>\n",
       "      <td>435</td>\n",
       "      <td>23</td>\n",
       "      <td>Fawcett</td>\n",
       "    </tr>\n",
       "  </tbody>\n",
       "</table>\n",
       "</div>"
      ],
      "text/plain": [
       "                                                   title  \\\n",
       "5921                                                Rant   \n",
       "142                                      Treasure Island   \n",
       "5581          The Spiral Stair (Arabel and Mortimer  #6)   \n",
       "10897                                         Slammerkin   \n",
       "3401                                           Traveller   \n",
       "4187                Spook: Science Tackles the Afterlife   \n",
       "1860                                        Four Blondes   \n",
       "6432   Alice's Adventures in Wonderland & Through the...   \n",
       "10746  The Monk Who Sold His Ferrari: A Fable About F...   \n",
       "4663                   The Case of the Half-Wakened Wife   \n",
       "\n",
       "                                              authors  average_rating  \\\n",
       "5921                                  Chuck Palahniuk            3.81   \n",
       "142    Robert Louis Stevenson/N.C. Wyeth/Timothy Meis            3.83   \n",
       "5581                         Joan Aiken/Quentin Blake            4.33   \n",
       "10897                                   Emma Donoghue            3.71   \n",
       "3401                                   Richard  Adams            3.92   \n",
       "4187                                       Mary Roach            3.58   \n",
       "1860                                 Candace Bushnell            2.82   \n",
       "6432        Lewis Carroll/John Tenniel/Martin Gardner            4.07   \n",
       "10746                                 Robin S. Sharma            3.83   \n",
       "4663                             Erle Stanley Gardner            3.88   \n",
       "\n",
       "             isbn    num_pages  ratings_count  text_reviews_count  \\\n",
       "5921   0385517874          320          55592                2516   \n",
       "142    0689854684           64            104                  14   \n",
       "5581   1903015073           62             35                   5   \n",
       "10897  0156007479          410          12551                1251   \n",
       "3401   0440204933          355            884                  74   \n",
       "4187   0393329127          311          30473                2399   \n",
       "1860   080213825X          256          23409                 877   \n",
       "6432   0451527747          239         381097                6041   \n",
       "10746  0062515675          208          71133                3741   \n",
       "4663   034537147X          245            435                  23   \n",
       "\n",
       "                              publisher  \n",
       "5921                    Doubleday Books  \n",
       "142    Atheneum Books for Young Readers  \n",
       "5581                     Barn Owl Books  \n",
       "10897                     Mariner Books  \n",
       "3401                    Dell Publishing  \n",
       "4187        W.W. Norton & Company (NYC)  \n",
       "1860                        Grove Press  \n",
       "6432                Penguin Group (USA)  \n",
       "10746                         HarperOne  \n",
       "4663                            Fawcett  "
      ]
     },
     "execution_count": 7,
     "metadata": {},
     "output_type": "execute_result"
    }
   ],
   "source": [
    "dataset.head(10)"
   ]
  },
  {
   "cell_type": "code",
   "execution_count": null,
   "metadata": {},
   "outputs": [],
   "source": [
    "#Lets check the data types of the columns\n",
    "\n",
    "dataset.dtypes"
   ]
  },
  {
   "cell_type": "code",
   "execution_count": 8,
   "metadata": {},
   "outputs": [],
   "source": [
    "#We will format the ISBN column in proper format\n",
    "#As some of the isbn have 'X' at the end, we will remove it\n",
    "\n",
    "dataset['isbn'] = dataset['isbn'].str.replace('X', '')\n"
   ]
  },
  {
   "cell_type": "code",
   "execution_count": 9,
   "metadata": {},
   "outputs": [],
   "source": [
    "dataset['isbn'] = dataset['isbn'].astype(str)"
   ]
  },
  {
   "cell_type": "markdown",
   "metadata": {},
   "source": [
    "## Exporting the dataset to CSV"
   ]
  },
  {
   "cell_type": "code",
   "execution_count": null,
   "metadata": {},
   "outputs": [],
   "source": [
    "#Exporting the dataset to a csv file\n",
    "\n",
    "dataset.to_csv('Book_dataset.csv', index=False)"
   ]
  },
  {
   "cell_type": "markdown",
   "metadata": {},
   "source": [
    "## Query: 1\n",
    "    In this query, the local data is queried, where a simple sort on the Average rating, displays the top 10 highest rated books.\n",
    "\n",
    "```\n",
    "  prefix owl: <http://www.w3.org/2002/07/owl#> \n",
    "  prefix rdf: <http://www.w3.org/1999/02/22-rdf-syntax-ns#> \n",
    "  prefix xml: <http://www.w3.org/XML/1998/namespace> \n",
    "  prefix xsd: <http://www.w3.org/2001/XMLSchema#> \n",
    "  prefix rdfs: <http://www.w3.org/2000/01/rdf-schema#>\n",
    "  PREFIX wod: <https://ecampus.paris-saclay.fr/wod/bhatt/>\n",
    "  PREFIX wd: <http://www.wikidata.org/entity/>\n",
    "  PREFIX wdt: <http://www.wikidata.org/prop/direct/>\n",
    "\n",
    "\n",
    "  SELECT ?bookTitle ?author ?average_rating\n",
    "  WHERE {\n",
    "    ?book a wod:Book;\n",
    "          rdfs:label ?bookTitle;       # Use ?bookTitle to bind the book title\n",
    "          wod:authors ?author;\n",
    "          wod:average_rating ?average_rating .\n",
    "  }ORDER BY DESC(?average_rating)\n",
    "  LIMIT 10\n",
    "```"
   ]
  },
  {
   "cell_type": "markdown",
   "metadata": {},
   "source": [
    "## Query:2 \n",
    "\n",
    "It would be interesting to find out if these books also have a high engagement level. To find that out, we will use the Review Ratio. The ratio of text_reviews_count to ratings_count gives an idea of what proportion of readers felt compelled to leave a written review as opposed to simply leaving a rating.\n",
    "\n",
    "\n",
    "Answer: It looks like\"The Catcher in the Rye\" by J.D. Salinger has the highest review ratio in the dataset, with a ratio of approximately 0.017703447815547810175606.\n",
    "\n",
    "To interpret this, while the absolute number of text reviews may be smaller compared to the total number of ratings, there is a consistent engagement from readers who not only rate the book but also take the time to write reviews. Depending on the context, such a ratio can be considered a healthy level of engagement, especially if the numbers are relatively high.\n",
    "\n",
    "```\n",
    "SELECT ?bookTitle ?author (xsd:decimal(?ratingsCount) AS ?ratings) (xsd:decimal(?textReviewsCount) / xsd:decimal(?ratingsCount) AS ?reviewRatio) ?bookRating\n",
    "WHERE {\n",
    "  ?book a wod:Book;\n",
    "        rdfs:label ?bookTitle;\n",
    "        wod:authors ?author;\n",
    "        wod:ratings_count ?ratingsCount;\n",
    "        wod:average_rating ?bookRating ;\n",
    "        wod:text_reviews_count ?textReviewsCount .\n",
    "  \n",
    "  # Filter out books with zero ratings to avoid division by zero\n",
    "  FILTER(xsd:decimal(?ratingsCount) > 0)\n",
    "}ORDER BY DESC(?ratings)\n",
    "LIMIT 10\n",
    "```"
   ]
  },
  {
   "cell_type": "markdown",
   "metadata": {},
   "source": [
    "## Query 3:\n",
    "\n",
    "Using the CONSTRUCT query, we will try to link the local data to the Wikidata.\n",
    "\n",
    "```\n",
    "CONSTRUCT {\n",
    "  ?localBook wod:author ?author;\n",
    "             wod:title ?wikiBookTitle;\n",
    "             wod:genre ?genreLabel;\n",
    "             wod:publicationYear ?publicationYear;\n",
    "             wod:ratings ?ratings;\n",
    "             wod:reviewRatio ?reviewRatio.\n",
    "}\n",
    "WHERE {\n",
    "  SERVICE <https://query.wikidata.org/bigdata/namespace/wdq/sparql> {\n",
    "    ?wikiBook (wdt:P31/(wdt:P279*)) wd:Q7725634;\n",
    "              wdt:P136 ?genre;\n",
    "              wdt:P577 ?publicationDate;\n",
    "              rdfs:label ?wikiBookTitle.\n",
    "    FILTER(LANG(?wikiBookTitle) = 'en')\n",
    "    ?genre rdfs:label ?genreLabel.\n",
    "    FILTER(LANG(?genreLabel) = \"en\")\n",
    "  }\n",
    "  ?localBook a wod:Book;\n",
    "             rdfs:label ?wikiBookTitle;\n",
    "             wod:authors ?author;\n",
    "             wod:ratings_count ?ratingsCount;\n",
    "             wod:average_rating ?bookRating;\n",
    "             wod:text_reviews_count ?textReviewsCount.\n",
    "  FILTER(xsd:decimal(?ratingsCount) > 0)\n",
    "  BIND(YEAR(?publicationDate) AS ?publicationYear)\n",
    "  BIND(xsd:decimal(?ratingsCount) AS ?ratings)\n",
    "  BIND(xsd:decimal(?textReviewsCount) / xsd:decimal(?ratingsCount) AS ?reviewRatio)\n",
    "}\n",
    "\n",
    "\n",
    "\n",
    "```\n",
    "\n",
    "    "
   ]
  },
  {
   "cell_type": "markdown",
   "metadata": {},
   "source": [
    "## Query: 4 \n",
    "\n",
    "In thw INSERT query, we will save our results of the Book genres, and publication dates to later query them\n",
    "\n",
    "\n",
    "```\n",
    "INSERT {\n",
    "    ?localBook wod:author ?author;\n",
    "               wod:title ?wikiBookTitle;\n",
    "               wod:genre ?genreLabel;\n",
    "               wod:publicationYear ?publicationYear;\n",
    "               wod:ratings ?ratings;\n",
    "               wod:reviewRatio ?reviewRatio.\n",
    "\n",
    "}\n",
    "WHERE {\n",
    "  SERVICE <https://query.wikidata.org/bigdata/namespace/wdq/sparql> {\n",
    "    ?wikiBook (wdt:P31/(wdt:P279*)) wd:Q7725634;\n",
    "              wdt:P136 ?genre;\n",
    "              wdt:P577 ?publicationDate;\n",
    "              rdfs:label ?wikiBookTitle.\n",
    "    FILTER(LANG(?wikiBookTitle) = 'en')\n",
    "    ?genre rdfs:label ?genreLabel.\n",
    "    FILTER(LANG(?genreLabel) = \"en\")\n",
    "  }\n",
    "  ?localBook a wod:Book;\n",
    "             rdfs:label ?wikiBookTitle;\n",
    "             wod:authors ?author;\n",
    "             wod:ratings_count ?ratingsCount;\n",
    "             wod:average_rating ?bookRating;\n",
    "             wod:text_reviews_count ?textReviewsCount.\n",
    "  FILTER(xsd:decimal(?ratingsCount) > 0)\n",
    "  BIND(YEAR(?publicationDate) AS ?publicationYear)\n",
    "  BIND(xsd:decimal(?ratingsCount) AS ?ratings)\n",
    "  BIND(xsd:decimal(?textReviewsCount) / xsd:decimal(?ratingsCount) AS ?reviewRatio)\n",
    "}\n",
    "\n",
    "```"
   ]
  },
  {
   "cell_type": "markdown",
   "metadata": {},
   "source": [
    "## Final Query:\n",
    "\n",
    "\n",
    "```\n",
    "PREFIX wd: <http://www.wikidata.org/entity/>\n",
    "PREFIX wdt: <http://www.wikidata.org/prop/direct/>\n",
    "PREFIX wikibase: <http://wikiba.se/ontology#>\n",
    "PREFIX p: <http://www.wikidata.org/prop/>\n",
    "PREFIX ps: <http://www.wikidata.org/prop/statement/>\n",
    "PREFIX pq: <http://www.wikidata.org/prop/qualifier/>\n",
    "PREFIX rdfs: <http://www.w3.org/2000/01/rdf-schema#>\n",
    "PREFIX bd: <http://www.bigdata.com/rdf#>\n",
    "PREFIX rdf: <http://www.w3.org/1999/02/22-rdf-syntax-ns#>\n",
    "PREFIX wod: <https://ecampus.paris-saclay.fr/wod/bhatt/>\n",
    "PREFIX owl: <http://www.w3.org/2002/07/owl#>\n",
    "PREFIX xsd: <http://www.w3.org/2001/XMLSchema#>\n",
    "\n",
    "SELECT ?bookTitle ?author (xsd:decimal(?ratingsCount) AS ?ratings) (xsd:decimal(?textReviewsCount) / xsd:decimal(?ratingsCount) AS ?reviewRatio) ?bookRating ?genreLabel ?publishedYear\n",
    "WHERE {\n",
    "  ?book a wod:Book;\n",
    "        rdfs:label ?bookTitle;\n",
    "        wod:authors ?author;\n",
    "        wod:ratings_count ?ratingsCount;\n",
    "        wod:average_rating ?bookRating;\n",
    "        wod:text_reviews_count ?textReviewsCount;\n",
    "        wod:genre ?genreLabel;\n",
    "        wod:publicationYear ?publishedYear.\n",
    "\n",
    "  FILTER(xsd:decimal(?ratingsCount) > 0)\n",
    "  FILTER(?author != \"Stephen King\"@en && ?author != \"Stephen King/María Mir\"@en)  # Exclude specific authors\n",
    "}\n",
    "ORDER BY DESC(?bookRating)\n",
    "\n",
    "```"
   ]
  },
  {
   "cell_type": "code",
   "execution_count": 10,
   "metadata": {},
   "outputs": [],
   "source": [
    "#Importing our CSV file\n",
    "\n",
    "book_dataset = pd.read_csv('Book_dataset.csv')"
   ]
  },
  {
   "cell_type": "markdown",
   "metadata": {},
   "source": [
    "## Visualizing RESULTS!"
   ]
  },
  {
   "cell_type": "code",
   "execution_count": 53,
   "metadata": {},
   "outputs": [
    {
     "name": "stdout",
     "output_type": "stream",
     "text": [
      "Title: Charlotte's Web, Author: E.B. White/Garth Williams, Ratings: 223, Review Ratio: 0.098654708520179372197309, Book Rating: 4.17, Genre: fairy tale, Published Year: 1954\n",
      "Title: Charlotte's Web, Author: E.B. White/Garth Williams, Ratings: 223, Review Ratio: 0.098654708520179372197309, Book Rating: 4.17, Genre: children's novel, Published Year: 1954\n",
      "Title: The Ultimate Guide to Anal Sex for Women, Author: Tristan Taormino, Ratings: 382, Review Ratio: 0.068062827225130890052356, Book Rating: 4.11, Genre: pornographic film, Published Year: 1997\n",
      "Title: Dandelion Wine, Author: Ray Bradbury, Ratings: 676, Review Ratio: 0.176035502958579881656805, Book Rating: 4.09, Genre: fantasy, Published Year: 1957\n",
      "Title: Polgara the Sorceress, Author: David Eddings/Leigh Eddings, Ratings: 25145, Review Ratio: 0.011572877311592761980513, Book Rating: 4.09, Genre: high fantasy, Published Year: 1997\n",
      "Title: Polgara the Sorceress, Author: David Eddings/Leigh Eddings, Ratings: 25145, Review Ratio: 0.011572877311592761980513, Book Rating: 4.09, Genre: speculative/fantastic fiction novel, Published Year: 1997\n",
      "Title: One Hundred Years of Solitude, Author: Gabriel García Márquez/Gregory Rabassa, Ratings: 3437, Review Ratio: 0.091940645912132673843468, Book Rating: 4.07, Genre: magic realism, Published Year: 1967\n",
      "Title: Burr, Author: Gore Vidal, Ratings: 7265, Review Ratio: 0.072401927047487955953200, Book Rating: 4.07, Genre: historical fiction, Published Year: 1973\n",
      "Title: Burr, Author: Gore Vidal, Ratings: 7265, Review Ratio: 0.072401927047487955953200, Book Rating: 4.07, Genre: LGBT literature, Published Year: 1973\n",
      "Title: Laughing Gas, Author: P.G. Wodehouse, Ratings: 1723, Review Ratio: 0.074869413813116656993616, Book Rating: 3.89, Genre: comedy, Published Year: 1936\n",
      "Title: Choke, Author: Stuart Woods, Ratings: 2288, Review Ratio: 0.041958041958041958041958, Book Rating: 3.84, Genre: satirical fiction, Published Year: 2001\n",
      "Title: Jailbird, Author: Kurt Vonnegut Jr., Ratings: 17881, Review Ratio: 0.033163693305743526648398, Book Rating: 3.82, Genre: science fiction, Published Year: 1979\n",
      "Title: The Last Days, Author: Raymond Queneau/Barbara Wright/Vivian Kogan, Ratings: 189, Review Ratio: 0.089947089947089947089947, Book Rating: 3.8, Genre: science fiction, Published Year: 2006\n",
      "Title: The Last Days, Author: Raymond Queneau/Barbara Wright/Vivian Kogan, Ratings: 189, Review Ratio: 0.089947089947089947089947, Book Rating: 3.8, Genre: vampire literature, Published Year: 2006\n",
      "Title: The Catcher in the Rye, Author: J.D. Salinger, Ratings: 2457092, Review Ratio: 0.017703447815547810175606, Book Rating: 3.8, Genre: Bildungsroman, Published Year: 1969\n",
      "Title: The Years of Rice and Salt, Author: Kim Stanley Robinson, Ratings: 9344, Review Ratio: 0.106485445205479452054795, Book Rating: 3.73, Genre: alternate history, Published Year: 2002\n",
      "Title: Lurulu, Author: Jack Vance, Ratings: 276, Review Ratio: 0.072463768115942028985507, Book Rating: 3.59, Genre: science fiction, Published Year: 2004\n",
      "Title: Answered Prayers, Author: Truman Capote, Ratings: 102, Review Ratio: 0.166666666666666666666667, Book Rating: 3.49, Genre: roman à clef, Published Year: 1986\n",
      "Title: Answered Prayers, Author: Truman Capote, Ratings: 102, Review Ratio: 0.166666666666666666666667, Book Rating: 3.49, Genre: political fiction, Published Year: 1986\n",
      "Title: Answered Prayers, Author: Truman Capote, Ratings: 102, Review Ratio: 0.166666666666666666666667, Book Rating: 3.49, Genre: romantic fiction, Published Year: 1986\n",
      "Title: Answered Prayers, Author: Truman Capote, Ratings: 102, Review Ratio: 0.166666666666666666666667, Book Rating: 3.49, Genre: roman à clef, Published Year: 2002\n",
      "Title: Answered Prayers, Author: Truman Capote, Ratings: 102, Review Ratio: 0.166666666666666666666667, Book Rating: 3.49, Genre: political fiction, Published Year: 2002\n",
      "Title: Answered Prayers, Author: Truman Capote, Ratings: 102, Review Ratio: 0.166666666666666666666667, Book Rating: 3.49, Genre: romantic fiction, Published Year: 2002\n"
     ]
    }
   ],
   "source": [
    "#We will now visualize the results using rdf lib\n",
    "#Connecting to the graph in GRAPHDB, and then showing the triples\n",
    "\n",
    "from rdflib import Graph, Literal, RDF, URIRef, Namespace\n",
    "from SPARQLWrapper import SPARQLWrapper, JSON\n",
    "\n",
    "sparql_endpoint =\"http://Rumpelstiltskin:7200/repositories/Project\"\n",
    "sparql_query = \"\"\"\n",
    "prefix owl: <http://www.w3.org/2002/07/owl#> \n",
    "prefix rdf: <http://www.w3.org/1999/02/22-rdf-syntax-ns#> \n",
    "prefix xml: <http://www.w3.org/XML/1998/namespace> \n",
    "prefix xsd: <http://www.w3.org/2001/XMLSchema#> \n",
    "prefix rdfs: <http://www.w3.org/2000/01/rdf-schema#>\n",
    "PREFIX wod: <https://ecampus.paris-saclay.fr/wod/bhatt/>\n",
    "PREFIX wd: <http://www.wikidata.org/entity/>\n",
    "PREFIX wdt: <http://www.wikidata.org/prop/direct/>\n",
    "\n",
    "SELECT ?bookTitle ?author (xsd:decimal(?ratingsCount) AS ?ratings) (xsd:decimal(?textReviewsCount) / xsd:decimal(?ratingsCount) AS ?reviewRatio) ?bookRating ?genreLabel ?publishedYear\n",
    "WHERE {\n",
    "  ?book a wod:Book;\n",
    "        rdfs:label ?bookTitle;\n",
    "        wod:authors ?author;\n",
    "        wod:ratings_count ?ratingsCount;\n",
    "        wod:average_rating ?bookRating;\n",
    "        wod:text_reviews_count ?textReviewsCount;\n",
    "        wod:genre ?genreLabel;\n",
    "        wod:publicationYear ?publishedYear.\n",
    "\n",
    "  FILTER(xsd:decimal(?ratingsCount) > 0)\n",
    "  FILTER(?author != \"Stephen King\"@en && ?author != \"Stephen King/María Mir\"@en)  # Exclude specific authors\n",
    "}\n",
    "ORDER BY DESC(?bookRating)\n",
    "\"\"\"\n",
    "\n",
    "#Initializing the SPARQL Wrapper\n",
    "sparql = SPARQLWrapper(sparql_endpoint)\n",
    "sparql.setQuery(sparql_query)\n",
    "sparql.setReturnFormat(JSON)\n",
    "\n",
    "#Executing the query\n",
    "results = sparql.query().convert()\n",
    "\n",
    "#Printing the resul\\\n",
    "for result in results[\"results\"][\"bindings\"]:\n",
    "    bookTitle = result[\"bookTitle\"][\"value\"]\n",
    "    author = result[\"author\"][\"value\"]\n",
    "    ratings = result[\"ratings\"][\"value\"]\n",
    "    reviewRatio = result[\"reviewRatio\"][\"value\"]\n",
    "    bookRating = result[\"bookRating\"][\"value\"]\n",
    "    genreLabel = result[\"genreLabel\"][\"value\"]\n",
    "    publishedYear = result[\"publishedYear\"][\"value\"]\n",
    "\n",
    "    print(f\"Title: {bookTitle}, Author: {author}, Ratings: {ratings}, Review Ratio: {reviewRatio}, Book Rating: {bookRating}, Genre: {genreLabel}, Published Year: {publishedYear}\")"
   ]
  },
  {
   "cell_type": "code",
   "execution_count": 54,
   "metadata": {},
   "outputs": [
    {
     "data": {
      "image/png": "[encoded data removed]",
      "text/plain": [
       "<Figure size 640x480 with 1 Axes>"
      ]
     },
     "metadata": {},
     "output_type": "display_data"
    }
   ],
   "source": [
    "import matplotlib.pyplot as plt\n",
    "from SPARQLWrapper import SPARQLWrapper, JSON\n",
    "\n",
    "sparql_endpoint =\"http://Rumpelstiltskin:7200/repositories/Project\"\n",
    "sparql_query = \"\"\"\n",
    "prefix owl: <http://www.w3.org/2002/07/owl#> \n",
    "prefix rdf: <http://www.w3.org/1999/02/22-rdf-syntax-ns#> \n",
    "prefix xml: <http://www.w3.org/XML/1998/namespace> \n",
    "prefix xsd: <http://www.w3.org/2001/XMLSchema#> \n",
    "prefix rdfs: <http://www.w3.org/2000/01/rdf-schema#>\n",
    "PREFIX wod: <https://ecampus.paris-saclay.fr/wod/bhatt/>\n",
    "PREFIX wd: <http://www.wikidata.org/entity/>\n",
    "PREFIX wdt: <http://www.wikidata.org/prop/direct/>\n",
    "\n",
    "SELECT ?bookTitle ?author (xsd:decimal(?ratingsCount) AS ?ratings) (xsd:decimal(?textReviewsCount) / xsd:decimal(?ratingsCount) AS ?reviewRatio) ?bookRating ?genreLabel ?publishedYear\n",
    "WHERE {\n",
    "  ?book a wod:Book;\n",
    "        rdfs:label ?bookTitle;\n",
    "        wod:authors ?author;\n",
    "        wod:ratings_count ?ratingsCount;\n",
    "        wod:average_rating ?bookRating;\n",
    "        wod:text_reviews_count ?textReviewsCount;\n",
    "        wod:genre ?genreLabel;\n",
    "        wod:publicationYear ?publishedYear.\n",
    "\n",
    "  FILTER(xsd:decimal(?ratingsCount) > 0)\n",
    "  FILTER(?author != \"Stephen King\"@en && ?author != \"Stephen King/María Mir\"@en)  # Exclude specific authors\n",
    "}\n",
    "ORDER BY DESC(?bookRating)\n",
    "\"\"\"\n",
    "\n",
    "#Initializing the SPARQL Wrapper\n",
    "sparql = SPARQLWrapper(sparql_endpoint)\n",
    "sparql.setQuery(sparql_query)\n",
    "sparql.setReturnFormat(JSON)\n",
    "\n",
    "#Executing the query\n",
    "results = sparql.query().convert()\n",
    "\n",
    "# Prepare data for visualization\n",
    "labels = []\n",
    "values = []\n",
    "\n",
    "for result in results[\"results\"][\"bindings\"]:\n",
    "    label = result[\"genreLabel\"][\"value\"]\n",
    "    value = float(result[\"bookRating\"][\"value\"])  # Assuming bookRating is a numerical value\n",
    "    labels.append(label)\n",
    "    values.append(value)\n",
    "\n",
    "# Create a histogram \n",
    "plt.bar(labels, values)\n",
    "plt.xticks(rotation=90)\n",
    "plt.xlabel(\"Genre\")\n",
    "plt.ylabel(\"Average Rating\")\n",
    "plt.title(\"Average Rating by Genre\")\n",
    "plt.show()\n",
    "\n"
   ]
  },
  {
   "cell_type": "markdown",
   "metadata": {},
   "source": [
    "#### To visualize the results, much more efficiently, without, executing the query over and over again, I will store the results of the query in a dataframe and use that to discuss the plots, and their inference."
   ]
  },
  {
   "cell_type": "code",
   "execution_count": 55,
   "metadata": {},
   "outputs": [
    {
     "data": {
      "text/html": [
       "<div>\n",
       "<style scoped>\n",
       "    .dataframe tbody tr th:only-of-type {\n",
       "        vertical-align: middle;\n",
       "    }\n",
       "\n",
       "    .dataframe tbody tr th {\n",
       "        vertical-align: top;\n",
       "    }\n",
       "\n",
       "    .dataframe thead th {\n",
       "        text-align: right;\n",
       "    }\n",
       "</style>\n",
       "<table border=\"1\" class=\"dataframe\">\n",
       "  <thead>\n",
       "    <tr style=\"text-align: right;\">\n",
       "      <th></th>\n",
       "      <th>Title</th>\n",
       "      <th>Author</th>\n",
       "      <th>Ratings</th>\n",
       "      <th>Review Ratio</th>\n",
       "      <th>Book Rating</th>\n",
       "      <th>Genre</th>\n",
       "      <th>Published Year</th>\n",
       "    </tr>\n",
       "  </thead>\n",
       "  <tbody>\n",
       "    <tr>\n",
       "      <th>3</th>\n",
       "      <td>Dandelion Wine</td>\n",
       "      <td>Ray Bradbury</td>\n",
       "      <td>676</td>\n",
       "      <td>0.176035502958579881656805</td>\n",
       "      <td>4.09</td>\n",
       "      <td>fantasy</td>\n",
       "      <td>1957</td>\n",
       "    </tr>\n",
       "    <tr>\n",
       "      <th>22</th>\n",
       "      <td>Answered Prayers</td>\n",
       "      <td>Truman Capote</td>\n",
       "      <td>102</td>\n",
       "      <td>0.166666666666666666666667</td>\n",
       "      <td>3.49</td>\n",
       "      <td>romantic fiction</td>\n",
       "      <td>2002</td>\n",
       "    </tr>\n",
       "    <tr>\n",
       "      <th>21</th>\n",
       "      <td>Answered Prayers</td>\n",
       "      <td>Truman Capote</td>\n",
       "      <td>102</td>\n",
       "      <td>0.166666666666666666666667</td>\n",
       "      <td>3.49</td>\n",
       "      <td>political fiction</td>\n",
       "      <td>2002</td>\n",
       "    </tr>\n",
       "    <tr>\n",
       "      <th>20</th>\n",
       "      <td>Answered Prayers</td>\n",
       "      <td>Truman Capote</td>\n",
       "      <td>102</td>\n",
       "      <td>0.166666666666666666666667</td>\n",
       "      <td>3.49</td>\n",
       "      <td>roman à clef</td>\n",
       "      <td>2002</td>\n",
       "    </tr>\n",
       "    <tr>\n",
       "      <th>19</th>\n",
       "      <td>Answered Prayers</td>\n",
       "      <td>Truman Capote</td>\n",
       "      <td>102</td>\n",
       "      <td>0.166666666666666666666667</td>\n",
       "      <td>3.49</td>\n",
       "      <td>romantic fiction</td>\n",
       "      <td>1986</td>\n",
       "    </tr>\n",
       "    <tr>\n",
       "      <th>18</th>\n",
       "      <td>Answered Prayers</td>\n",
       "      <td>Truman Capote</td>\n",
       "      <td>102</td>\n",
       "      <td>0.166666666666666666666667</td>\n",
       "      <td>3.49</td>\n",
       "      <td>political fiction</td>\n",
       "      <td>1986</td>\n",
       "    </tr>\n",
       "    <tr>\n",
       "      <th>17</th>\n",
       "      <td>Answered Prayers</td>\n",
       "      <td>Truman Capote</td>\n",
       "      <td>102</td>\n",
       "      <td>0.166666666666666666666667</td>\n",
       "      <td>3.49</td>\n",
       "      <td>roman à clef</td>\n",
       "      <td>1986</td>\n",
       "    </tr>\n",
       "    <tr>\n",
       "      <th>15</th>\n",
       "      <td>The Years of Rice and Salt</td>\n",
       "      <td>Kim Stanley Robinson</td>\n",
       "      <td>9344</td>\n",
       "      <td>0.106485445205479452054795</td>\n",
       "      <td>3.73</td>\n",
       "      <td>alternate history</td>\n",
       "      <td>2002</td>\n",
       "    </tr>\n",
       "    <tr>\n",
       "      <th>1</th>\n",
       "      <td>Charlotte's Web</td>\n",
       "      <td>E.B. White/Garth Williams</td>\n",
       "      <td>223</td>\n",
       "      <td>0.098654708520179372197309</td>\n",
       "      <td>4.17</td>\n",
       "      <td>children's novel</td>\n",
       "      <td>1954</td>\n",
       "    </tr>\n",
       "    <tr>\n",
       "      <th>0</th>\n",
       "      <td>Charlotte's Web</td>\n",
       "      <td>E.B. White/Garth Williams</td>\n",
       "      <td>223</td>\n",
       "      <td>0.098654708520179372197309</td>\n",
       "      <td>4.17</td>\n",
       "      <td>fairy tale</td>\n",
       "      <td>1954</td>\n",
       "    </tr>\n",
       "    <tr>\n",
       "      <th>6</th>\n",
       "      <td>One Hundred Years of Solitude</td>\n",
       "      <td>Gabriel García Márquez/Gregory Rabassa</td>\n",
       "      <td>3437</td>\n",
       "      <td>0.091940645912132673843468</td>\n",
       "      <td>4.07</td>\n",
       "      <td>magic realism</td>\n",
       "      <td>1967</td>\n",
       "    </tr>\n",
       "    <tr>\n",
       "      <th>12</th>\n",
       "      <td>The Last Days</td>\n",
       "      <td>Raymond Queneau/Barbara Wright/Vivian Kogan</td>\n",
       "      <td>189</td>\n",
       "      <td>0.089947089947089947089947</td>\n",
       "      <td>3.8</td>\n",
       "      <td>science fiction</td>\n",
       "      <td>2006</td>\n",
       "    </tr>\n",
       "    <tr>\n",
       "      <th>13</th>\n",
       "      <td>The Last Days</td>\n",
       "      <td>Raymond Queneau/Barbara Wright/Vivian Kogan</td>\n",
       "      <td>189</td>\n",
       "      <td>0.089947089947089947089947</td>\n",
       "      <td>3.8</td>\n",
       "      <td>vampire literature</td>\n",
       "      <td>2006</td>\n",
       "    </tr>\n",
       "    <tr>\n",
       "      <th>9</th>\n",
       "      <td>Laughing Gas</td>\n",
       "      <td>P.G. Wodehouse</td>\n",
       "      <td>1723</td>\n",
       "      <td>0.074869413813116656993616</td>\n",
       "      <td>3.89</td>\n",
       "      <td>comedy</td>\n",
       "      <td>1936</td>\n",
       "    </tr>\n",
       "    <tr>\n",
       "      <th>16</th>\n",
       "      <td>Lurulu</td>\n",
       "      <td>Jack Vance</td>\n",
       "      <td>276</td>\n",
       "      <td>0.072463768115942028985507</td>\n",
       "      <td>3.59</td>\n",
       "      <td>science fiction</td>\n",
       "      <td>2004</td>\n",
       "    </tr>\n",
       "  </tbody>\n",
       "</table>\n",
       "</div>"
      ],
      "text/plain": [
       "                            Title  \\\n",
       "3                  Dandelion Wine   \n",
       "22               Answered Prayers   \n",
       "21               Answered Prayers   \n",
       "20               Answered Prayers   \n",
       "19               Answered Prayers   \n",
       "18               Answered Prayers   \n",
       "17               Answered Prayers   \n",
       "15     The Years of Rice and Salt   \n",
       "1                 Charlotte's Web   \n",
       "0                 Charlotte's Web   \n",
       "6   One Hundred Years of Solitude   \n",
       "12                  The Last Days   \n",
       "13                  The Last Days   \n",
       "9                    Laughing Gas   \n",
       "16                         Lurulu   \n",
       "\n",
       "                                         Author Ratings  \\\n",
       "3                                  Ray Bradbury     676   \n",
       "22                                Truman Capote     102   \n",
       "21                                Truman Capote     102   \n",
       "20                                Truman Capote     102   \n",
       "19                                Truman Capote     102   \n",
       "18                                Truman Capote     102   \n",
       "17                                Truman Capote     102   \n",
       "15                         Kim Stanley Robinson    9344   \n",
       "1                     E.B. White/Garth Williams     223   \n",
       "0                     E.B. White/Garth Williams     223   \n",
       "6        Gabriel García Márquez/Gregory Rabassa    3437   \n",
       "12  Raymond Queneau/Barbara Wright/Vivian Kogan     189   \n",
       "13  Raymond Queneau/Barbara Wright/Vivian Kogan     189   \n",
       "9                                P.G. Wodehouse    1723   \n",
       "16                                   Jack Vance     276   \n",
       "\n",
       "                  Review Ratio Book Rating               Genre Published Year  \n",
       "3   0.176035502958579881656805        4.09             fantasy           1957  \n",
       "22  0.166666666666666666666667        3.49    romantic fiction           2002  \n",
       "21  0.166666666666666666666667        3.49   political fiction           2002  \n",
       "20  0.166666666666666666666667        3.49        roman à clef           2002  \n",
       "19  0.166666666666666666666667        3.49    romantic fiction           1986  \n",
       "18  0.166666666666666666666667        3.49   political fiction           1986  \n",
       "17  0.166666666666666666666667        3.49        roman à clef           1986  \n",
       "15  0.106485445205479452054795        3.73   alternate history           2002  \n",
       "1   0.098654708520179372197309        4.17    children's novel           1954  \n",
       "0   0.098654708520179372197309        4.17          fairy tale           1954  \n",
       "6   0.091940645912132673843468        4.07       magic realism           1967  \n",
       "12  0.089947089947089947089947         3.8     science fiction           2006  \n",
       "13  0.089947089947089947089947         3.8  vampire literature           2006  \n",
       "9   0.074869413813116656993616        3.89              comedy           1936  \n",
       "16  0.072463768115942028985507        3.59     science fiction           2004  "
      ]
     },
     "execution_count": 55,
     "metadata": {},
     "output_type": "execute_result"
    }
   ],
   "source": [
    "data_list = []\n",
    "\n",
    "for result in results[\"results\"][\"bindings\"]:\n",
    "    row = {\n",
    "        \"Title\": result[\"bookTitle\"][\"value\"],\n",
    "        \"Author\": result[\"author\"][\"value\"],\n",
    "        \"Ratings\": result[\"ratings\"][\"value\"],\n",
    "        \"Review Ratio\": result[\"reviewRatio\"][\"value\"],\n",
    "        \"Book Rating\": result[\"bookRating\"][\"value\"],\n",
    "        \"Genre\": result[\"genreLabel\"][\"value\"],\n",
    "        \"Published Year\": result[\"publishedYear\"][\"value\"]\n",
    "    }\n",
    "    data_list.append(row)\n",
    "\n",
    "# Convert the list of dictionaries to a Pandas DataFrame\n",
    "result_df = pd.DataFrame(data_list)\n",
    "\n",
    "result_df = result_df.sort_values(by='Review Ratio', ascending=False)\n",
    "result_df.head(15)"
   ]
  },
  {
   "cell_type": "code",
   "execution_count": 15,
   "metadata": {},
   "outputs": [],
   "source": [
    "import plotly.express as px\n",
    "import plotly.graph_objects as go"
   ]
  },
  {
   "cell_type": "code",
   "execution_count": 56,
   "metadata": {},
   "outputs": [
    {
     "data": {
      "application/vnd.plotly.v1+json": {
       "config": {
        "plotlyServerURL": "https://plot.ly"
       },
       "data": [
        {
         "coloraxis": "coloraxis",
         "histfunc": "sum",
         "hovertemplate": "Published Year=%{x}<br>Genre=%{y}<br>sum of Review Ratio=%{z}<extra></extra>",
         "name": "",
         "type": "histogram2d",
         "x": [
          "1957",
          "2002",
          "2002",
          "2002",
          "1986",
          "1986",
          "1986",
          "2002",
          "1954",
          "1954",
          "1967",
          "2006",
          "2006",
          "1936",
          "2004",
          "1973",
          "1973",
          "1997",
          "2001",
          "1979",
          "1969",
          "1997",
          "1997"
         ],
         "xaxis": "x",
         "xbingroup": "x",
         "y": [
          "fantasy",
          "romantic fiction",
          "political fiction",
          "roman à clef",
          "romantic fiction",
          "political fiction",
          "roman à clef",
          "alternate history",
          "children's novel",
          "fairy tale",
          "magic realism",
          "science fiction",
          "vampire literature",
          "comedy",
          "science fiction",
          "LGBT literature",
          "historical fiction",
          "pornographic film",
          "satirical fiction",
          "science fiction",
          "Bildungsroman",
          "speculative/fantastic fiction novel",
          "high fantasy"
         ],
         "yaxis": "y",
         "ybingroup": "y",
         "z": [
          "0.176035502958579881656805",
          "0.166666666666666666666667",
          "0.166666666666666666666667",
          "0.166666666666666666666667",
          "0.166666666666666666666667",
          "0.166666666666666666666667",
          "0.166666666666666666666667",
          "0.106485445205479452054795",
          "0.098654708520179372197309",
          "0.098654708520179372197309",
          "0.091940645912132673843468",
          "0.089947089947089947089947",
          "0.089947089947089947089947",
          "0.074869413813116656993616",
          "0.072463768115942028985507",
          "0.072401927047487955953200",
          "0.072401927047487955953200",
          "0.068062827225130890052356",
          "0.041958041958041958041958",
          "0.033163693305743526648398",
          "0.017703447815547810175606",
          "0.011572877311592761980513",
          "0.011572877311592761980513"
         ]
        }
       ],
       "layout": {
        "coloraxis": {
         "colorbar": {
          "title": {
           "text": "sum of Review Ratio"
          }
         },
         "colorscale": [
          [
           0,
           "#0d0887"
          ],
          [
           0.1111111111111111,
           "#46039f"
          ],
          [
           0.2222222222222222,
           "#7201a8"
          ],
          [
           0.3333333333333333,
           "#9c179e"
          ],
          [
           0.4444444444444444,
           "#bd3786"
          ],
          [
           0.5555555555555556,
           "#d8576b"
          ],
          [
           0.6666666666666666,
           "#ed7953"
          ],
          [
           0.7777777777777778,
           "#fb9f3a"
          ],
          [
           0.8888888888888888,
           "#fdca26"
          ],
          [
           1,
           "#f0f921"
          ]
         ]
        },
        "legend": {
         "tracegroupgap": 0
        },
        "template": {
         "data": {
          "bar": [
           {
            "error_x": {
             "color": "#f2f5fa"
            },
            "error_y": {
             "color": "#f2f5fa"
            },
            "marker": {
             "line": {
              "color": "rgb(17,17,17)",
              "width": 0.5
             },
             "pattern": {
              "fillmode": "overlay",
              "size": 10,
              "solidity": 0.2
             }
            },
            "type": "bar"
           }
          ],
          "barpolar": [
           {
            "marker": {
             "line": {
              "color": "rgb(17,17,17)",
              "width": 0.5
             },
             "pattern": {
              "fillmode": "overlay",
              "size": 10,
              "solidity": 0.2
             }
            },
            "type": "barpolar"
           }
          ],
          "carpet": [
           {
            "aaxis": {
             "endlinecolor": "#A2B1C6",
             "gridcolor": "#506784",
             "linecolor": "#506784",
             "minorgridcolor": "#506784",
             "startlinecolor": "#A2B1C6"
            },
            "baxis": {
             "endlinecolor": "#A2B1C6",
             "gridcolor": "#506784",
             "linecolor": "#506784",
             "minorgridcolor": "#506784",
             "startlinecolor": "#A2B1C6"
            },
            "type": "carpet"
           }
          ],
          "choropleth": [
           {
            "colorbar": {
             "outlinewidth": 0,
             "ticks": ""
            },
            "type": "choropleth"
           }
          ],
          "contour": [
           {
            "colorbar": {
             "outlinewidth": 0,
             "ticks": ""
            },
            "colorscale": [
             [
              0,
              "#0d0887"
             ],
             [
              0.1111111111111111,
              "#46039f"
             ],
             [
              0.2222222222222222,
              "#7201a8"
             ],
             [
              0.3333333333333333,
              "#9c179e"
             ],
             [
              0.4444444444444444,
              "#bd3786"
             ],
             [
              0.5555555555555556,
              "#d8576b"
             ],
             [
              0.6666666666666666,
              "#ed7953"
             ],
             [
              0.7777777777777778,
              "#fb9f3a"
             ],
             [
              0.8888888888888888,
              "#fdca26"
             ],
             [
              1,
              "#f0f921"
             ]
            ],
            "type": "contour"
           }
          ],
          "contourcarpet": [
           {
            "colorbar": {
             "outlinewidth": 0,
             "ticks": ""
            },
            "type": "contourcarpet"
           }
          ],
          "heatmap": [
           {
            "colorbar": {
             "outlinewidth": 0,
             "ticks": ""
            },
            "colorscale": [
             [
              0,
              "#0d0887"
             ],
             [
              0.1111111111111111,
              "#46039f"
             ],
             [
              0.2222222222222222,
              "#7201a8"
             ],
             [
              0.3333333333333333,
              "#9c179e"
             ],
             [
              0.4444444444444444,
              "#bd3786"
             ],
             [
              0.5555555555555556,
              "#d8576b"
             ],
             [
              0.6666666666666666,
              "#ed7953"
             ],
             [
              0.7777777777777778,
              "#fb9f3a"
             ],
             [
              0.8888888888888888,
              "#fdca26"
             ],
             [
              1,
              "#f0f921"
             ]
            ],
            "type": "heatmap"
           }
          ],
          "heatmapgl": [
           {
            "colorbar": {
             "outlinewidth": 0,
             "ticks": ""
            },
            "colorscale": [
             [
              0,
              "#0d0887"
             ],
             [
              0.1111111111111111,
              "#46039f"
             ],
             [
              0.2222222222222222,
              "#7201a8"
             ],
             [
              0.3333333333333333,
              "#9c179e"
             ],
             [
              0.4444444444444444,
              "#bd3786"
             ],
             [
              0.5555555555555556,
              "#d8576b"
             ],
             [
              0.6666666666666666,
              "#ed7953"
             ],
             [
              0.7777777777777778,
              "#fb9f3a"
             ],
             [
              0.8888888888888888,
              "#fdca26"
             ],
             [
              1,
              "#f0f921"
             ]
            ],
            "type": "heatmapgl"
           }
          ],
          "histogram": [
           {
            "marker": {
             "pattern": {
              "fillmode": "overlay",
              "size": 10,
              "solidity": 0.2
             }
            },
            "type": "histogram"
           }
          ],
          "histogram2d": [
           {
            "colorbar": {
             "outlinewidth": 0,
             "ticks": ""
            },
            "colorscale": [
             [
              0,
              "#0d0887"
             ],
             [
              0.1111111111111111,
              "#46039f"
             ],
             [
              0.2222222222222222,
              "#7201a8"
             ],
             [
              0.3333333333333333,
              "#9c179e"
             ],
             [
              0.4444444444444444,
              "#bd3786"
             ],
             [
              0.5555555555555556,
              "#d8576b"
             ],
             [
              0.6666666666666666,
              "#ed7953"
             ],
             [
              0.7777777777777778,
              "#fb9f3a"
             ],
             [
              0.8888888888888888,
              "#fdca26"
             ],
             [
              1,
              "#f0f921"
             ]
            ],
            "type": "histogram2d"
           }
          ],
          "histogram2dcontour": [
           {
            "colorbar": {
             "outlinewidth": 0,
             "ticks": ""
            },
            "colorscale": [
             [
              0,
              "#0d0887"
             ],
             [
              0.1111111111111111,
              "#46039f"
             ],
             [
              0.2222222222222222,
              "#7201a8"
             ],
             [
              0.3333333333333333,
              "#9c179e"
             ],
             [
              0.4444444444444444,
              "#bd3786"
             ],
             [
              0.5555555555555556,
              "#d8576b"
             ],
             [
              0.6666666666666666,
              "#ed7953"
             ],
             [
              0.7777777777777778,
              "#fb9f3a"
             ],
             [
              0.8888888888888888,
              "#fdca26"
             ],
             [
              1,
              "#f0f921"
             ]
            ],
            "type": "histogram2dcontour"
           }
          ],
          "mesh3d": [
           {
            "colorbar": {
             "outlinewidth": 0,
             "ticks": ""
            },
            "type": "mesh3d"
           }
          ],
          "parcoords": [
           {
            "line": {
             "colorbar": {
              "outlinewidth": 0,
              "ticks": ""
             }
            },
            "type": "parcoords"
           }
          ],
          "pie": [
           {
            "automargin": true,
            "type": "pie"
           }
          ],
          "scatter": [
           {
            "marker": {
             "line": {
              "color": "#283442"
             }
            },
            "type": "scatter"
           }
          ],
          "scatter3d": [
           {
            "line": {
             "colorbar": {
              "outlinewidth": 0,
              "ticks": ""
             }
            },
            "marker": {
             "colorbar": {
              "outlinewidth": 0,
              "ticks": ""
             }
            },
            "type": "scatter3d"
           }
          ],
          "scattercarpet": [
           {
            "marker": {
             "colorbar": {
              "outlinewidth": 0,
              "ticks": ""
             }
            },
            "type": "scattercarpet"
           }
          ],
          "scattergeo": [
           {
            "marker": {
             "colorbar": {
              "outlinewidth": 0,
              "ticks": ""
             }
            },
            "type": "scattergeo"
           }
          ],
          "scattergl": [
           {
            "marker": {
             "line": {
              "color": "#283442"
             }
            },
            "type": "scattergl"
           }
          ],
          "scattermapbox": [
           {
            "marker": {
             "colorbar": {
              "outlinewidth": 0,
              "ticks": ""
             }
            },
            "type": "scattermapbox"
           }
          ],
          "scatterpolar": [
           {
            "marker": {
             "colorbar": {
              "outlinewidth": 0,
              "ticks": ""
             }
            },
            "type": "scatterpolar"
           }
          ],
          "scatterpolargl": [
           {
            "marker": {
             "colorbar": {
              "outlinewidth": 0,
              "ticks": ""
             }
            },
            "type": "scatterpolargl"
           }
          ],
          "scatterternary": [
           {
            "marker": {
             "colorbar": {
              "outlinewidth": 0,
              "ticks": ""
             }
            },
            "type": "scatterternary"
           }
          ],
          "surface": [
           {
            "colorbar": {
             "outlinewidth": 0,
             "ticks": ""
            },
            "colorscale": [
             [
              0,
              "#0d0887"
             ],
             [
              0.1111111111111111,
              "#46039f"
             ],
             [
              0.2222222222222222,
              "#7201a8"
             ],
             [
              0.3333333333333333,
              "#9c179e"
             ],
             [
              0.4444444444444444,
              "#bd3786"
             ],
             [
              0.5555555555555556,
              "#d8576b"
             ],
             [
              0.6666666666666666,
              "#ed7953"
             ],
             [
              0.7777777777777778,
              "#fb9f3a"
             ],
             [
              0.8888888888888888,
              "#fdca26"
             ],
             [
              1,
              "#f0f921"
             ]
            ],
            "type": "surface"
           }
          ],
          "table": [
           {
            "cells": {
             "fill": {
              "color": "#506784"
             },
             "line": {
              "color": "rgb(17,17,17)"
             }
            },
            "header": {
             "fill": {
              "color": "#2a3f5f"
             },
             "line": {
              "color": "rgb(17,17,17)"
             }
            },
            "type": "table"
           }
          ]
         },
         "layout": {
          "annotationdefaults": {
           "arrowcolor": "#f2f5fa",
           "arrowhead": 0,
           "arrowwidth": 1
          },
          "autotypenumbers": "strict",
          "coloraxis": {
           "colorbar": {
            "outlinewidth": 0,
            "ticks": ""
           }
          },
          "colorscale": {
           "diverging": [
            [
             0,
             "#8e0152"
            ],
            [
             0.1,
             "#c51b7d"
            ],
            [
             0.2,
             "#de77ae"
            ],
            [
             0.3,
             "#f1b6da"
            ],
            [
             0.4,
             "#fde0ef"
            ],
            [
             0.5,
             "#f7f7f7"
            ],
            [
             0.6,
             "#e6f5d0"
            ],
            [
             0.7,
             "#b8e186"
            ],
            [
             0.8,
             "#7fbc41"
            ],
            [
             0.9,
             "#4d9221"
            ],
            [
             1,
             "#276419"
            ]
           ],
           "sequential": [
            [
             0,
             "#0d0887"
            ],
            [
             0.1111111111111111,
             "#46039f"
            ],
            [
             0.2222222222222222,
             "#7201a8"
            ],
            [
             0.3333333333333333,
             "#9c179e"
            ],
            [
             0.4444444444444444,
             "#bd3786"
            ],
            [
             0.5555555555555556,
             "#d8576b"
            ],
            [
             0.6666666666666666,
             "#ed7953"
            ],
            [
             0.7777777777777778,
             "#fb9f3a"
            ],
            [
             0.8888888888888888,
             "#fdca26"
            ],
            [
             1,
             "#f0f921"
            ]
           ],
           "sequentialminus": [
            [
             0,
             "#0d0887"
            ],
            [
             0.1111111111111111,
             "#46039f"
            ],
            [
             0.2222222222222222,
             "#7201a8"
            ],
            [
             0.3333333333333333,
             "#9c179e"
            ],
            [
             0.4444444444444444,
             "#bd3786"
            ],
            [
             0.5555555555555556,
             "#d8576b"
            ],
            [
             0.6666666666666666,
             "#ed7953"
            ],
            [
             0.7777777777777778,
             "#fb9f3a"
            ],
            [
             0.8888888888888888,
             "#fdca26"
            ],
            [
             1,
             "#f0f921"
            ]
           ]
          },
          "colorway": [
           "#636efa",
           "#EF553B",
           "#00cc96",
           "#ab63fa",
           "#FFA15A",
           "#19d3f3",
           "#FF6692",
           "#B6E880",
           "#FF97FF",
           "#FECB52"
          ],
          "font": {
           "color": "#f2f5fa"
          },
          "geo": {
           "bgcolor": "rgb(17,17,17)",
           "lakecolor": "rgb(17,17,17)",
           "landcolor": "rgb(17,17,17)",
           "showlakes": true,
           "showland": true,
           "subunitcolor": "#506784"
          },
          "hoverlabel": {
           "align": "left"
          },
          "hovermode": "closest",
          "mapbox": {
           "style": "dark"
          },
          "paper_bgcolor": "rgb(17,17,17)",
          "plot_bgcolor": "rgb(17,17,17)",
          "polar": {
           "angularaxis": {
            "gridcolor": "#506784",
            "linecolor": "#506784",
            "ticks": ""
           },
           "bgcolor": "rgb(17,17,17)",
           "radialaxis": {
            "gridcolor": "#506784",
            "linecolor": "#506784",
            "ticks": ""
           }
          },
          "scene": {
           "xaxis": {
            "backgroundcolor": "rgb(17,17,17)",
            "gridcolor": "#506784",
            "gridwidth": 2,
            "linecolor": "#506784",
            "showbackground": true,
            "ticks": "",
            "zerolinecolor": "#C8D4E3"
           },
           "yaxis": {
            "backgroundcolor": "rgb(17,17,17)",
            "gridcolor": "#506784",
            "gridwidth": 2,
            "linecolor": "#506784",
            "showbackground": true,
            "ticks": "",
            "zerolinecolor": "#C8D4E3"
           },
           "zaxis": {
            "backgroundcolor": "rgb(17,17,17)",
            "gridcolor": "#506784",
            "gridwidth": 2,
            "linecolor": "#506784",
            "showbackground": true,
            "ticks": "",
            "zerolinecolor": "#C8D4E3"
           }
          },
          "shapedefaults": {
           "line": {
            "color": "#f2f5fa"
           }
          },
          "sliderdefaults": {
           "bgcolor": "#C8D4E3",
           "bordercolor": "rgb(17,17,17)",
           "borderwidth": 1,
           "tickwidth": 0
          },
          "ternary": {
           "aaxis": {
            "gridcolor": "#506784",
            "linecolor": "#506784",
            "ticks": ""
           },
           "baxis": {
            "gridcolor": "#506784",
            "linecolor": "#506784",
            "ticks": ""
           },
           "bgcolor": "rgb(17,17,17)",
           "caxis": {
            "gridcolor": "#506784",
            "linecolor": "#506784",
            "ticks": ""
           }
          },
          "title": {
           "x": 0.05
          },
          "updatemenudefaults": {
           "bgcolor": "#506784",
           "borderwidth": 0
          },
          "xaxis": {
           "automargin": true,
           "gridcolor": "#283442",
           "linecolor": "#506784",
           "ticks": "",
           "title": {
            "standoff": 15
           },
           "zerolinecolor": "#283442",
           "zerolinewidth": 2
          },
          "yaxis": {
           "automargin": true,
           "gridcolor": "#283442",
           "linecolor": "#506784",
           "ticks": "",
           "title": {
            "standoff": 15
           },
           "zerolinecolor": "#283442",
           "zerolinewidth": 2
          }
         }
        },
        "title": {
         "text": "Review Ratio by Genre and Published Year"
        },
        "xaxis": {
         "anchor": "y",
         "domain": [
          0,
          1
         ],
         "title": {
          "text": "Published Year"
         }
        },
        "yaxis": {
         "anchor": "x",
         "domain": [
          0,
          1
         ],
         "title": {
          "text": "Genre"
         }
        }
       }
      }
     },
     "metadata": {},
     "output_type": "display_data"
    }
   ],
   "source": [
    "#Heatmap of the genre and publication year, with the color showing the review ratio\n",
    "\n",
    "fig = px.density_heatmap(result_df, x=\"Published Year\", y=\"Genre\", z=\"Review Ratio\", title=\"Review Ratio by Genre and Published Year\", template='plotly_dark')\n",
    "fig.show()"
   ]
  },
  {
   "cell_type": "markdown",
   "metadata": {},
   "source": [
    "Note: \n",
    "\n",
    "Some years appear to have a higher concentration of books with significant review ratios, which could imply that books published in those years prompted more reader feedback.\n",
    "\n",
    "The distribution of colors shows that not all genres are equally represented each year, and some genres only surface in specific time periods, possibly reflecting trends and shifts in publishing or genre popularity over time."
   ]
  },
  {
   "cell_type": "code",
   "execution_count": 37,
   "metadata": {},
   "outputs": [
    {
     "data": {
      "application/vnd.plotly.v1+json": {
       "config": {
        "plotlyServerURL": "https://plot.ly"
       },
       "data": [
        {
         "alignmentgroup": "True",
         "hovertemplate": "Genre=%{x}<br>Book Rating=%{y}<extra></extra>",
         "legendgroup": "",
         "marker": {
          "color": "#636efa"
         },
         "name": "",
         "notched": false,
         "offsetgroup": "",
         "orientation": "v",
         "showlegend": false,
         "type": "box",
         "x": [
          "fantasy",
          "political fiction",
          "roman à clef",
          "romantic fiction",
          "political fiction",
          "roman à clef",
          "romantic fiction",
          "alternate history",
          "children's novel",
          "fairy tale",
          "magic realism",
          "vampire literature",
          "science fiction",
          "comedy",
          "science fiction",
          "LGBT literature",
          "historical fiction",
          "pornographic film",
          "satirical fiction",
          "science fiction",
          "Bildungsroman",
          "speculative/fantastic fiction novel",
          "high fantasy"
         ],
         "x0": " ",
         "xaxis": "x",
         "y": [
          "4.09",
          "3.49",
          "3.49",
          "3.49",
          "3.49",
          "3.49",
          "3.49",
          "3.73",
          "4.17",
          "4.17",
          "4.07",
          "3.8",
          "3.8",
          "3.89",
          "3.59",
          "4.07",
          "4.07",
          "4.11",
          "3.84",
          "3.82",
          "3.8",
          "4.09",
          "4.09"
         ],
         "y0": " ",
         "yaxis": "y"
        }
       ],
       "layout": {
        "boxmode": "group",
        "legend": {
         "tracegroupgap": 0
        },
        "template": {
         "data": {
          "bar": [
           {
            "error_x": {
             "color": "#f2f5fa"
            },
            "error_y": {
             "color": "#f2f5fa"
            },
            "marker": {
             "line": {
              "color": "rgb(17,17,17)",
              "width": 0.5
             },
             "pattern": {
              "fillmode": "overlay",
              "size": 10,
              "solidity": 0.2
             }
            },
            "type": "bar"
           }
          ],
          "barpolar": [
           {
            "marker": {
             "line": {
              "color": "rgb(17,17,17)",
              "width": 0.5
             },
             "pattern": {
              "fillmode": "overlay",
              "size": 10,
              "solidity": 0.2
             }
            },
            "type": "barpolar"
           }
          ],
          "carpet": [
           {
            "aaxis": {
             "endlinecolor": "#A2B1C6",
             "gridcolor": "#506784",
             "linecolor": "#506784",
             "minorgridcolor": "#506784",
             "startlinecolor": "#A2B1C6"
            },
            "baxis": {
             "endlinecolor": "#A2B1C6",
             "gridcolor": "#506784",
             "linecolor": "#506784",
             "minorgridcolor": "#506784",
             "startlinecolor": "#A2B1C6"
            },
            "type": "carpet"
           }
          ],
          "choropleth": [
           {
            "colorbar": {
             "outlinewidth": 0,
             "ticks": ""
            },
            "type": "choropleth"
           }
          ],
          "contour": [
           {
            "colorbar": {
             "outlinewidth": 0,
             "ticks": ""
            },
            "colorscale": [
             [
              0,
              "#0d0887"
             ],
             [
              0.1111111111111111,
              "#46039f"
             ],
             [
              0.2222222222222222,
              "#7201a8"
             ],
             [
              0.3333333333333333,
              "#9c179e"
             ],
             [
              0.4444444444444444,
              "#bd3786"
             ],
             [
              0.5555555555555556,
              "#d8576b"
             ],
             [
              0.6666666666666666,
              "#ed7953"
             ],
             [
              0.7777777777777778,
              "#fb9f3a"
             ],
             [
              0.8888888888888888,
              "#fdca26"
             ],
             [
              1,
              "#f0f921"
             ]
            ],
            "type": "contour"
           }
          ],
          "contourcarpet": [
           {
            "colorbar": {
             "outlinewidth": 0,
             "ticks": ""
            },
            "type": "contourcarpet"
           }
          ],
          "heatmap": [
           {
            "colorbar": {
             "outlinewidth": 0,
             "ticks": ""
            },
            "colorscale": [
             [
              0,
              "#0d0887"
             ],
             [
              0.1111111111111111,
              "#46039f"
             ],
             [
              0.2222222222222222,
              "#7201a8"
             ],
             [
              0.3333333333333333,
              "#9c179e"
             ],
             [
              0.4444444444444444,
              "#bd3786"
             ],
             [
              0.5555555555555556,
              "#d8576b"
             ],
             [
              0.6666666666666666,
              "#ed7953"
             ],
             [
              0.7777777777777778,
              "#fb9f3a"
             ],
             [
              0.8888888888888888,
              "#fdca26"
             ],
             [
              1,
              "#f0f921"
             ]
            ],
            "type": "heatmap"
           }
          ],
          "heatmapgl": [
           {
            "colorbar": {
             "outlinewidth": 0,
             "ticks": ""
            },
            "colorscale": [
             [
              0,
              "#0d0887"
             ],
             [
              0.1111111111111111,
              "#46039f"
             ],
             [
              0.2222222222222222,
              "#7201a8"
             ],
             [
              0.3333333333333333,
              "#9c179e"
             ],
             [
              0.4444444444444444,
              "#bd3786"
             ],
             [
              0.5555555555555556,
              "#d8576b"
             ],
             [
              0.6666666666666666,
              "#ed7953"
             ],
             [
              0.7777777777777778,
              "#fb9f3a"
             ],
             [
              0.8888888888888888,
              "#fdca26"
             ],
             [
              1,
              "#f0f921"
             ]
            ],
            "type": "heatmapgl"
           }
          ],
          "histogram": [
           {
            "marker": {
             "pattern": {
              "fillmode": "overlay",
              "size": 10,
              "solidity": 0.2
             }
            },
            "type": "histogram"
           }
          ],
          "histogram2d": [
           {
            "colorbar": {
             "outlinewidth": 0,
             "ticks": ""
            },
            "colorscale": [
             [
              0,
              "#0d0887"
             ],
             [
              0.1111111111111111,
              "#46039f"
             ],
             [
              0.2222222222222222,
              "#7201a8"
             ],
             [
              0.3333333333333333,
              "#9c179e"
             ],
             [
              0.4444444444444444,
              "#bd3786"
             ],
             [
              0.5555555555555556,
              "#d8576b"
             ],
             [
              0.6666666666666666,
              "#ed7953"
             ],
             [
              0.7777777777777778,
              "#fb9f3a"
             ],
             [
              0.8888888888888888,
              "#fdca26"
             ],
             [
              1,
              "#f0f921"
             ]
            ],
            "type": "histogram2d"
           }
          ],
          "histogram2dcontour": [
           {
            "colorbar": {
             "outlinewidth": 0,
             "ticks": ""
            },
            "colorscale": [
             [
              0,
              "#0d0887"
             ],
             [
              0.1111111111111111,
              "#46039f"
             ],
             [
              0.2222222222222222,
              "#7201a8"
             ],
             [
              0.3333333333333333,
              "#9c179e"
             ],
             [
              0.4444444444444444,
              "#bd3786"
             ],
             [
              0.5555555555555556,
              "#d8576b"
             ],
             [
              0.6666666666666666,
              "#ed7953"
             ],
             [
              0.7777777777777778,
              "#fb9f3a"
             ],
             [
              0.8888888888888888,
              "#fdca26"
             ],
             [
              1,
              "#f0f921"
             ]
            ],
            "type": "histogram2dcontour"
           }
          ],
          "mesh3d": [
           {
            "colorbar": {
             "outlinewidth": 0,
             "ticks": ""
            },
            "type": "mesh3d"
           }
          ],
          "parcoords": [
           {
            "line": {
             "colorbar": {
              "outlinewidth": 0,
              "ticks": ""
             }
            },
            "type": "parcoords"
           }
          ],
          "pie": [
           {
            "automargin": true,
            "type": "pie"
           }
          ],
          "scatter": [
           {
            "marker": {
             "line": {
              "color": "#283442"
             }
            },
            "type": "scatter"
           }
          ],
          "scatter3d": [
           {
            "line": {
             "colorbar": {
              "outlinewidth": 0,
              "ticks": ""
             }
            },
            "marker": {
             "colorbar": {
              "outlinewidth": 0,
              "ticks": ""
             }
            },
            "type": "scatter3d"
           }
          ],
          "scattercarpet": [
           {
            "marker": {
             "colorbar": {
              "outlinewidth": 0,
              "ticks": ""
             }
            },
            "type": "scattercarpet"
           }
          ],
          "scattergeo": [
           {
            "marker": {
             "colorbar": {
              "outlinewidth": 0,
              "ticks": ""
             }
            },
            "type": "scattergeo"
           }
          ],
          "scattergl": [
           {
            "marker": {
             "line": {
              "color": "#283442"
             }
            },
            "type": "scattergl"
           }
          ],
          "scattermapbox": [
           {
            "marker": {
             "colorbar": {
              "outlinewidth": 0,
              "ticks": ""
             }
            },
            "type": "scattermapbox"
           }
          ],
          "scatterpolar": [
           {
            "marker": {
             "colorbar": {
              "outlinewidth": 0,
              "ticks": ""
             }
            },
            "type": "scatterpolar"
           }
          ],
          "scatterpolargl": [
           {
            "marker": {
             "colorbar": {
              "outlinewidth": 0,
              "ticks": ""
             }
            },
            "type": "scatterpolargl"
           }
          ],
          "scatterternary": [
           {
            "marker": {
             "colorbar": {
              "outlinewidth": 0,
              "ticks": ""
             }
            },
            "type": "scatterternary"
           }
          ],
          "surface": [
           {
            "colorbar": {
             "outlinewidth": 0,
             "ticks": ""
            },
            "colorscale": [
             [
              0,
              "#0d0887"
             ],
             [
              0.1111111111111111,
              "#46039f"
             ],
             [
              0.2222222222222222,
              "#7201a8"
             ],
             [
              0.3333333333333333,
              "#9c179e"
             ],
             [
              0.4444444444444444,
              "#bd3786"
             ],
             [
              0.5555555555555556,
              "#d8576b"
             ],
             [
              0.6666666666666666,
              "#ed7953"
             ],
             [
              0.7777777777777778,
              "#fb9f3a"
             ],
             [
              0.8888888888888888,
              "#fdca26"
             ],
             [
              1,
              "#f0f921"
             ]
            ],
            "type": "surface"
           }
          ],
          "table": [
           {
            "cells": {
             "fill": {
              "color": "#506784"
             },
             "line": {
              "color": "rgb(17,17,17)"
             }
            },
            "header": {
             "fill": {
              "color": "#2a3f5f"
             },
             "line": {
              "color": "rgb(17,17,17)"
             }
            },
            "type": "table"
           }
          ]
         },
         "layout": {
          "annotationdefaults": {
           "arrowcolor": "#f2f5fa",
           "arrowhead": 0,
           "arrowwidth": 1
          },
          "autotypenumbers": "strict",
          "coloraxis": {
           "colorbar": {
            "outlinewidth": 0,
            "ticks": ""
           }
          },
          "colorscale": {
           "diverging": [
            [
             0,
             "#8e0152"
            ],
            [
             0.1,
             "#c51b7d"
            ],
            [
             0.2,
             "#de77ae"
            ],
            [
             0.3,
             "#f1b6da"
            ],
            [
             0.4,
             "#fde0ef"
            ],
            [
             0.5,
             "#f7f7f7"
            ],
            [
             0.6,
             "#e6f5d0"
            ],
            [
             0.7,
             "#b8e186"
            ],
            [
             0.8,
             "#7fbc41"
            ],
            [
             0.9,
             "#4d9221"
            ],
            [
             1,
             "#276419"
            ]
           ],
           "sequential": [
            [
             0,
             "#0d0887"
            ],
            [
             0.1111111111111111,
             "#46039f"
            ],
            [
             0.2222222222222222,
             "#7201a8"
            ],
            [
             0.3333333333333333,
             "#9c179e"
            ],
            [
             0.4444444444444444,
             "#bd3786"
            ],
            [
             0.5555555555555556,
             "#d8576b"
            ],
            [
             0.6666666666666666,
             "#ed7953"
            ],
            [
             0.7777777777777778,
             "#fb9f3a"
            ],
            [
             0.8888888888888888,
             "#fdca26"
            ],
            [
             1,
             "#f0f921"
            ]
           ],
           "sequentialminus": [
            [
             0,
             "#0d0887"
            ],
            [
             0.1111111111111111,
             "#46039f"
            ],
            [
             0.2222222222222222,
             "#7201a8"
            ],
            [
             0.3333333333333333,
             "#9c179e"
            ],
            [
             0.4444444444444444,
             "#bd3786"
            ],
            [
             0.5555555555555556,
             "#d8576b"
            ],
            [
             0.6666666666666666,
             "#ed7953"
            ],
            [
             0.7777777777777778,
             "#fb9f3a"
            ],
            [
             0.8888888888888888,
             "#fdca26"
            ],
            [
             1,
             "#f0f921"
            ]
           ]
          },
          "colorway": [
           "#636efa",
           "#EF553B",
           "#00cc96",
           "#ab63fa",
           "#FFA15A",
           "#19d3f3",
           "#FF6692",
           "#B6E880",
           "#FF97FF",
           "#FECB52"
          ],
          "font": {
           "color": "#f2f5fa"
          },
          "geo": {
           "bgcolor": "rgb(17,17,17)",
           "lakecolor": "rgb(17,17,17)",
           "landcolor": "rgb(17,17,17)",
           "showlakes": true,
           "showland": true,
           "subunitcolor": "#506784"
          },
          "hoverlabel": {
           "align": "left"
          },
          "hovermode": "closest",
          "mapbox": {
           "style": "dark"
          },
          "paper_bgcolor": "rgb(17,17,17)",
          "plot_bgcolor": "rgb(17,17,17)",
          "polar": {
           "angularaxis": {
            "gridcolor": "#506784",
            "linecolor": "#506784",
            "ticks": ""
           },
           "bgcolor": "rgb(17,17,17)",
           "radialaxis": {
            "gridcolor": "#506784",
            "linecolor": "#506784",
            "ticks": ""
           }
          },
          "scene": {
           "xaxis": {
            "backgroundcolor": "rgb(17,17,17)",
            "gridcolor": "#506784",
            "gridwidth": 2,
            "linecolor": "#506784",
            "showbackground": true,
            "ticks": "",
            "zerolinecolor": "#C8D4E3"
           },
           "yaxis": {
            "backgroundcolor": "rgb(17,17,17)",
            "gridcolor": "#506784",
            "gridwidth": 2,
            "linecolor": "#506784",
            "showbackground": true,
            "ticks": "",
            "zerolinecolor": "#C8D4E3"
           },
           "zaxis": {
            "backgroundcolor": "rgb(17,17,17)",
            "gridcolor": "#506784",
            "gridwidth": 2,
            "linecolor": "#506784",
            "showbackground": true,
            "ticks": "",
            "zerolinecolor": "#C8D4E3"
           }
          },
          "shapedefaults": {
           "line": {
            "color": "#f2f5fa"
           }
          },
          "sliderdefaults": {
           "bgcolor": "#C8D4E3",
           "bordercolor": "rgb(17,17,17)",
           "borderwidth": 1,
           "tickwidth": 0
          },
          "ternary": {
           "aaxis": {
            "gridcolor": "#506784",
            "linecolor": "#506784",
            "ticks": ""
           },
           "baxis": {
            "gridcolor": "#506784",
            "linecolor": "#506784",
            "ticks": ""
           },
           "bgcolor": "rgb(17,17,17)",
           "caxis": {
            "gridcolor": "#506784",
            "linecolor": "#506784",
            "ticks": ""
           }
          },
          "title": {
           "x": 0.05
          },
          "updatemenudefaults": {
           "bgcolor": "#506784",
           "borderwidth": 0
          },
          "xaxis": {
           "automargin": true,
           "gridcolor": "#283442",
           "linecolor": "#506784",
           "ticks": "",
           "title": {
            "standoff": 15
           },
           "zerolinecolor": "#283442",
           "zerolinewidth": 2
          },
          "yaxis": {
           "automargin": true,
           "gridcolor": "#283442",
           "linecolor": "#506784",
           "ticks": "",
           "title": {
            "standoff": 15
           },
           "zerolinecolor": "#283442",
           "zerolinewidth": 2
          }
         }
        },
        "title": {
         "text": "Book Ratings by Genre"
        },
        "xaxis": {
         "anchor": "y",
         "domain": [
          0,
          1
         ],
         "title": {
          "text": "Genre"
         }
        },
        "yaxis": {
         "anchor": "x",
         "domain": [
          0,
          1
         ],
         "title": {
          "text": "Book Rating"
         }
        }
       }
      }
     },
     "metadata": {},
     "output_type": "display_data"
    }
   ],
   "source": [
    "# A box plot of book ratings by genre\n",
    "\n",
    "fig = px.box(result_df, x=\"Genre\", y=\"Book Rating\", title=\"Book Ratings by Genre\", template='plotly_dark')\n",
    "fig.show()"
   ]
  },
  {
   "cell_type": "markdown",
   "metadata": {},
   "source": [
    "Note:\n",
    "\n",
    "Most genres have a relatively tight interquartile range, suggesting that ratings within a genre are often consistent."
   ]
  },
  {
   "cell_type": "code",
   "execution_count": 41,
   "metadata": {},
   "outputs": [
    {
     "data": {
      "application/vnd.plotly.v1+json": {
       "config": {
        "plotlyServerURL": "https://plot.ly"
       },
       "data": [
        {
         "alignmentgroup": "True",
         "hovertemplate": "Genre=%{x}<br>Review Ratio=%{y}<extra></extra>",
         "legendgroup": "",
         "marker": {
          "color": "#636efa"
         },
         "name": "",
         "notched": false,
         "offsetgroup": "",
         "orientation": "v",
         "showlegend": false,
         "type": "box",
         "x": [
          "fantasy",
          "political fiction",
          "roman à clef",
          "romantic fiction",
          "political fiction",
          "roman à clef",
          "romantic fiction",
          "alternate history",
          "children's novel",
          "fairy tale",
          "magic realism",
          "vampire literature",
          "science fiction",
          "comedy",
          "science fiction",
          "LGBT literature",
          "historical fiction",
          "pornographic film",
          "satirical fiction",
          "science fiction",
          "Bildungsroman",
          "speculative/fantastic fiction novel",
          "high fantasy"
         ],
         "x0": " ",
         "xaxis": "x",
         "y": [
          "0.176035502958579881656805",
          "0.166666666666666666666667",
          "0.166666666666666666666667",
          "0.166666666666666666666667",
          "0.166666666666666666666667",
          "0.166666666666666666666667",
          "0.166666666666666666666667",
          "0.106485445205479452054795",
          "0.098654708520179372197309",
          "0.098654708520179372197309",
          "0.091940645912132673843468",
          "0.089947089947089947089947",
          "0.089947089947089947089947",
          "0.074869413813116656993616",
          "0.072463768115942028985507",
          "0.072401927047487955953200",
          "0.072401927047487955953200",
          "0.068062827225130890052356",
          "0.041958041958041958041958",
          "0.033163693305743526648398",
          "0.017703447815547810175606",
          "0.011572877311592761980513",
          "0.011572877311592761980513"
         ],
         "y0": " ",
         "yaxis": "y"
        }
       ],
       "layout": {
        "boxmode": "group",
        "legend": {
         "tracegroupgap": 0
        },
        "template": {
         "data": {
          "bar": [
           {
            "error_x": {
             "color": "#f2f5fa"
            },
            "error_y": {
             "color": "#f2f5fa"
            },
            "marker": {
             "line": {
              "color": "rgb(17,17,17)",
              "width": 0.5
             },
             "pattern": {
              "fillmode": "overlay",
              "size": 10,
              "solidity": 0.2
             }
            },
            "type": "bar"
           }
          ],
          "barpolar": [
           {
            "marker": {
             "line": {
              "color": "rgb(17,17,17)",
              "width": 0.5
             },
             "pattern": {
              "fillmode": "overlay",
              "size": 10,
              "solidity": 0.2
             }
            },
            "type": "barpolar"
           }
          ],
          "carpet": [
           {
            "aaxis": {
             "endlinecolor": "#A2B1C6",
             "gridcolor": "#506784",
             "linecolor": "#506784",
             "minorgridcolor": "#506784",
             "startlinecolor": "#A2B1C6"
            },
            "baxis": {
             "endlinecolor": "#A2B1C6",
             "gridcolor": "#506784",
             "linecolor": "#506784",
             "minorgridcolor": "#506784",
             "startlinecolor": "#A2B1C6"
            },
            "type": "carpet"
           }
          ],
          "choropleth": [
           {
            "colorbar": {
             "outlinewidth": 0,
             "ticks": ""
            },
            "type": "choropleth"
           }
          ],
          "contour": [
           {
            "colorbar": {
             "outlinewidth": 0,
             "ticks": ""
            },
            "colorscale": [
             [
              0,
              "#0d0887"
             ],
             [
              0.1111111111111111,
              "#46039f"
             ],
             [
              0.2222222222222222,
              "#7201a8"
             ],
             [
              0.3333333333333333,
              "#9c179e"
             ],
             [
              0.4444444444444444,
              "#bd3786"
             ],
             [
              0.5555555555555556,
              "#d8576b"
             ],
             [
              0.6666666666666666,
              "#ed7953"
             ],
             [
              0.7777777777777778,
              "#fb9f3a"
             ],
             [
              0.8888888888888888,
              "#fdca26"
             ],
             [
              1,
              "#f0f921"
             ]
            ],
            "type": "contour"
           }
          ],
          "contourcarpet": [
           {
            "colorbar": {
             "outlinewidth": 0,
             "ticks": ""
            },
            "type": "contourcarpet"
           }
          ],
          "heatmap": [
           {
            "colorbar": {
             "outlinewidth": 0,
             "ticks": ""
            },
            "colorscale": [
             [
              0,
              "#0d0887"
             ],
             [
              0.1111111111111111,
              "#46039f"
             ],
             [
              0.2222222222222222,
              "#7201a8"
             ],
             [
              0.3333333333333333,
              "#9c179e"
             ],
             [
              0.4444444444444444,
              "#bd3786"
             ],
             [
              0.5555555555555556,
              "#d8576b"
             ],
             [
              0.6666666666666666,
              "#ed7953"
             ],
             [
              0.7777777777777778,
              "#fb9f3a"
             ],
             [
              0.8888888888888888,
              "#fdca26"
             ],
             [
              1,
              "#f0f921"
             ]
            ],
            "type": "heatmap"
           }
          ],
          "heatmapgl": [
           {
            "colorbar": {
             "outlinewidth": 0,
             "ticks": ""
            },
            "colorscale": [
             [
              0,
              "#0d0887"
             ],
             [
              0.1111111111111111,
              "#46039f"
             ],
             [
              0.2222222222222222,
              "#7201a8"
             ],
             [
              0.3333333333333333,
              "#9c179e"
             ],
             [
              0.4444444444444444,
              "#bd3786"
             ],
             [
              0.5555555555555556,
              "#d8576b"
             ],
             [
              0.6666666666666666,
              "#ed7953"
             ],
             [
              0.7777777777777778,
              "#fb9f3a"
             ],
             [
              0.8888888888888888,
              "#fdca26"
             ],
             [
              1,
              "#f0f921"
             ]
            ],
            "type": "heatmapgl"
           }
          ],
          "histogram": [
           {
            "marker": {
             "pattern": {
              "fillmode": "overlay",
              "size": 10,
              "solidity": 0.2
             }
            },
            "type": "histogram"
           }
          ],
          "histogram2d": [
           {
            "colorbar": {
             "outlinewidth": 0,
             "ticks": ""
            },
            "colorscale": [
             [
              0,
              "#0d0887"
             ],
             [
              0.1111111111111111,
              "#46039f"
             ],
             [
              0.2222222222222222,
              "#7201a8"
             ],
             [
              0.3333333333333333,
              "#9c179e"
             ],
             [
              0.4444444444444444,
              "#bd3786"
             ],
             [
              0.5555555555555556,
              "#d8576b"
             ],
             [
              0.6666666666666666,
              "#ed7953"
             ],
             [
              0.7777777777777778,
              "#fb9f3a"
             ],
             [
              0.8888888888888888,
              "#fdca26"
             ],
             [
              1,
              "#f0f921"
             ]
            ],
            "type": "histogram2d"
           }
          ],
          "histogram2dcontour": [
           {
            "colorbar": {
             "outlinewidth": 0,
             "ticks": ""
            },
            "colorscale": [
             [
              0,
              "#0d0887"
             ],
             [
              0.1111111111111111,
              "#46039f"
             ],
             [
              0.2222222222222222,
              "#7201a8"
             ],
             [
              0.3333333333333333,
              "#9c179e"
             ],
             [
              0.4444444444444444,
              "#bd3786"
             ],
             [
              0.5555555555555556,
              "#d8576b"
             ],
             [
              0.6666666666666666,
              "#ed7953"
             ],
             [
              0.7777777777777778,
              "#fb9f3a"
             ],
             [
              0.8888888888888888,
              "#fdca26"
             ],
             [
              1,
              "#f0f921"
             ]
            ],
            "type": "histogram2dcontour"
           }
          ],
          "mesh3d": [
           {
            "colorbar": {
             "outlinewidth": 0,
             "ticks": ""
            },
            "type": "mesh3d"
           }
          ],
          "parcoords": [
           {
            "line": {
             "colorbar": {
              "outlinewidth": 0,
              "ticks": ""
             }
            },
            "type": "parcoords"
           }
          ],
          "pie": [
           {
            "automargin": true,
            "type": "pie"
           }
          ],
          "scatter": [
           {
            "marker": {
             "line": {
              "color": "#283442"
             }
            },
            "type": "scatter"
           }
          ],
          "scatter3d": [
           {
            "line": {
             "colorbar": {
              "outlinewidth": 0,
              "ticks": ""
             }
            },
            "marker": {
             "colorbar": {
              "outlinewidth": 0,
              "ticks": ""
             }
            },
            "type": "scatter3d"
           }
          ],
          "scattercarpet": [
           {
            "marker": {
             "colorbar": {
              "outlinewidth": 0,
              "ticks": ""
             }
            },
            "type": "scattercarpet"
           }
          ],
          "scattergeo": [
           {
            "marker": {
             "colorbar": {
              "outlinewidth": 0,
              "ticks": ""
             }
            },
            "type": "scattergeo"
           }
          ],
          "scattergl": [
           {
            "marker": {
             "line": {
              "color": "#283442"
             }
            },
            "type": "scattergl"
           }
          ],
          "scattermapbox": [
           {
            "marker": {
             "colorbar": {
              "outlinewidth": 0,
              "ticks": ""
             }
            },
            "type": "scattermapbox"
           }
          ],
          "scatterpolar": [
           {
            "marker": {
             "colorbar": {
              "outlinewidth": 0,
              "ticks": ""
             }
            },
            "type": "scatterpolar"
           }
          ],
          "scatterpolargl": [
           {
            "marker": {
             "colorbar": {
              "outlinewidth": 0,
              "ticks": ""
             }
            },
            "type": "scatterpolargl"
           }
          ],
          "scatterternary": [
           {
            "marker": {
             "colorbar": {
              "outlinewidth": 0,
              "ticks": ""
             }
            },
            "type": "scatterternary"
           }
          ],
          "surface": [
           {
            "colorbar": {
             "outlinewidth": 0,
             "ticks": ""
            },
            "colorscale": [
             [
              0,
              "#0d0887"
             ],
             [
              0.1111111111111111,
              "#46039f"
             ],
             [
              0.2222222222222222,
              "#7201a8"
             ],
             [
              0.3333333333333333,
              "#9c179e"
             ],
             [
              0.4444444444444444,
              "#bd3786"
             ],
             [
              0.5555555555555556,
              "#d8576b"
             ],
             [
              0.6666666666666666,
              "#ed7953"
             ],
             [
              0.7777777777777778,
              "#fb9f3a"
             ],
             [
              0.8888888888888888,
              "#fdca26"
             ],
             [
              1,
              "#f0f921"
             ]
            ],
            "type": "surface"
           }
          ],
          "table": [
           {
            "cells": {
             "fill": {
              "color": "#506784"
             },
             "line": {
              "color": "rgb(17,17,17)"
             }
            },
            "header": {
             "fill": {
              "color": "#2a3f5f"
             },
             "line": {
              "color": "rgb(17,17,17)"
             }
            },
            "type": "table"
           }
          ]
         },
         "layout": {
          "annotationdefaults": {
           "arrowcolor": "#f2f5fa",
           "arrowhead": 0,
           "arrowwidth": 1
          },
          "autotypenumbers": "strict",
          "coloraxis": {
           "colorbar": {
            "outlinewidth": 0,
            "ticks": ""
           }
          },
          "colorscale": {
           "diverging": [
            [
             0,
             "#8e0152"
            ],
            [
             0.1,
             "#c51b7d"
            ],
            [
             0.2,
             "#de77ae"
            ],
            [
             0.3,
             "#f1b6da"
            ],
            [
             0.4,
             "#fde0ef"
            ],
            [
             0.5,
             "#f7f7f7"
            ],
            [
             0.6,
             "#e6f5d0"
            ],
            [
             0.7,
             "#b8e186"
            ],
            [
             0.8,
             "#7fbc41"
            ],
            [
             0.9,
             "#4d9221"
            ],
            [
             1,
             "#276419"
            ]
           ],
           "sequential": [
            [
             0,
             "#0d0887"
            ],
            [
             0.1111111111111111,
             "#46039f"
            ],
            [
             0.2222222222222222,
             "#7201a8"
            ],
            [
             0.3333333333333333,
             "#9c179e"
            ],
            [
             0.4444444444444444,
             "#bd3786"
            ],
            [
             0.5555555555555556,
             "#d8576b"
            ],
            [
             0.6666666666666666,
             "#ed7953"
            ],
            [
             0.7777777777777778,
             "#fb9f3a"
            ],
            [
             0.8888888888888888,
             "#fdca26"
            ],
            [
             1,
             "#f0f921"
            ]
           ],
           "sequentialminus": [
            [
             0,
             "#0d0887"
            ],
            [
             0.1111111111111111,
             "#46039f"
            ],
            [
             0.2222222222222222,
             "#7201a8"
            ],
            [
             0.3333333333333333,
             "#9c179e"
            ],
            [
             0.4444444444444444,
             "#bd3786"
            ],
            [
             0.5555555555555556,
             "#d8576b"
            ],
            [
             0.6666666666666666,
             "#ed7953"
            ],
            [
             0.7777777777777778,
             "#fb9f3a"
            ],
            [
             0.8888888888888888,
             "#fdca26"
            ],
            [
             1,
             "#f0f921"
            ]
           ]
          },
          "colorway": [
           "#636efa",
           "#EF553B",
           "#00cc96",
           "#ab63fa",
           "#FFA15A",
           "#19d3f3",
           "#FF6692",
           "#B6E880",
           "#FF97FF",
           "#FECB52"
          ],
          "font": {
           "color": "#f2f5fa"
          },
          "geo": {
           "bgcolor": "rgb(17,17,17)",
           "lakecolor": "rgb(17,17,17)",
           "landcolor": "rgb(17,17,17)",
           "showlakes": true,
           "showland": true,
           "subunitcolor": "#506784"
          },
          "hoverlabel": {
           "align": "left"
          },
          "hovermode": "closest",
          "mapbox": {
           "style": "dark"
          },
          "paper_bgcolor": "rgb(17,17,17)",
          "plot_bgcolor": "rgb(17,17,17)",
          "polar": {
           "angularaxis": {
            "gridcolor": "#506784",
            "linecolor": "#506784",
            "ticks": ""
           },
           "bgcolor": "rgb(17,17,17)",
           "radialaxis": {
            "gridcolor": "#506784",
            "linecolor": "#506784",
            "ticks": ""
           }
          },
          "scene": {
           "xaxis": {
            "backgroundcolor": "rgb(17,17,17)",
            "gridcolor": "#506784",
            "gridwidth": 2,
            "linecolor": "#506784",
            "showbackground": true,
            "ticks": "",
            "zerolinecolor": "#C8D4E3"
           },
           "yaxis": {
            "backgroundcolor": "rgb(17,17,17)",
            "gridcolor": "#506784",
            "gridwidth": 2,
            "linecolor": "#506784",
            "showbackground": true,
            "ticks": "",
            "zerolinecolor": "#C8D4E3"
           },
           "zaxis": {
            "backgroundcolor": "rgb(17,17,17)",
            "gridcolor": "#506784",
            "gridwidth": 2,
            "linecolor": "#506784",
            "showbackground": true,
            "ticks": "",
            "zerolinecolor": "#C8D4E3"
           }
          },
          "shapedefaults": {
           "line": {
            "color": "#f2f5fa"
           }
          },
          "sliderdefaults": {
           "bgcolor": "#C8D4E3",
           "bordercolor": "rgb(17,17,17)",
           "borderwidth": 1,
           "tickwidth": 0
          },
          "ternary": {
           "aaxis": {
            "gridcolor": "#506784",
            "linecolor": "#506784",
            "ticks": ""
           },
           "baxis": {
            "gridcolor": "#506784",
            "linecolor": "#506784",
            "ticks": ""
           },
           "bgcolor": "rgb(17,17,17)",
           "caxis": {
            "gridcolor": "#506784",
            "linecolor": "#506784",
            "ticks": ""
           }
          },
          "title": {
           "x": 0.05
          },
          "updatemenudefaults": {
           "bgcolor": "#506784",
           "borderwidth": 0
          },
          "xaxis": {
           "automargin": true,
           "gridcolor": "#283442",
           "linecolor": "#506784",
           "ticks": "",
           "title": {
            "standoff": 15
           },
           "zerolinecolor": "#283442",
           "zerolinewidth": 2
          },
          "yaxis": {
           "automargin": true,
           "gridcolor": "#283442",
           "linecolor": "#506784",
           "ticks": "",
           "title": {
            "standoff": 15
           },
           "zerolinecolor": "#283442",
           "zerolinewidth": 2
          }
         }
        },
        "title": {
         "text": "Review Ratio by Genre"
        },
        "xaxis": {
         "anchor": "y",
         "domain": [
          0,
          1
         ],
         "title": {
          "text": "Genre"
         }
        },
        "yaxis": {
         "anchor": "x",
         "domain": [
          0,
          1
         ],
         "title": {
          "text": "Review Ratio"
         }
        }
       }
      }
     },
     "metadata": {},
     "output_type": "display_data"
    }
   ],
   "source": [
    "#A box plot of review ratio by genre\n",
    "\n",
    "fig = px.box(result_df, x=\"Genre\", y=\"Review Ratio\", title=\"Review Ratio by Genre\", template='plotly_dark')\n",
    "fig.show()"
   ]
  },
  {
   "cell_type": "markdown",
   "metadata": {},
   "source": [
    "Note:\n",
    "\n",
    "Some genres show a wide interquartile range in the review ratio, which might suggest varying degrees of reader engagement or a mix of books that only a few or many readers choose to review."
   ]
  },
  {
   "cell_type": "code",
   "execution_count": 42,
   "metadata": {},
   "outputs": [
    {
     "data": {
      "application/vnd.plotly.v1+json": {
       "config": {
        "plotlyServerURL": "https://plot.ly"
       },
       "data": [
        {
         "alignmentgroup": "True",
         "bingroup": "x",
         "histfunc": "sum",
         "hovertemplate": "Genre=fantasy<br>Book Rating=%{x}<br>sum of Review Ratio=%{y}<extra></extra>",
         "legendgroup": "fantasy",
         "marker": {
          "color": "#636efa",
          "pattern": {
           "shape": ""
          }
         },
         "name": "fantasy",
         "offsetgroup": "fantasy",
         "orientation": "v",
         "showlegend": true,
         "type": "histogram",
         "x": [
          "4.09"
         ],
         "xaxis": "x",
         "y": [
          "0.176035502958579881656805"
         ],
         "yaxis": "y"
        },
        {
         "alignmentgroup": "True",
         "boxpoints": "all",
         "customdata": [
          [
           "Dandelion Wine",
           "Ray Bradbury",
           "676",
           "fantasy",
           "1957"
          ]
         ],
         "fillcolor": "rgba(255,255,255,0)",
         "hoveron": "points",
         "hovertemplate": "Genre=%{customdata[3]}<br>Book Rating=%{x}<br>Title=%{customdata[0]}<br>Author=%{customdata[1]}<br>Ratings=%{customdata[2]}<br>Published Year=%{customdata[4]}<extra></extra>",
         "jitter": 0,
         "legendgroup": "fantasy",
         "line": {
          "color": "rgba(255,255,255,0)"
         },
         "marker": {
          "color": "#636efa",
          "symbol": "line-ns-open"
         },
         "name": "fantasy",
         "offsetgroup": "fantasy",
         "showlegend": false,
         "type": "box",
         "x": [
          "4.09"
         ],
         "xaxis": "x2",
         "yaxis": "y2"
        },
        {
         "alignmentgroup": "True",
         "bingroup": "x",
         "histfunc": "sum",
         "hovertemplate": "Genre=political fiction<br>Book Rating=%{x}<br>sum of Review Ratio=%{y}<extra></extra>",
         "legendgroup": "political fiction",
         "marker": {
          "color": "#EF553B",
          "pattern": {
           "shape": ""
          }
         },
         "name": "political fiction",
         "offsetgroup": "political fiction",
         "orientation": "v",
         "showlegend": true,
         "type": "histogram",
         "x": [
          "3.49",
          "3.49"
         ],
         "xaxis": "x",
         "y": [
          "0.166666666666666666666667",
          "0.166666666666666666666667"
         ],
         "yaxis": "y"
        },
        {
         "alignmentgroup": "True",
         "boxpoints": "all",
         "customdata": [
          [
           "Answered Prayers",
           "Truman Capote",
           "102",
           "political fiction",
           "2002"
          ],
          [
           "Answered Prayers",
           "Truman Capote",
           "102",
           "political fiction",
           "1986"
          ]
         ],
         "fillcolor": "rgba(255,255,255,0)",
         "hoveron": "points",
         "hovertemplate": "Genre=%{customdata[3]}<br>Book Rating=%{x}<br>Title=%{customdata[0]}<br>Author=%{customdata[1]}<br>Ratings=%{customdata[2]}<br>Published Year=%{customdata[4]}<extra></extra>",
         "jitter": 0,
         "legendgroup": "political fiction",
         "line": {
          "color": "rgba(255,255,255,0)"
         },
         "marker": {
          "color": "#EF553B",
          "symbol": "line-ns-open"
         },
         "name": "political fiction",
         "offsetgroup": "political fiction",
         "showlegend": false,
         "type": "box",
         "x": [
          "3.49",
          "3.49"
         ],
         "xaxis": "x2",
         "yaxis": "y2"
        },
        {
         "alignmentgroup": "True",
         "bingroup": "x",
         "histfunc": "sum",
         "hovertemplate": "Genre=roman à clef<br>Book Rating=%{x}<br>sum of Review Ratio=%{y}<extra></extra>",
         "legendgroup": "roman à clef",
         "marker": {
          "color": "#00cc96",
          "pattern": {
           "shape": ""
          }
         },
         "name": "roman à clef",
         "offsetgroup": "roman à clef",
         "orientation": "v",
         "showlegend": true,
         "type": "histogram",
         "x": [
          "3.49",
          "3.49"
         ],
         "xaxis": "x",
         "y": [
          "0.166666666666666666666667",
          "0.166666666666666666666667"
         ],
         "yaxis": "y"
        },
        {
         "alignmentgroup": "True",
         "boxpoints": "all",
         "customdata": [
          [
           "Answered Prayers",
           "Truman Capote",
           "102",
           "roman à clef",
           "2002"
          ],
          [
           "Answered Prayers",
           "Truman Capote",
           "102",
           "roman à clef",
           "1986"
          ]
         ],
         "fillcolor": "rgba(255,255,255,0)",
         "hoveron": "points",
         "hovertemplate": "Genre=%{customdata[3]}<br>Book Rating=%{x}<br>Title=%{customdata[0]}<br>Author=%{customdata[1]}<br>Ratings=%{customdata[2]}<br>Published Year=%{customdata[4]}<extra></extra>",
         "jitter": 0,
         "legendgroup": "roman à clef",
         "line": {
          "color": "rgba(255,255,255,0)"
         },
         "marker": {
          "color": "#00cc96",
          "symbol": "line-ns-open"
         },
         "name": "roman à clef",
         "offsetgroup": "roman à clef",
         "showlegend": false,
         "type": "box",
         "x": [
          "3.49",
          "3.49"
         ],
         "xaxis": "x2",
         "yaxis": "y2"
        },
        {
         "alignmentgroup": "True",
         "bingroup": "x",
         "histfunc": "sum",
         "hovertemplate": "Genre=romantic fiction<br>Book Rating=%{x}<br>sum of Review Ratio=%{y}<extra></extra>",
         "legendgroup": "romantic fiction",
         "marker": {
          "color": "#ab63fa",
          "pattern": {
           "shape": ""
          }
         },
         "name": "romantic fiction",
         "offsetgroup": "romantic fiction",
         "orientation": "v",
         "showlegend": true,
         "type": "histogram",
         "x": [
          "3.49",
          "3.49"
         ],
         "xaxis": "x",
         "y": [
          "0.166666666666666666666667",
          "0.166666666666666666666667"
         ],
         "yaxis": "y"
        },
        {
         "alignmentgroup": "True",
         "boxpoints": "all",
         "customdata": [
          [
           "Answered Prayers",
           "Truman Capote",
           "102",
           "romantic fiction",
           "1986"
          ],
          [
           "Answered Prayers",
           "Truman Capote",
           "102",
           "romantic fiction",
           "2002"
          ]
         ],
         "fillcolor": "rgba(255,255,255,0)",
         "hoveron": "points",
         "hovertemplate": "Genre=%{customdata[3]}<br>Book Rating=%{x}<br>Title=%{customdata[0]}<br>Author=%{customdata[1]}<br>Ratings=%{customdata[2]}<br>Published Year=%{customdata[4]}<extra></extra>",
         "jitter": 0,
         "legendgroup": "romantic fiction",
         "line": {
          "color": "rgba(255,255,255,0)"
         },
         "marker": {
          "color": "#ab63fa",
          "symbol": "line-ns-open"
         },
         "name": "romantic fiction",
         "offsetgroup": "romantic fiction",
         "showlegend": false,
         "type": "box",
         "x": [
          "3.49",
          "3.49"
         ],
         "xaxis": "x2",
         "yaxis": "y2"
        },
        {
         "alignmentgroup": "True",
         "bingroup": "x",
         "histfunc": "sum",
         "hovertemplate": "Genre=alternate history<br>Book Rating=%{x}<br>sum of Review Ratio=%{y}<extra></extra>",
         "legendgroup": "alternate history",
         "marker": {
          "color": "#FFA15A",
          "pattern": {
           "shape": ""
          }
         },
         "name": "alternate history",
         "offsetgroup": "alternate history",
         "orientation": "v",
         "showlegend": true,
         "type": "histogram",
         "x": [
          "3.73"
         ],
         "xaxis": "x",
         "y": [
          "0.106485445205479452054795"
         ],
         "yaxis": "y"
        },
        {
         "alignmentgroup": "True",
         "boxpoints": "all",
         "customdata": [
          [
           "The Years of Rice and Salt",
           "Kim Stanley Robinson",
           "9344",
           "alternate history",
           "2002"
          ]
         ],
         "fillcolor": "rgba(255,255,255,0)",
         "hoveron": "points",
         "hovertemplate": "Genre=%{customdata[3]}<br>Book Rating=%{x}<br>Title=%{customdata[0]}<br>Author=%{customdata[1]}<br>Ratings=%{customdata[2]}<br>Published Year=%{customdata[4]}<extra></extra>",
         "jitter": 0,
         "legendgroup": "alternate history",
         "line": {
          "color": "rgba(255,255,255,0)"
         },
         "marker": {
          "color": "#FFA15A",
          "symbol": "line-ns-open"
         },
         "name": "alternate history",
         "offsetgroup": "alternate history",
         "showlegend": false,
         "type": "box",
         "x": [
          "3.73"
         ],
         "xaxis": "x2",
         "yaxis": "y2"
        },
        {
         "alignmentgroup": "True",
         "bingroup": "x",
         "histfunc": "sum",
         "hovertemplate": "Genre=children's novel<br>Book Rating=%{x}<br>sum of Review Ratio=%{y}<extra></extra>",
         "legendgroup": "children's novel",
         "marker": {
          "color": "#19d3f3",
          "pattern": {
           "shape": ""
          }
         },
         "name": "children's novel",
         "offsetgroup": "children's novel",
         "orientation": "v",
         "showlegend": true,
         "type": "histogram",
         "x": [
          "4.17"
         ],
         "xaxis": "x",
         "y": [
          "0.098654708520179372197309"
         ],
         "yaxis": "y"
        },
        {
         "alignmentgroup": "True",
         "boxpoints": "all",
         "customdata": [
          [
           "Charlotte's Web",
           "E.B. White/Garth Williams",
           "223",
           "children's novel",
           "1954"
          ]
         ],
         "fillcolor": "rgba(255,255,255,0)",
         "hoveron": "points",
         "hovertemplate": "Genre=%{customdata[3]}<br>Book Rating=%{x}<br>Title=%{customdata[0]}<br>Author=%{customdata[1]}<br>Ratings=%{customdata[2]}<br>Published Year=%{customdata[4]}<extra></extra>",
         "jitter": 0,
         "legendgroup": "children's novel",
         "line": {
          "color": "rgba(255,255,255,0)"
         },
         "marker": {
          "color": "#19d3f3",
          "symbol": "line-ns-open"
         },
         "name": "children's novel",
         "offsetgroup": "children's novel",
         "showlegend": false,
         "type": "box",
         "x": [
          "4.17"
         ],
         "xaxis": "x2",
         "yaxis": "y2"
        },
        {
         "alignmentgroup": "True",
         "bingroup": "x",
         "histfunc": "sum",
         "hovertemplate": "Genre=fairy tale<br>Book Rating=%{x}<br>sum of Review Ratio=%{y}<extra></extra>",
         "legendgroup": "fairy tale",
         "marker": {
          "color": "#FF6692",
          "pattern": {
           "shape": ""
          }
         },
         "name": "fairy tale",
         "offsetgroup": "fairy tale",
         "orientation": "v",
         "showlegend": true,
         "type": "histogram",
         "x": [
          "4.17"
         ],
         "xaxis": "x",
         "y": [
          "0.098654708520179372197309"
         ],
         "yaxis": "y"
        },
        {
         "alignmentgroup": "True",
         "boxpoints": "all",
         "customdata": [
          [
           "Charlotte's Web",
           "E.B. White/Garth Williams",
           "223",
           "fairy tale",
           "1954"
          ]
         ],
         "fillcolor": "rgba(255,255,255,0)",
         "hoveron": "points",
         "hovertemplate": "Genre=%{customdata[3]}<br>Book Rating=%{x}<br>Title=%{customdata[0]}<br>Author=%{customdata[1]}<br>Ratings=%{customdata[2]}<br>Published Year=%{customdata[4]}<extra></extra>",
         "jitter": 0,
         "legendgroup": "fairy tale",
         "line": {
          "color": "rgba(255,255,255,0)"
         },
         "marker": {
          "color": "#FF6692",
          "symbol": "line-ns-open"
         },
         "name": "fairy tale",
         "offsetgroup": "fairy tale",
         "showlegend": false,
         "type": "box",
         "x": [
          "4.17"
         ],
         "xaxis": "x2",
         "yaxis": "y2"
        },
        {
         "alignmentgroup": "True",
         "bingroup": "x",
         "histfunc": "sum",
         "hovertemplate": "Genre=magic realism<br>Book Rating=%{x}<br>sum of Review Ratio=%{y}<extra></extra>",
         "legendgroup": "magic realism",
         "marker": {
          "color": "#B6E880",
          "pattern": {
           "shape": ""
          }
         },
         "name": "magic realism",
         "offsetgroup": "magic realism",
         "orientation": "v",
         "showlegend": true,
         "type": "histogram",
         "x": [
          "4.07"
         ],
         "xaxis": "x",
         "y": [
          "0.091940645912132673843468"
         ],
         "yaxis": "y"
        },
        {
         "alignmentgroup": "True",
         "boxpoints": "all",
         "customdata": [
          [
           "One Hundred Years of Solitude",
           "Gabriel García Márquez/Gregory Rabassa",
           "3437",
           "magic realism",
           "1967"
          ]
         ],
         "fillcolor": "rgba(255,255,255,0)",
         "hoveron": "points",
         "hovertemplate": "Genre=%{customdata[3]}<br>Book Rating=%{x}<br>Title=%{customdata[0]}<br>Author=%{customdata[1]}<br>Ratings=%{customdata[2]}<br>Published Year=%{customdata[4]}<extra></extra>",
         "jitter": 0,
         "legendgroup": "magic realism",
         "line": {
          "color": "rgba(255,255,255,0)"
         },
         "marker": {
          "color": "#B6E880",
          "symbol": "line-ns-open"
         },
         "name": "magic realism",
         "offsetgroup": "magic realism",
         "showlegend": false,
         "type": "box",
         "x": [
          "4.07"
         ],
         "xaxis": "x2",
         "yaxis": "y2"
        },
        {
         "alignmentgroup": "True",
         "bingroup": "x",
         "histfunc": "sum",
         "hovertemplate": "Genre=vampire literature<br>Book Rating=%{x}<br>sum of Review Ratio=%{y}<extra></extra>",
         "legendgroup": "vampire literature",
         "marker": {
          "color": "#FF97FF",
          "pattern": {
           "shape": ""
          }
         },
         "name": "vampire literature",
         "offsetgroup": "vampire literature",
         "orientation": "v",
         "showlegend": true,
         "type": "histogram",
         "x": [
          "3.8"
         ],
         "xaxis": "x",
         "y": [
          "0.089947089947089947089947"
         ],
         "yaxis": "y"
        },
        {
         "alignmentgroup": "True",
         "boxpoints": "all",
         "customdata": [
          [
           "The Last Days",
           "Raymond Queneau/Barbara Wright/Vivian Kogan",
           "189",
           "vampire literature",
           "2006"
          ]
         ],
         "fillcolor": "rgba(255,255,255,0)",
         "hoveron": "points",
         "hovertemplate": "Genre=%{customdata[3]}<br>Book Rating=%{x}<br>Title=%{customdata[0]}<br>Author=%{customdata[1]}<br>Ratings=%{customdata[2]}<br>Published Year=%{customdata[4]}<extra></extra>",
         "jitter": 0,
         "legendgroup": "vampire literature",
         "line": {
          "color": "rgba(255,255,255,0)"
         },
         "marker": {
          "color": "#FF97FF",
          "symbol": "line-ns-open"
         },
         "name": "vampire literature",
         "offsetgroup": "vampire literature",
         "showlegend": false,
         "type": "box",
         "x": [
          "3.8"
         ],
         "xaxis": "x2",
         "yaxis": "y2"
        },
        {
         "alignmentgroup": "True",
         "bingroup": "x",
         "histfunc": "sum",
         "hovertemplate": "Genre=science fiction<br>Book Rating=%{x}<br>sum of Review Ratio=%{y}<extra></extra>",
         "legendgroup": "science fiction",
         "marker": {
          "color": "#FECB52",
          "pattern": {
           "shape": ""
          }
         },
         "name": "science fiction",
         "offsetgroup": "science fiction",
         "orientation": "v",
         "showlegend": true,
         "type": "histogram",
         "x": [
          "3.8",
          "3.59",
          "3.82"
         ],
         "xaxis": "x",
         "y": [
          "0.089947089947089947089947",
          "0.072463768115942028985507",
          "0.033163693305743526648398"
         ],
         "yaxis": "y"
        },
        {
         "alignmentgroup": "True",
         "boxpoints": "all",
         "customdata": [
          [
           "The Last Days",
           "Raymond Queneau/Barbara Wright/Vivian Kogan",
           "189",
           "science fiction",
           "2006"
          ],
          [
           "Lurulu",
           "Jack Vance",
           "276",
           "science fiction",
           "2004"
          ],
          [
           "Jailbird",
           "Kurt Vonnegut Jr.",
           "17881",
           "science fiction",
           "1979"
          ]
         ],
         "fillcolor": "rgba(255,255,255,0)",
         "hoveron": "points",
         "hovertemplate": "Genre=%{customdata[3]}<br>Book Rating=%{x}<br>Title=%{customdata[0]}<br>Author=%{customdata[1]}<br>Ratings=%{customdata[2]}<br>Published Year=%{customdata[4]}<extra></extra>",
         "jitter": 0,
         "legendgroup": "science fiction",
         "line": {
          "color": "rgba(255,255,255,0)"
         },
         "marker": {
          "color": "#FECB52",
          "symbol": "line-ns-open"
         },
         "name": "science fiction",
         "offsetgroup": "science fiction",
         "showlegend": false,
         "type": "box",
         "x": [
          "3.8",
          "3.59",
          "3.82"
         ],
         "xaxis": "x2",
         "yaxis": "y2"
        },
        {
         "alignmentgroup": "True",
         "bingroup": "x",
         "histfunc": "sum",
         "hovertemplate": "Genre=comedy<br>Book Rating=%{x}<br>sum of Review Ratio=%{y}<extra></extra>",
         "legendgroup": "comedy",
         "marker": {
          "color": "#636efa",
          "pattern": {
           "shape": ""
          }
         },
         "name": "comedy",
         "offsetgroup": "comedy",
         "orientation": "v",
         "showlegend": true,
         "type": "histogram",
         "x": [
          "3.89"
         ],
         "xaxis": "x",
         "y": [
          "0.074869413813116656993616"
         ],
         "yaxis": "y"
        },
        {
         "alignmentgroup": "True",
         "boxpoints": "all",
         "customdata": [
          [
           "Laughing Gas",
           "P.G. Wodehouse",
           "1723",
           "comedy",
           "1936"
          ]
         ],
         "fillcolor": "rgba(255,255,255,0)",
         "hoveron": "points",
         "hovertemplate": "Genre=%{customdata[3]}<br>Book Rating=%{x}<br>Title=%{customdata[0]}<br>Author=%{customdata[1]}<br>Ratings=%{customdata[2]}<br>Published Year=%{customdata[4]}<extra></extra>",
         "jitter": 0,
         "legendgroup": "comedy",
         "line": {
          "color": "rgba(255,255,255,0)"
         },
         "marker": {
          "color": "#636efa",
          "symbol": "line-ns-open"
         },
         "name": "comedy",
         "offsetgroup": "comedy",
         "showlegend": false,
         "type": "box",
         "x": [
          "3.89"
         ],
         "xaxis": "x2",
         "yaxis": "y2"
        },
        {
         "alignmentgroup": "True",
         "bingroup": "x",
         "histfunc": "sum",
         "hovertemplate": "Genre=LGBT literature<br>Book Rating=%{x}<br>sum of Review Ratio=%{y}<extra></extra>",
         "legendgroup": "LGBT literature",
         "marker": {
          "color": "#EF553B",
          "pattern": {
           "shape": ""
          }
         },
         "name": "LGBT literature",
         "offsetgroup": "LGBT literature",
         "orientation": "v",
         "showlegend": true,
         "type": "histogram",
         "x": [
          "4.07"
         ],
         "xaxis": "x",
         "y": [
          "0.072401927047487955953200"
         ],
         "yaxis": "y"
        },
        {
         "alignmentgroup": "True",
         "boxpoints": "all",
         "customdata": [
          [
           "Burr",
           "Gore Vidal",
           "7265",
           "LGBT literature",
           "1973"
          ]
         ],
         "fillcolor": "rgba(255,255,255,0)",
         "hoveron": "points",
         "hovertemplate": "Genre=%{customdata[3]}<br>Book Rating=%{x}<br>Title=%{customdata[0]}<br>Author=%{customdata[1]}<br>Ratings=%{customdata[2]}<br>Published Year=%{customdata[4]}<extra></extra>",
         "jitter": 0,
         "legendgroup": "LGBT literature",
         "line": {
          "color": "rgba(255,255,255,0)"
         },
         "marker": {
          "color": "#EF553B",
          "symbol": "line-ns-open"
         },
         "name": "LGBT literature",
         "offsetgroup": "LGBT literature",
         "showlegend": false,
         "type": "box",
         "x": [
          "4.07"
         ],
         "xaxis": "x2",
         "yaxis": "y2"
        },
        {
         "alignmentgroup": "True",
         "bingroup": "x",
         "histfunc": "sum",
         "hovertemplate": "Genre=historical fiction<br>Book Rating=%{x}<br>sum of Review Ratio=%{y}<extra></extra>",
         "legendgroup": "historical fiction",
         "marker": {
          "color": "#00cc96",
          "pattern": {
           "shape": ""
          }
         },
         "name": "historical fiction",
         "offsetgroup": "historical fiction",
         "orientation": "v",
         "showlegend": true,
         "type": "histogram",
         "x": [
          "4.07"
         ],
         "xaxis": "x",
         "y": [
          "0.072401927047487955953200"
         ],
         "yaxis": "y"
        },
        {
         "alignmentgroup": "True",
         "boxpoints": "all",
         "customdata": [
          [
           "Burr",
           "Gore Vidal",
           "7265",
           "historical fiction",
           "1973"
          ]
         ],
         "fillcolor": "rgba(255,255,255,0)",
         "hoveron": "points",
         "hovertemplate": "Genre=%{customdata[3]}<br>Book Rating=%{x}<br>Title=%{customdata[0]}<br>Author=%{customdata[1]}<br>Ratings=%{customdata[2]}<br>Published Year=%{customdata[4]}<extra></extra>",
         "jitter": 0,
         "legendgroup": "historical fiction",
         "line": {
          "color": "rgba(255,255,255,0)"
         },
         "marker": {
          "color": "#00cc96",
          "symbol": "line-ns-open"
         },
         "name": "historical fiction",
         "offsetgroup": "historical fiction",
         "showlegend": false,
         "type": "box",
         "x": [
          "4.07"
         ],
         "xaxis": "x2",
         "yaxis": "y2"
        },
        {
         "alignmentgroup": "True",
         "bingroup": "x",
         "histfunc": "sum",
         "hovertemplate": "Genre=pornographic film<br>Book Rating=%{x}<br>sum of Review Ratio=%{y}<extra></extra>",
         "legendgroup": "pornographic film",
         "marker": {
          "color": "#ab63fa",
          "pattern": {
           "shape": ""
          }
         },
         "name": "pornographic film",
         "offsetgroup": "pornographic film",
         "orientation": "v",
         "showlegend": true,
         "type": "histogram",
         "x": [
          "4.11"
         ],
         "xaxis": "x",
         "y": [
          "0.068062827225130890052356"
         ],
         "yaxis": "y"
        },
        {
         "alignmentgroup": "True",
         "boxpoints": "all",
         "customdata": [
          [
           "The Ultimate Guide to Anal Sex for Women",
           "Tristan Taormino",
           "382",
           "pornographic film",
           "1997"
          ]
         ],
         "fillcolor": "rgba(255,255,255,0)",
         "hoveron": "points",
         "hovertemplate": "Genre=%{customdata[3]}<br>Book Rating=%{x}<br>Title=%{customdata[0]}<br>Author=%{customdata[1]}<br>Ratings=%{customdata[2]}<br>Published Year=%{customdata[4]}<extra></extra>",
         "jitter": 0,
         "legendgroup": "pornographic film",
         "line": {
          "color": "rgba(255,255,255,0)"
         },
         "marker": {
          "color": "#ab63fa",
          "symbol": "line-ns-open"
         },
         "name": "pornographic film",
         "offsetgroup": "pornographic film",
         "showlegend": false,
         "type": "box",
         "x": [
          "4.11"
         ],
         "xaxis": "x2",
         "yaxis": "y2"
        },
        {
         "alignmentgroup": "True",
         "bingroup": "x",
         "histfunc": "sum",
         "hovertemplate": "Genre=satirical fiction<br>Book Rating=%{x}<br>sum of Review Ratio=%{y}<extra></extra>",
         "legendgroup": "satirical fiction",
         "marker": {
          "color": "#FFA15A",
          "pattern": {
           "shape": ""
          }
         },
         "name": "satirical fiction",
         "offsetgroup": "satirical fiction",
         "orientation": "v",
         "showlegend": true,
         "type": "histogram",
         "x": [
          "3.84"
         ],
         "xaxis": "x",
         "y": [
          "0.041958041958041958041958"
         ],
         "yaxis": "y"
        },
        {
         "alignmentgroup": "True",
         "boxpoints": "all",
         "customdata": [
          [
           "Choke",
           "Stuart Woods",
           "2288",
           "satirical fiction",
           "2001"
          ]
         ],
         "fillcolor": "rgba(255,255,255,0)",
         "hoveron": "points",
         "hovertemplate": "Genre=%{customdata[3]}<br>Book Rating=%{x}<br>Title=%{customdata[0]}<br>Author=%{customdata[1]}<br>Ratings=%{customdata[2]}<br>Published Year=%{customdata[4]}<extra></extra>",
         "jitter": 0,
         "legendgroup": "satirical fiction",
         "line": {
          "color": "rgba(255,255,255,0)"
         },
         "marker": {
          "color": "#FFA15A",
          "symbol": "line-ns-open"
         },
         "name": "satirical fiction",
         "offsetgroup": "satirical fiction",
         "showlegend": false,
         "type": "box",
         "x": [
          "3.84"
         ],
         "xaxis": "x2",
         "yaxis": "y2"
        },
        {
         "alignmentgroup": "True",
         "bingroup": "x",
         "histfunc": "sum",
         "hovertemplate": "Genre=Bildungsroman<br>Book Rating=%{x}<br>sum of Review Ratio=%{y}<extra></extra>",
         "legendgroup": "Bildungsroman",
         "marker": {
          "color": "#19d3f3",
          "pattern": {
           "shape": ""
          }
         },
         "name": "Bildungsroman",
         "offsetgroup": "Bildungsroman",
         "orientation": "v",
         "showlegend": true,
         "type": "histogram",
         "x": [
          "3.8"
         ],
         "xaxis": "x",
         "y": [
          "0.017703447815547810175606"
         ],
         "yaxis": "y"
        },
        {
         "alignmentgroup": "True",
         "boxpoints": "all",
         "customdata": [
          [
           "The Catcher in the Rye",
           "J.D. Salinger",
           "2457092",
           "Bildungsroman",
           "1969"
          ]
         ],
         "fillcolor": "rgba(255,255,255,0)",
         "hoveron": "points",
         "hovertemplate": "Genre=%{customdata[3]}<br>Book Rating=%{x}<br>Title=%{customdata[0]}<br>Author=%{customdata[1]}<br>Ratings=%{customdata[2]}<br>Published Year=%{customdata[4]}<extra></extra>",
         "jitter": 0,
         "legendgroup": "Bildungsroman",
         "line": {
          "color": "rgba(255,255,255,0)"
         },
         "marker": {
          "color": "#19d3f3",
          "symbol": "line-ns-open"
         },
         "name": "Bildungsroman",
         "offsetgroup": "Bildungsroman",
         "showlegend": false,
         "type": "box",
         "x": [
          "3.8"
         ],
         "xaxis": "x2",
         "yaxis": "y2"
        },
        {
         "alignmentgroup": "True",
         "bingroup": "x",
         "histfunc": "sum",
         "hovertemplate": "Genre=speculative/fantastic fiction novel<br>Book Rating=%{x}<br>sum of Review Ratio=%{y}<extra></extra>",
         "legendgroup": "speculative/fantastic fiction novel",
         "marker": {
          "color": "#FF6692",
          "pattern": {
           "shape": ""
          }
         },
         "name": "speculative/fantastic fiction novel",
         "offsetgroup": "speculative/fantastic fiction novel",
         "orientation": "v",
         "showlegend": true,
         "type": "histogram",
         "x": [
          "4.09"
         ],
         "xaxis": "x",
         "y": [
          "0.011572877311592761980513"
         ],
         "yaxis": "y"
        },
        {
         "alignmentgroup": "True",
         "boxpoints": "all",
         "customdata": [
          [
           "Polgara the Sorceress",
           "David Eddings/Leigh Eddings",
           "25145",
           "speculative/fantastic fiction novel",
           "1997"
          ]
         ],
         "fillcolor": "rgba(255,255,255,0)",
         "hoveron": "points",
         "hovertemplate": "Genre=%{customdata[3]}<br>Book Rating=%{x}<br>Title=%{customdata[0]}<br>Author=%{customdata[1]}<br>Ratings=%{customdata[2]}<br>Published Year=%{customdata[4]}<extra></extra>",
         "jitter": 0,
         "legendgroup": "speculative/fantastic fiction novel",
         "line": {
          "color": "rgba(255,255,255,0)"
         },
         "marker": {
          "color": "#FF6692",
          "symbol": "line-ns-open"
         },
         "name": "speculative/fantastic fiction novel",
         "offsetgroup": "speculative/fantastic fiction novel",
         "showlegend": false,
         "type": "box",
         "x": [
          "4.09"
         ],
         "xaxis": "x2",
         "yaxis": "y2"
        },
        {
         "alignmentgroup": "True",
         "bingroup": "x",
         "histfunc": "sum",
         "hovertemplate": "Genre=high fantasy<br>Book Rating=%{x}<br>sum of Review Ratio=%{y}<extra></extra>",
         "legendgroup": "high fantasy",
         "marker": {
          "color": "#B6E880",
          "pattern": {
           "shape": ""
          }
         },
         "name": "high fantasy",
         "offsetgroup": "high fantasy",
         "orientation": "v",
         "showlegend": true,
         "type": "histogram",
         "x": [
          "4.09"
         ],
         "xaxis": "x",
         "y": [
          "0.011572877311592761980513"
         ],
         "yaxis": "y"
        },
        {
         "alignmentgroup": "True",
         "boxpoints": "all",
         "customdata": [
          [
           "Polgara the Sorceress",
           "David Eddings/Leigh Eddings",
           "25145",
           "high fantasy",
           "1997"
          ]
         ],
         "fillcolor": "rgba(255,255,255,0)",
         "hoveron": "points",
         "hovertemplate": "Genre=%{customdata[3]}<br>Book Rating=%{x}<br>Title=%{customdata[0]}<br>Author=%{customdata[1]}<br>Ratings=%{customdata[2]}<br>Published Year=%{customdata[4]}<extra></extra>",
         "jitter": 0,
         "legendgroup": "high fantasy",
         "line": {
          "color": "rgba(255,255,255,0)"
         },
         "marker": {
          "color": "#B6E880",
          "symbol": "line-ns-open"
         },
         "name": "high fantasy",
         "offsetgroup": "high fantasy",
         "showlegend": false,
         "type": "box",
         "x": [
          "4.09"
         ],
         "xaxis": "x2",
         "yaxis": "y2"
        }
       ],
       "layout": {
        "barmode": "relative",
        "legend": {
         "title": {
          "text": "Genre"
         },
         "tracegroupgap": 0
        },
        "template": {
         "data": {
          "bar": [
           {
            "error_x": {
             "color": "#f2f5fa"
            },
            "error_y": {
             "color": "#f2f5fa"
            },
            "marker": {
             "line": {
              "color": "rgb(17,17,17)",
              "width": 0.5
             },
             "pattern": {
              "fillmode": "overlay",
              "size": 10,
              "solidity": 0.2
             }
            },
            "type": "bar"
           }
          ],
          "barpolar": [
           {
            "marker": {
             "line": {
              "color": "rgb(17,17,17)",
              "width": 0.5
             },
             "pattern": {
              "fillmode": "overlay",
              "size": 10,
              "solidity": 0.2
             }
            },
            "type": "barpolar"
           }
          ],
          "carpet": [
           {
            "aaxis": {
             "endlinecolor": "#A2B1C6",
             "gridcolor": "#506784",
             "linecolor": "#506784",
             "minorgridcolor": "#506784",
             "startlinecolor": "#A2B1C6"
            },
            "baxis": {
             "endlinecolor": "#A2B1C6",
             "gridcolor": "#506784",
             "linecolor": "#506784",
             "minorgridcolor": "#506784",
             "startlinecolor": "#A2B1C6"
            },
            "type": "carpet"
           }
          ],
          "choropleth": [
           {
            "colorbar": {
             "outlinewidth": 0,
             "ticks": ""
            },
            "type": "choropleth"
           }
          ],
          "contour": [
           {
            "colorbar": {
             "outlinewidth": 0,
             "ticks": ""
            },
            "colorscale": [
             [
              0,
              "#0d0887"
             ],
             [
              0.1111111111111111,
              "#46039f"
             ],
             [
              0.2222222222222222,
              "#7201a8"
             ],
             [
              0.3333333333333333,
              "#9c179e"
             ],
             [
              0.4444444444444444,
              "#bd3786"
             ],
             [
              0.5555555555555556,
              "#d8576b"
             ],
             [
              0.6666666666666666,
              "#ed7953"
             ],
             [
              0.7777777777777778,
              "#fb9f3a"
             ],
             [
              0.8888888888888888,
              "#fdca26"
             ],
             [
              1,
              "#f0f921"
             ]
            ],
            "type": "contour"
           }
          ],
          "contourcarpet": [
           {
            "colorbar": {
             "outlinewidth": 0,
             "ticks": ""
            },
            "type": "contourcarpet"
           }
          ],
          "heatmap": [
           {
            "colorbar": {
             "outlinewidth": 0,
             "ticks": ""
            },
            "colorscale": [
             [
              0,
              "#0d0887"
             ],
             [
              0.1111111111111111,
              "#46039f"
             ],
             [
              0.2222222222222222,
              "#7201a8"
             ],
             [
              0.3333333333333333,
              "#9c179e"
             ],
             [
              0.4444444444444444,
              "#bd3786"
             ],
             [
              0.5555555555555556,
              "#d8576b"
             ],
             [
              0.6666666666666666,
              "#ed7953"
             ],
             [
              0.7777777777777778,
              "#fb9f3a"
             ],
             [
              0.8888888888888888,
              "#fdca26"
             ],
             [
              1,
              "#f0f921"
             ]
            ],
            "type": "heatmap"
           }
          ],
          "heatmapgl": [
           {
            "colorbar": {
             "outlinewidth": 0,
             "ticks": ""
            },
            "colorscale": [
             [
              0,
              "#0d0887"
             ],
             [
              0.1111111111111111,
              "#46039f"
             ],
             [
              0.2222222222222222,
              "#7201a8"
             ],
             [
              0.3333333333333333,
              "#9c179e"
             ],
             [
              0.4444444444444444,
              "#bd3786"
             ],
             [
              0.5555555555555556,
              "#d8576b"
             ],
             [
              0.6666666666666666,
              "#ed7953"
             ],
             [
              0.7777777777777778,
              "#fb9f3a"
             ],
             [
              0.8888888888888888,
              "#fdca26"
             ],
             [
              1,
              "#f0f921"
             ]
            ],
            "type": "heatmapgl"
           }
          ],
          "histogram": [
           {
            "marker": {
             "pattern": {
              "fillmode": "overlay",
              "size": 10,
              "solidity": 0.2
             }
            },
            "type": "histogram"
           }
          ],
          "histogram2d": [
           {
            "colorbar": {
             "outlinewidth": 0,
             "ticks": ""
            },
            "colorscale": [
             [
              0,
              "#0d0887"
             ],
             [
              0.1111111111111111,
              "#46039f"
             ],
             [
              0.2222222222222222,
              "#7201a8"
             ],
             [
              0.3333333333333333,
              "#9c179e"
             ],
             [
              0.4444444444444444,
              "#bd3786"
             ],
             [
              0.5555555555555556,
              "#d8576b"
             ],
             [
              0.6666666666666666,
              "#ed7953"
             ],
             [
              0.7777777777777778,
              "#fb9f3a"
             ],
             [
              0.8888888888888888,
              "#fdca26"
             ],
             [
              1,
              "#f0f921"
             ]
            ],
            "type": "histogram2d"
           }
          ],
          "histogram2dcontour": [
           {
            "colorbar": {
             "outlinewidth": 0,
             "ticks": ""
            },
            "colorscale": [
             [
              0,
              "#0d0887"
             ],
             [
              0.1111111111111111,
              "#46039f"
             ],
             [
              0.2222222222222222,
              "#7201a8"
             ],
             [
              0.3333333333333333,
              "#9c179e"
             ],
             [
              0.4444444444444444,
              "#bd3786"
             ],
             [
              0.5555555555555556,
              "#d8576b"
             ],
             [
              0.6666666666666666,
              "#ed7953"
             ],
             [
              0.7777777777777778,
              "#fb9f3a"
             ],
             [
              0.8888888888888888,
              "#fdca26"
             ],
             [
              1,
              "#f0f921"
             ]
            ],
            "type": "histogram2dcontour"
           }
          ],
          "mesh3d": [
           {
            "colorbar": {
             "outlinewidth": 0,
             "ticks": ""
            },
            "type": "mesh3d"
           }
          ],
          "parcoords": [
           {
            "line": {
             "colorbar": {
              "outlinewidth": 0,
              "ticks": ""
             }
            },
            "type": "parcoords"
           }
          ],
          "pie": [
           {
            "automargin": true,
            "type": "pie"
           }
          ],
          "scatter": [
           {
            "marker": {
             "line": {
              "color": "#283442"
             }
            },
            "type": "scatter"
           }
          ],
          "scatter3d": [
           {
            "line": {
             "colorbar": {
              "outlinewidth": 0,
              "ticks": ""
             }
            },
            "marker": {
             "colorbar": {
              "outlinewidth": 0,
              "ticks": ""
             }
            },
            "type": "scatter3d"
           }
          ],
          "scattercarpet": [
           {
            "marker": {
             "colorbar": {
              "outlinewidth": 0,
              "ticks": ""
             }
            },
            "type": "scattercarpet"
           }
          ],
          "scattergeo": [
           {
            "marker": {
             "colorbar": {
              "outlinewidth": 0,
              "ticks": ""
             }
            },
            "type": "scattergeo"
           }
          ],
          "scattergl": [
           {
            "marker": {
             "line": {
              "color": "#283442"
             }
            },
            "type": "scattergl"
           }
          ],
          "scattermapbox": [
           {
            "marker": {
             "colorbar": {
              "outlinewidth": 0,
              "ticks": ""
             }
            },
            "type": "scattermapbox"
           }
          ],
          "scatterpolar": [
           {
            "marker": {
             "colorbar": {
              "outlinewidth": 0,
              "ticks": ""
             }
            },
            "type": "scatterpolar"
           }
          ],
          "scatterpolargl": [
           {
            "marker": {
             "colorbar": {
              "outlinewidth": 0,
              "ticks": ""
             }
            },
            "type": "scatterpolargl"
           }
          ],
          "scatterternary": [
           {
            "marker": {
             "colorbar": {
              "outlinewidth": 0,
              "ticks": ""
             }
            },
            "type": "scatterternary"
           }
          ],
          "surface": [
           {
            "colorbar": {
             "outlinewidth": 0,
             "ticks": ""
            },
            "colorscale": [
             [
              0,
              "#0d0887"
             ],
             [
              0.1111111111111111,
              "#46039f"
             ],
             [
              0.2222222222222222,
              "#7201a8"
             ],
             [
              0.3333333333333333,
              "#9c179e"
             ],
             [
              0.4444444444444444,
              "#bd3786"
             ],
             [
              0.5555555555555556,
              "#d8576b"
             ],
             [
              0.6666666666666666,
              "#ed7953"
             ],
             [
              0.7777777777777778,
              "#fb9f3a"
             ],
             [
              0.8888888888888888,
              "#fdca26"
             ],
             [
              1,
              "#f0f921"
             ]
            ],
            "type": "surface"
           }
          ],
          "table": [
           {
            "cells": {
             "fill": {
              "color": "#506784"
             },
             "line": {
              "color": "rgb(17,17,17)"
             }
            },
            "header": {
             "fill": {
              "color": "#2a3f5f"
             },
             "line": {
              "color": "rgb(17,17,17)"
             }
            },
            "type": "table"
           }
          ]
         },
         "layout": {
          "annotationdefaults": {
           "arrowcolor": "#f2f5fa",
           "arrowhead": 0,
           "arrowwidth": 1
          },
          "autotypenumbers": "strict",
          "coloraxis": {
           "colorbar": {
            "outlinewidth": 0,
            "ticks": ""
           }
          },
          "colorscale": {
           "diverging": [
            [
             0,
             "#8e0152"
            ],
            [
             0.1,
             "#c51b7d"
            ],
            [
             0.2,
             "#de77ae"
            ],
            [
             0.3,
             "#f1b6da"
            ],
            [
             0.4,
             "#fde0ef"
            ],
            [
             0.5,
             "#f7f7f7"
            ],
            [
             0.6,
             "#e6f5d0"
            ],
            [
             0.7,
             "#b8e186"
            ],
            [
             0.8,
             "#7fbc41"
            ],
            [
             0.9,
             "#4d9221"
            ],
            [
             1,
             "#276419"
            ]
           ],
           "sequential": [
            [
             0,
             "#0d0887"
            ],
            [
             0.1111111111111111,
             "#46039f"
            ],
            [
             0.2222222222222222,
             "#7201a8"
            ],
            [
             0.3333333333333333,
             "#9c179e"
            ],
            [
             0.4444444444444444,
             "#bd3786"
            ],
            [
             0.5555555555555556,
             "#d8576b"
            ],
            [
             0.6666666666666666,
             "#ed7953"
            ],
            [
             0.7777777777777778,
             "#fb9f3a"
            ],
            [
             0.8888888888888888,
             "#fdca26"
            ],
            [
             1,
             "#f0f921"
            ]
           ],
           "sequentialminus": [
            [
             0,
             "#0d0887"
            ],
            [
             0.1111111111111111,
             "#46039f"
            ],
            [
             0.2222222222222222,
             "#7201a8"
            ],
            [
             0.3333333333333333,
             "#9c179e"
            ],
            [
             0.4444444444444444,
             "#bd3786"
            ],
            [
             0.5555555555555556,
             "#d8576b"
            ],
            [
             0.6666666666666666,
             "#ed7953"
            ],
            [
             0.7777777777777778,
             "#fb9f3a"
            ],
            [
             0.8888888888888888,
             "#fdca26"
            ],
            [
             1,
             "#f0f921"
            ]
           ]
          },
          "colorway": [
           "#636efa",
           "#EF553B",
           "#00cc96",
           "#ab63fa",
           "#FFA15A",
           "#19d3f3",
           "#FF6692",
           "#B6E880",
           "#FF97FF",
           "#FECB52"
          ],
          "font": {
           "color": "#f2f5fa"
          },
          "geo": {
           "bgcolor": "rgb(17,17,17)",
           "lakecolor": "rgb(17,17,17)",
           "landcolor": "rgb(17,17,17)",
           "showlakes": true,
           "showland": true,
           "subunitcolor": "#506784"
          },
          "hoverlabel": {
           "align": "left"
          },
          "hovermode": "closest",
          "mapbox": {
           "style": "dark"
          },
          "paper_bgcolor": "rgb(17,17,17)",
          "plot_bgcolor": "rgb(17,17,17)",
          "polar": {
           "angularaxis": {
            "gridcolor": "#506784",
            "linecolor": "#506784",
            "ticks": ""
           },
           "bgcolor": "rgb(17,17,17)",
           "radialaxis": {
            "gridcolor": "#506784",
            "linecolor": "#506784",
            "ticks": ""
           }
          },
          "scene": {
           "xaxis": {
            "backgroundcolor": "rgb(17,17,17)",
            "gridcolor": "#506784",
            "gridwidth": 2,
            "linecolor": "#506784",
            "showbackground": true,
            "ticks": "",
            "zerolinecolor": "#C8D4E3"
           },
           "yaxis": {
            "backgroundcolor": "rgb(17,17,17)",
            "gridcolor": "#506784",
            "gridwidth": 2,
            "linecolor": "#506784",
            "showbackground": true,
            "ticks": "",
            "zerolinecolor": "#C8D4E3"
           },
           "zaxis": {
            "backgroundcolor": "rgb(17,17,17)",
            "gridcolor": "#506784",
            "gridwidth": 2,
            "linecolor": "#506784",
            "showbackground": true,
            "ticks": "",
            "zerolinecolor": "#C8D4E3"
           }
          },
          "shapedefaults": {
           "line": {
            "color": "#f2f5fa"
           }
          },
          "sliderdefaults": {
           "bgcolor": "#C8D4E3",
           "bordercolor": "rgb(17,17,17)",
           "borderwidth": 1,
           "tickwidth": 0
          },
          "ternary": {
           "aaxis": {
            "gridcolor": "#506784",
            "linecolor": "#506784",
            "ticks": ""
           },
           "baxis": {
            "gridcolor": "#506784",
            "linecolor": "#506784",
            "ticks": ""
           },
           "bgcolor": "rgb(17,17,17)",
           "caxis": {
            "gridcolor": "#506784",
            "linecolor": "#506784",
            "ticks": ""
           }
          },
          "title": {
           "x": 0.05
          },
          "updatemenudefaults": {
           "bgcolor": "#506784",
           "borderwidth": 0
          },
          "xaxis": {
           "automargin": true,
           "gridcolor": "#283442",
           "linecolor": "#506784",
           "ticks": "",
           "title": {
            "standoff": 15
           },
           "zerolinecolor": "#283442",
           "zerolinewidth": 2
          },
          "yaxis": {
           "automargin": true,
           "gridcolor": "#283442",
           "linecolor": "#506784",
           "ticks": "",
           "title": {
            "standoff": 15
           },
           "zerolinecolor": "#283442",
           "zerolinewidth": 2
          }
         }
        },
        "title": {
         "text": "Book Ratings and Review Ratio by Genre"
        },
        "xaxis": {
         "anchor": "y",
         "domain": [
          0,
          1
         ],
         "title": {
          "text": "Book Rating"
         }
        },
        "xaxis2": {
         "anchor": "y2",
         "domain": [
          0,
          1
         ],
         "matches": "x",
         "showgrid": true,
         "showticklabels": false
        },
        "yaxis": {
         "anchor": "x",
         "domain": [
          0,
          0.7326
         ],
         "title": {
          "text": "sum of Review Ratio"
         }
        },
        "yaxis2": {
         "anchor": "x2",
         "domain": [
          0.7426,
          1
         ],
         "matches": "y2",
         "showgrid": false,
         "showline": false,
         "showticklabels": false,
         "ticks": ""
        }
       }
      }
     },
     "metadata": {},
     "output_type": "display_data"
    }
   ],
   "source": [
    "#A histogram of book ratings and review ratio for genre\n",
    "\n",
    "fig = px.histogram(result_df, x=\"Book Rating\", y=\"Review Ratio\", color=\"Genre\", marginal=\"rug\", hover_data=result_df.columns, title=\"Book Ratings and Review Ratio by Genre\", template='plotly_dark')\n",
    "fig.show()"
   ]
  },
  {
   "cell_type": "markdown",
   "metadata": {},
   "source": [
    "Note: \n",
    "\n",
    "The visualization suggests there isn't a direct correlation between book ratings and review ratios across genres; high book ratings do not necessarily correspond to high review ratios and vice versa.\n",
    "\n",
    "Certain genres stand out with higher review ratios, which may indicate higher reader engagement or more polarized opinions prompting readers to leave reviews."
   ]
  },
  {
   "cell_type": "code",
   "execution_count": 44,
   "metadata": {},
   "outputs": [
    {
     "data": {
      "application/vnd.plotly.v1+json": {
       "config": {
        "plotlyServerURL": "https://plot.ly"
       },
       "data": [
        {
         "fillpattern": {
          "shape": ""
         },
         "hovertemplate": "Genre=fantasy<br>Published Year=%{x}<br>Book Rating=%{y}<extra></extra>",
         "legendgroup": "fantasy",
         "line": {
          "color": "#636efa"
         },
         "marker": {
          "symbol": "circle"
         },
         "mode": "lines",
         "name": "fantasy",
         "orientation": "v",
         "showlegend": true,
         "stackgroup": "1",
         "type": "scatter",
         "x": [
          "1957"
         ],
         "xaxis": "x",
         "y": [
          "4.09"
         ],
         "yaxis": "y"
        },
        {
         "fillpattern": {
          "shape": ""
         },
         "hovertemplate": "Genre=political fiction<br>Published Year=%{x}<br>Book Rating=%{y}<extra></extra>",
         "legendgroup": "political fiction",
         "line": {
          "color": "#EF553B"
         },
         "marker": {
          "symbol": "circle"
         },
         "mode": "lines",
         "name": "political fiction",
         "orientation": "v",
         "showlegend": true,
         "stackgroup": "1",
         "type": "scatter",
         "x": [
          "2002",
          "1986"
         ],
         "xaxis": "x",
         "y": [
          "3.49",
          "3.49"
         ],
         "yaxis": "y"
        },
        {
         "fillpattern": {
          "shape": ""
         },
         "hovertemplate": "Genre=roman à clef<br>Published Year=%{x}<br>Book Rating=%{y}<extra></extra>",
         "legendgroup": "roman à clef",
         "line": {
          "color": "#00cc96"
         },
         "marker": {
          "symbol": "circle"
         },
         "mode": "lines",
         "name": "roman à clef",
         "orientation": "v",
         "showlegend": true,
         "stackgroup": "1",
         "type": "scatter",
         "x": [
          "2002",
          "1986"
         ],
         "xaxis": "x",
         "y": [
          "3.49",
          "3.49"
         ],
         "yaxis": "y"
        },
        {
         "fillpattern": {
          "shape": ""
         },
         "hovertemplate": "Genre=romantic fiction<br>Published Year=%{x}<br>Book Rating=%{y}<extra></extra>",
         "legendgroup": "romantic fiction",
         "line": {
          "color": "#ab63fa"
         },
         "marker": {
          "symbol": "circle"
         },
         "mode": "lines",
         "name": "romantic fiction",
         "orientation": "v",
         "showlegend": true,
         "stackgroup": "1",
         "type": "scatter",
         "x": [
          "1986",
          "2002"
         ],
         "xaxis": "x",
         "y": [
          "3.49",
          "3.49"
         ],
         "yaxis": "y"
        },
        {
         "fillpattern": {
          "shape": ""
         },
         "hovertemplate": "Genre=alternate history<br>Published Year=%{x}<br>Book Rating=%{y}<extra></extra>",
         "legendgroup": "alternate history",
         "line": {
          "color": "#FFA15A"
         },
         "marker": {
          "symbol": "circle"
         },
         "mode": "lines",
         "name": "alternate history",
         "orientation": "v",
         "showlegend": true,
         "stackgroup": "1",
         "type": "scatter",
         "x": [
          "2002"
         ],
         "xaxis": "x",
         "y": [
          "3.73"
         ],
         "yaxis": "y"
        },
        {
         "fillpattern": {
          "shape": ""
         },
         "hovertemplate": "Genre=children's novel<br>Published Year=%{x}<br>Book Rating=%{y}<extra></extra>",
         "legendgroup": "children's novel",
         "line": {
          "color": "#19d3f3"
         },
         "marker": {
          "symbol": "circle"
         },
         "mode": "lines",
         "name": "children's novel",
         "orientation": "v",
         "showlegend": true,
         "stackgroup": "1",
         "type": "scatter",
         "x": [
          "1954"
         ],
         "xaxis": "x",
         "y": [
          "4.17"
         ],
         "yaxis": "y"
        },
        {
         "fillpattern": {
          "shape": ""
         },
         "hovertemplate": "Genre=fairy tale<br>Published Year=%{x}<br>Book Rating=%{y}<extra></extra>",
         "legendgroup": "fairy tale",
         "line": {
          "color": "#FF6692"
         },
         "marker": {
          "symbol": "circle"
         },
         "mode": "lines",
         "name": "fairy tale",
         "orientation": "v",
         "showlegend": true,
         "stackgroup": "1",
         "type": "scatter",
         "x": [
          "1954"
         ],
         "xaxis": "x",
         "y": [
          "4.17"
         ],
         "yaxis": "y"
        },
        {
         "fillpattern": {
          "shape": ""
         },
         "hovertemplate": "Genre=magic realism<br>Published Year=%{x}<br>Book Rating=%{y}<extra></extra>",
         "legendgroup": "magic realism",
         "line": {
          "color": "#B6E880"
         },
         "marker": {
          "symbol": "circle"
         },
         "mode": "lines",
         "name": "magic realism",
         "orientation": "v",
         "showlegend": true,
         "stackgroup": "1",
         "type": "scatter",
         "x": [
          "1967"
         ],
         "xaxis": "x",
         "y": [
          "4.07"
         ],
         "yaxis": "y"
        },
        {
         "fillpattern": {
          "shape": ""
         },
         "hovertemplate": "Genre=vampire literature<br>Published Year=%{x}<br>Book Rating=%{y}<extra></extra>",
         "legendgroup": "vampire literature",
         "line": {
          "color": "#FF97FF"
         },
         "marker": {
          "symbol": "circle"
         },
         "mode": "lines",
         "name": "vampire literature",
         "orientation": "v",
         "showlegend": true,
         "stackgroup": "1",
         "type": "scatter",
         "x": [
          "2006"
         ],
         "xaxis": "x",
         "y": [
          "3.8"
         ],
         "yaxis": "y"
        },
        {
         "fillpattern": {
          "shape": ""
         },
         "hovertemplate": "Genre=science fiction<br>Published Year=%{x}<br>Book Rating=%{y}<extra></extra>",
         "legendgroup": "science fiction",
         "line": {
          "color": "#FECB52"
         },
         "marker": {
          "symbol": "circle"
         },
         "mode": "lines",
         "name": "science fiction",
         "orientation": "v",
         "showlegend": true,
         "stackgroup": "1",
         "type": "scatter",
         "x": [
          "2006",
          "2004",
          "1979"
         ],
         "xaxis": "x",
         "y": [
          "3.8",
          "3.59",
          "3.82"
         ],
         "yaxis": "y"
        },
        {
         "fillpattern": {
          "shape": ""
         },
         "hovertemplate": "Genre=comedy<br>Published Year=%{x}<br>Book Rating=%{y}<extra></extra>",
         "legendgroup": "comedy",
         "line": {
          "color": "#636efa"
         },
         "marker": {
          "symbol": "circle"
         },
         "mode": "lines",
         "name": "comedy",
         "orientation": "v",
         "showlegend": true,
         "stackgroup": "1",
         "type": "scatter",
         "x": [
          "1936"
         ],
         "xaxis": "x",
         "y": [
          "3.89"
         ],
         "yaxis": "y"
        },
        {
         "fillpattern": {
          "shape": ""
         },
         "hovertemplate": "Genre=LGBT literature<br>Published Year=%{x}<br>Book Rating=%{y}<extra></extra>",
         "legendgroup": "LGBT literature",
         "line": {
          "color": "#EF553B"
         },
         "marker": {
          "symbol": "circle"
         },
         "mode": "lines",
         "name": "LGBT literature",
         "orientation": "v",
         "showlegend": true,
         "stackgroup": "1",
         "type": "scatter",
         "x": [
          "1973"
         ],
         "xaxis": "x",
         "y": [
          "4.07"
         ],
         "yaxis": "y"
        },
        {
         "fillpattern": {
          "shape": ""
         },
         "hovertemplate": "Genre=historical fiction<br>Published Year=%{x}<br>Book Rating=%{y}<extra></extra>",
         "legendgroup": "historical fiction",
         "line": {
          "color": "#00cc96"
         },
         "marker": {
          "symbol": "circle"
         },
         "mode": "lines",
         "name": "historical fiction",
         "orientation": "v",
         "showlegend": true,
         "stackgroup": "1",
         "type": "scatter",
         "x": [
          "1973"
         ],
         "xaxis": "x",
         "y": [
          "4.07"
         ],
         "yaxis": "y"
        },
        {
         "fillpattern": {
          "shape": ""
         },
         "hovertemplate": "Genre=pornographic film<br>Published Year=%{x}<br>Book Rating=%{y}<extra></extra>",
         "legendgroup": "pornographic film",
         "line": {
          "color": "#ab63fa"
         },
         "marker": {
          "symbol": "circle"
         },
         "mode": "lines",
         "name": "pornographic film",
         "orientation": "v",
         "showlegend": true,
         "stackgroup": "1",
         "type": "scatter",
         "x": [
          "1997"
         ],
         "xaxis": "x",
         "y": [
          "4.11"
         ],
         "yaxis": "y"
        },
        {
         "fillpattern": {
          "shape": ""
         },
         "hovertemplate": "Genre=satirical fiction<br>Published Year=%{x}<br>Book Rating=%{y}<extra></extra>",
         "legendgroup": "satirical fiction",
         "line": {
          "color": "#FFA15A"
         },
         "marker": {
          "symbol": "circle"
         },
         "mode": "lines",
         "name": "satirical fiction",
         "orientation": "v",
         "showlegend": true,
         "stackgroup": "1",
         "type": "scatter",
         "x": [
          "2001"
         ],
         "xaxis": "x",
         "y": [
          "3.84"
         ],
         "yaxis": "y"
        },
        {
         "fillpattern": {
          "shape": ""
         },
         "hovertemplate": "Genre=Bildungsroman<br>Published Year=%{x}<br>Book Rating=%{y}<extra></extra>",
         "legendgroup": "Bildungsroman",
         "line": {
          "color": "#19d3f3"
         },
         "marker": {
          "symbol": "circle"
         },
         "mode": "lines",
         "name": "Bildungsroman",
         "orientation": "v",
         "showlegend": true,
         "stackgroup": "1",
         "type": "scatter",
         "x": [
          "1969"
         ],
         "xaxis": "x",
         "y": [
          "3.8"
         ],
         "yaxis": "y"
        },
        {
         "fillpattern": {
          "shape": ""
         },
         "hovertemplate": "Genre=speculative/fantastic fiction novel<br>Published Year=%{x}<br>Book Rating=%{y}<extra></extra>",
         "legendgroup": "speculative/fantastic fiction novel",
         "line": {
          "color": "#FF6692"
         },
         "marker": {
          "symbol": "circle"
         },
         "mode": "lines",
         "name": "speculative/fantastic fiction novel",
         "orientation": "v",
         "showlegend": true,
         "stackgroup": "1",
         "type": "scatter",
         "x": [
          "1997"
         ],
         "xaxis": "x",
         "y": [
          "4.09"
         ],
         "yaxis": "y"
        },
        {
         "fillpattern": {
          "shape": ""
         },
         "hovertemplate": "Genre=high fantasy<br>Published Year=%{x}<br>Book Rating=%{y}<extra></extra>",
         "legendgroup": "high fantasy",
         "line": {
          "color": "#B6E880"
         },
         "marker": {
          "symbol": "circle"
         },
         "mode": "lines",
         "name": "high fantasy",
         "orientation": "v",
         "showlegend": true,
         "stackgroup": "1",
         "type": "scatter",
         "x": [
          "1997"
         ],
         "xaxis": "x",
         "y": [
          "4.09"
         ],
         "yaxis": "y"
        }
       ],
       "layout": {
        "legend": {
         "title": {
          "text": "Genre"
         },
         "tracegroupgap": 0
        },
        "template": {
         "data": {
          "bar": [
           {
            "error_x": {
             "color": "#f2f5fa"
            },
            "error_y": {
             "color": "#f2f5fa"
            },
            "marker": {
             "line": {
              "color": "rgb(17,17,17)",
              "width": 0.5
             },
             "pattern": {
              "fillmode": "overlay",
              "size": 10,
              "solidity": 0.2
             }
            },
            "type": "bar"
           }
          ],
          "barpolar": [
           {
            "marker": {
             "line": {
              "color": "rgb(17,17,17)",
              "width": 0.5
             },
             "pattern": {
              "fillmode": "overlay",
              "size": 10,
              "solidity": 0.2
             }
            },
            "type": "barpolar"
           }
          ],
          "carpet": [
           {
            "aaxis": {
             "endlinecolor": "#A2B1C6",
             "gridcolor": "#506784",
             "linecolor": "#506784",
             "minorgridcolor": "#506784",
             "startlinecolor": "#A2B1C6"
            },
            "baxis": {
             "endlinecolor": "#A2B1C6",
             "gridcolor": "#506784",
             "linecolor": "#506784",
             "minorgridcolor": "#506784",
             "startlinecolor": "#A2B1C6"
            },
            "type": "carpet"
           }
          ],
          "choropleth": [
           {
            "colorbar": {
             "outlinewidth": 0,
             "ticks": ""
            },
            "type": "choropleth"
           }
          ],
          "contour": [
           {
            "colorbar": {
             "outlinewidth": 0,
             "ticks": ""
            },
            "colorscale": [
             [
              0,
              "#0d0887"
             ],
             [
              0.1111111111111111,
              "#46039f"
             ],
             [
              0.2222222222222222,
              "#7201a8"
             ],
             [
              0.3333333333333333,
              "#9c179e"
             ],
             [
              0.4444444444444444,
              "#bd3786"
             ],
             [
              0.5555555555555556,
              "#d8576b"
             ],
             [
              0.6666666666666666,
              "#ed7953"
             ],
             [
              0.7777777777777778,
              "#fb9f3a"
             ],
             [
              0.8888888888888888,
              "#fdca26"
             ],
             [
              1,
              "#f0f921"
             ]
            ],
            "type": "contour"
           }
          ],
          "contourcarpet": [
           {
            "colorbar": {
             "outlinewidth": 0,
             "ticks": ""
            },
            "type": "contourcarpet"
           }
          ],
          "heatmap": [
           {
            "colorbar": {
             "outlinewidth": 0,
             "ticks": ""
            },
            "colorscale": [
             [
              0,
              "#0d0887"
             ],
             [
              0.1111111111111111,
              "#46039f"
             ],
             [
              0.2222222222222222,
              "#7201a8"
             ],
             [
              0.3333333333333333,
              "#9c179e"
             ],
             [
              0.4444444444444444,
              "#bd3786"
             ],
             [
              0.5555555555555556,
              "#d8576b"
             ],
             [
              0.6666666666666666,
              "#ed7953"
             ],
             [
              0.7777777777777778,
              "#fb9f3a"
             ],
             [
              0.8888888888888888,
              "#fdca26"
             ],
             [
              1,
              "#f0f921"
             ]
            ],
            "type": "heatmap"
           }
          ],
          "heatmapgl": [
           {
            "colorbar": {
             "outlinewidth": 0,
             "ticks": ""
            },
            "colorscale": [
             [
              0,
              "#0d0887"
             ],
             [
              0.1111111111111111,
              "#46039f"
             ],
             [
              0.2222222222222222,
              "#7201a8"
             ],
             [
              0.3333333333333333,
              "#9c179e"
             ],
             [
              0.4444444444444444,
              "#bd3786"
             ],
             [
              0.5555555555555556,
              "#d8576b"
             ],
             [
              0.6666666666666666,
              "#ed7953"
             ],
             [
              0.7777777777777778,
              "#fb9f3a"
             ],
             [
              0.8888888888888888,
              "#fdca26"
             ],
             [
              1,
              "#f0f921"
             ]
            ],
            "type": "heatmapgl"
           }
          ],
          "histogram": [
           {
            "marker": {
             "pattern": {
              "fillmode": "overlay",
              "size": 10,
              "solidity": 0.2
             }
            },
            "type": "histogram"
           }
          ],
          "histogram2d": [
           {
            "colorbar": {
             "outlinewidth": 0,
             "ticks": ""
            },
            "colorscale": [
             [
              0,
              "#0d0887"
             ],
             [
              0.1111111111111111,
              "#46039f"
             ],
             [
              0.2222222222222222,
              "#7201a8"
             ],
             [
              0.3333333333333333,
              "#9c179e"
             ],
             [
              0.4444444444444444,
              "#bd3786"
             ],
             [
              0.5555555555555556,
              "#d8576b"
             ],
             [
              0.6666666666666666,
              "#ed7953"
             ],
             [
              0.7777777777777778,
              "#fb9f3a"
             ],
             [
              0.8888888888888888,
              "#fdca26"
             ],
             [
              1,
              "#f0f921"
             ]
            ],
            "type": "histogram2d"
           }
          ],
          "histogram2dcontour": [
           {
            "colorbar": {
             "outlinewidth": 0,
             "ticks": ""
            },
            "colorscale": [
             [
              0,
              "#0d0887"
             ],
             [
              0.1111111111111111,
              "#46039f"
             ],
             [
              0.2222222222222222,
              "#7201a8"
             ],
             [
              0.3333333333333333,
              "#9c179e"
             ],
             [
              0.4444444444444444,
              "#bd3786"
             ],
             [
              0.5555555555555556,
              "#d8576b"
             ],
             [
              0.6666666666666666,
              "#ed7953"
             ],
             [
              0.7777777777777778,
              "#fb9f3a"
             ],
             [
              0.8888888888888888,
              "#fdca26"
             ],
             [
              1,
              "#f0f921"
             ]
            ],
            "type": "histogram2dcontour"
           }
          ],
          "mesh3d": [
           {
            "colorbar": {
             "outlinewidth": 0,
             "ticks": ""
            },
            "type": "mesh3d"
           }
          ],
          "parcoords": [
           {
            "line": {
             "colorbar": {
              "outlinewidth": 0,
              "ticks": ""
             }
            },
            "type": "parcoords"
           }
          ],
          "pie": [
           {
            "automargin": true,
            "type": "pie"
           }
          ],
          "scatter": [
           {
            "marker": {
             "line": {
              "color": "#283442"
             }
            },
            "type": "scatter"
           }
          ],
          "scatter3d": [
           {
            "line": {
             "colorbar": {
              "outlinewidth": 0,
              "ticks": ""
             }
            },
            "marker": {
             "colorbar": {
              "outlinewidth": 0,
              "ticks": ""
             }
            },
            "type": "scatter3d"
           }
          ],
          "scattercarpet": [
           {
            "marker": {
             "colorbar": {
              "outlinewidth": 0,
              "ticks": ""
             }
            },
            "type": "scattercarpet"
           }
          ],
          "scattergeo": [
           {
            "marker": {
             "colorbar": {
              "outlinewidth": 0,
              "ticks": ""
             }
            },
            "type": "scattergeo"
           }
          ],
          "scattergl": [
           {
            "marker": {
             "line": {
              "color": "#283442"
             }
            },
            "type": "scattergl"
           }
          ],
          "scattermapbox": [
           {
            "marker": {
             "colorbar": {
              "outlinewidth": 0,
              "ticks": ""
             }
            },
            "type": "scattermapbox"
           }
          ],
          "scatterpolar": [
           {
            "marker": {
             "colorbar": {
              "outlinewidth": 0,
              "ticks": ""
             }
            },
            "type": "scatterpolar"
           }
          ],
          "scatterpolargl": [
           {
            "marker": {
             "colorbar": {
              "outlinewidth": 0,
              "ticks": ""
             }
            },
            "type": "scatterpolargl"
           }
          ],
          "scatterternary": [
           {
            "marker": {
             "colorbar": {
              "outlinewidth": 0,
              "ticks": ""
             }
            },
            "type": "scatterternary"
           }
          ],
          "surface": [
           {
            "colorbar": {
             "outlinewidth": 0,
             "ticks": ""
            },
            "colorscale": [
             [
              0,
              "#0d0887"
             ],
             [
              0.1111111111111111,
              "#46039f"
             ],
             [
              0.2222222222222222,
              "#7201a8"
             ],
             [
              0.3333333333333333,
              "#9c179e"
             ],
             [
              0.4444444444444444,
              "#bd3786"
             ],
             [
              0.5555555555555556,
              "#d8576b"
             ],
             [
              0.6666666666666666,
              "#ed7953"
             ],
             [
              0.7777777777777778,
              "#fb9f3a"
             ],
             [
              0.8888888888888888,
              "#fdca26"
             ],
             [
              1,
              "#f0f921"
             ]
            ],
            "type": "surface"
           }
          ],
          "table": [
           {
            "cells": {
             "fill": {
              "color": "#506784"
             },
             "line": {
              "color": "rgb(17,17,17)"
             }
            },
            "header": {
             "fill": {
              "color": "#2a3f5f"
             },
             "line": {
              "color": "rgb(17,17,17)"
             }
            },
            "type": "table"
           }
          ]
         },
         "layout": {
          "annotationdefaults": {
           "arrowcolor": "#f2f5fa",
           "arrowhead": 0,
           "arrowwidth": 1
          },
          "autotypenumbers": "strict",
          "coloraxis": {
           "colorbar": {
            "outlinewidth": 0,
            "ticks": ""
           }
          },
          "colorscale": {
           "diverging": [
            [
             0,
             "#8e0152"
            ],
            [
             0.1,
             "#c51b7d"
            ],
            [
             0.2,
             "#de77ae"
            ],
            [
             0.3,
             "#f1b6da"
            ],
            [
             0.4,
             "#fde0ef"
            ],
            [
             0.5,
             "#f7f7f7"
            ],
            [
             0.6,
             "#e6f5d0"
            ],
            [
             0.7,
             "#b8e186"
            ],
            [
             0.8,
             "#7fbc41"
            ],
            [
             0.9,
             "#4d9221"
            ],
            [
             1,
             "#276419"
            ]
           ],
           "sequential": [
            [
             0,
             "#0d0887"
            ],
            [
             0.1111111111111111,
             "#46039f"
            ],
            [
             0.2222222222222222,
             "#7201a8"
            ],
            [
             0.3333333333333333,
             "#9c179e"
            ],
            [
             0.4444444444444444,
             "#bd3786"
            ],
            [
             0.5555555555555556,
             "#d8576b"
            ],
            [
             0.6666666666666666,
             "#ed7953"
            ],
            [
             0.7777777777777778,
             "#fb9f3a"
            ],
            [
             0.8888888888888888,
             "#fdca26"
            ],
            [
             1,
             "#f0f921"
            ]
           ],
           "sequentialminus": [
            [
             0,
             "#0d0887"
            ],
            [
             0.1111111111111111,
             "#46039f"
            ],
            [
             0.2222222222222222,
             "#7201a8"
            ],
            [
             0.3333333333333333,
             "#9c179e"
            ],
            [
             0.4444444444444444,
             "#bd3786"
            ],
            [
             0.5555555555555556,
             "#d8576b"
            ],
            [
             0.6666666666666666,
             "#ed7953"
            ],
            [
             0.7777777777777778,
             "#fb9f3a"
            ],
            [
             0.8888888888888888,
             "#fdca26"
            ],
            [
             1,
             "#f0f921"
            ]
           ]
          },
          "colorway": [
           "#636efa",
           "#EF553B",
           "#00cc96",
           "#ab63fa",
           "#FFA15A",
           "#19d3f3",
           "#FF6692",
           "#B6E880",
           "#FF97FF",
           "#FECB52"
          ],
          "font": {
           "color": "#f2f5fa"
          },
          "geo": {
           "bgcolor": "rgb(17,17,17)",
           "lakecolor": "rgb(17,17,17)",
           "landcolor": "rgb(17,17,17)",
           "showlakes": true,
           "showland": true,
           "subunitcolor": "#506784"
          },
          "hoverlabel": {
           "align": "left"
          },
          "hovermode": "closest",
          "mapbox": {
           "style": "dark"
          },
          "paper_bgcolor": "rgb(17,17,17)",
          "plot_bgcolor": "rgb(17,17,17)",
          "polar": {
           "angularaxis": {
            "gridcolor": "#506784",
            "linecolor": "#506784",
            "ticks": ""
           },
           "bgcolor": "rgb(17,17,17)",
           "radialaxis": {
            "gridcolor": "#506784",
            "linecolor": "#506784",
            "ticks": ""
           }
          },
          "scene": {
           "xaxis": {
            "backgroundcolor": "rgb(17,17,17)",
            "gridcolor": "#506784",
            "gridwidth": 2,
            "linecolor": "#506784",
            "showbackground": true,
            "ticks": "",
            "zerolinecolor": "#C8D4E3"
           },
           "yaxis": {
            "backgroundcolor": "rgb(17,17,17)",
            "gridcolor": "#506784",
            "gridwidth": 2,
            "linecolor": "#506784",
            "showbackground": true,
            "ticks": "",
            "zerolinecolor": "#C8D4E3"
           },
           "zaxis": {
            "backgroundcolor": "rgb(17,17,17)",
            "gridcolor": "#506784",
            "gridwidth": 2,
            "linecolor": "#506784",
            "showbackground": true,
            "ticks": "",
            "zerolinecolor": "#C8D4E3"
           }
          },
          "shapedefaults": {
           "line": {
            "color": "#f2f5fa"
           }
          },
          "sliderdefaults": {
           "bgcolor": "#C8D4E3",
           "bordercolor": "rgb(17,17,17)",
           "borderwidth": 1,
           "tickwidth": 0
          },
          "ternary": {
           "aaxis": {
            "gridcolor": "#506784",
            "linecolor": "#506784",
            "ticks": ""
           },
           "baxis": {
            "gridcolor": "#506784",
            "linecolor": "#506784",
            "ticks": ""
           },
           "bgcolor": "rgb(17,17,17)",
           "caxis": {
            "gridcolor": "#506784",
            "linecolor": "#506784",
            "ticks": ""
           }
          },
          "title": {
           "x": 0.05
          },
          "updatemenudefaults": {
           "bgcolor": "#506784",
           "borderwidth": 0
          },
          "xaxis": {
           "automargin": true,
           "gridcolor": "#283442",
           "linecolor": "#506784",
           "ticks": "",
           "title": {
            "standoff": 15
           },
           "zerolinecolor": "#283442",
           "zerolinewidth": 2
          },
          "yaxis": {
           "automargin": true,
           "gridcolor": "#283442",
           "linecolor": "#506784",
           "ticks": "",
           "title": {
            "standoff": 15
           },
           "zerolinecolor": "#283442",
           "zerolinewidth": 2
          }
         }
        },
        "title": {
         "text": "Book Ratings by Genre Over Time"
        },
        "xaxis": {
         "anchor": "y",
         "domain": [
          0,
          1
         ],
         "title": {
          "text": "Published Year"
         }
        },
        "yaxis": {
         "anchor": "x",
         "domain": [
          0,
          1
         ],
         "title": {
          "text": "Book Rating"
         }
        }
       }
      }
     },
     "metadata": {},
     "output_type": "display_data"
    }
   ],
   "source": [
    "#Stacked Bar Chart or Area Chart of Book Counts by Genre Over Time\n",
    "\n",
    "fig = px.area(result_df, x=\"Published Year\", y=\"Book Rating\", color=\"Genre\", title=\"Book Ratings by Genre Over Time\", template='plotly_dark')\n",
    "fig.show()"
   ]
  },
  {
   "cell_type": "code",
   "execution_count": 45,
   "metadata": {},
   "outputs": [
    {
     "data": {
      "application/vnd.plotly.v1+json": {
       "config": {
        "plotlyServerURL": "https://plot.ly"
       },
       "data": [
        {
         "alignmentgroup": "True",
         "hovertemplate": "Genre=%{x}<br>Review Ratio=%{y}<extra></extra>",
         "legendgroup": "",
         "marker": {
          "color": "#636efa",
          "pattern": {
           "shape": ""
          }
         },
         "name": "",
         "offsetgroup": "",
         "orientation": "v",
         "showlegend": false,
         "textposition": "auto",
         "type": "bar",
         "x": [
          "fantasy",
          "political fiction",
          "roman à clef",
          "romantic fiction",
          "political fiction",
          "roman à clef",
          "romantic fiction",
          "alternate history",
          "children's novel",
          "fairy tale",
          "magic realism",
          "vampire literature",
          "science fiction",
          "comedy",
          "science fiction",
          "LGBT literature",
          "historical fiction",
          "pornographic film",
          "satirical fiction",
          "science fiction",
          "Bildungsroman",
          "speculative/fantastic fiction novel",
          "high fantasy"
         ],
         "xaxis": "x",
         "y": [
          "0.176035502958579881656805",
          "0.166666666666666666666667",
          "0.166666666666666666666667",
          "0.166666666666666666666667",
          "0.166666666666666666666667",
          "0.166666666666666666666667",
          "0.166666666666666666666667",
          "0.106485445205479452054795",
          "0.098654708520179372197309",
          "0.098654708520179372197309",
          "0.091940645912132673843468",
          "0.089947089947089947089947",
          "0.089947089947089947089947",
          "0.074869413813116656993616",
          "0.072463768115942028985507",
          "0.072401927047487955953200",
          "0.072401927047487955953200",
          "0.068062827225130890052356",
          "0.041958041958041958041958",
          "0.033163693305743526648398",
          "0.017703447815547810175606",
          "0.011572877311592761980513",
          "0.011572877311592761980513"
         ],
         "yaxis": "y"
        }
       ],
       "layout": {
        "barmode": "relative",
        "legend": {
         "tracegroupgap": 0
        },
        "template": {
         "data": {
          "bar": [
           {
            "error_x": {
             "color": "#f2f5fa"
            },
            "error_y": {
             "color": "#f2f5fa"
            },
            "marker": {
             "line": {
              "color": "rgb(17,17,17)",
              "width": 0.5
             },
             "pattern": {
              "fillmode": "overlay",
              "size": 10,
              "solidity": 0.2
             }
            },
            "type": "bar"
           }
          ],
          "barpolar": [
           {
            "marker": {
             "line": {
              "color": "rgb(17,17,17)",
              "width": 0.5
             },
             "pattern": {
              "fillmode": "overlay",
              "size": 10,
              "solidity": 0.2
             }
            },
            "type": "barpolar"
           }
          ],
          "carpet": [
           {
            "aaxis": {
             "endlinecolor": "#A2B1C6",
             "gridcolor": "#506784",
             "linecolor": "#506784",
             "minorgridcolor": "#506784",
             "startlinecolor": "#A2B1C6"
            },
            "baxis": {
             "endlinecolor": "#A2B1C6",
             "gridcolor": "#506784",
             "linecolor": "#506784",
             "minorgridcolor": "#506784",
             "startlinecolor": "#A2B1C6"
            },
            "type": "carpet"
           }
          ],
          "choropleth": [
           {
            "colorbar": {
             "outlinewidth": 0,
             "ticks": ""
            },
            "type": "choropleth"
           }
          ],
          "contour": [
           {
            "colorbar": {
             "outlinewidth": 0,
             "ticks": ""
            },
            "colorscale": [
             [
              0,
              "#0d0887"
             ],
             [
              0.1111111111111111,
              "#46039f"
             ],
             [
              0.2222222222222222,
              "#7201a8"
             ],
             [
              0.3333333333333333,
              "#9c179e"
             ],
             [
              0.4444444444444444,
              "#bd3786"
             ],
             [
              0.5555555555555556,
              "#d8576b"
             ],
             [
              0.6666666666666666,
              "#ed7953"
             ],
             [
              0.7777777777777778,
              "#fb9f3a"
             ],
             [
              0.8888888888888888,
              "#fdca26"
             ],
             [
              1,
              "#f0f921"
             ]
            ],
            "type": "contour"
           }
          ],
          "contourcarpet": [
           {
            "colorbar": {
             "outlinewidth": 0,
             "ticks": ""
            },
            "type": "contourcarpet"
           }
          ],
          "heatmap": [
           {
            "colorbar": {
             "outlinewidth": 0,
             "ticks": ""
            },
            "colorscale": [
             [
              0,
              "#0d0887"
             ],
             [
              0.1111111111111111,
              "#46039f"
             ],
             [
              0.2222222222222222,
              "#7201a8"
             ],
             [
              0.3333333333333333,
              "#9c179e"
             ],
             [
              0.4444444444444444,
              "#bd3786"
             ],
             [
              0.5555555555555556,
              "#d8576b"
             ],
             [
              0.6666666666666666,
              "#ed7953"
             ],
             [
              0.7777777777777778,
              "#fb9f3a"
             ],
             [
              0.8888888888888888,
              "#fdca26"
             ],
             [
              1,
              "#f0f921"
             ]
            ],
            "type": "heatmap"
           }
          ],
          "heatmapgl": [
           {
            "colorbar": {
             "outlinewidth": 0,
             "ticks": ""
            },
            "colorscale": [
             [
              0,
              "#0d0887"
             ],
             [
              0.1111111111111111,
              "#46039f"
             ],
             [
              0.2222222222222222,
              "#7201a8"
             ],
             [
              0.3333333333333333,
              "#9c179e"
             ],
             [
              0.4444444444444444,
              "#bd3786"
             ],
             [
              0.5555555555555556,
              "#d8576b"
             ],
             [
              0.6666666666666666,
              "#ed7953"
             ],
             [
              0.7777777777777778,
              "#fb9f3a"
             ],
             [
              0.8888888888888888,
              "#fdca26"
             ],
             [
              1,
              "#f0f921"
             ]
            ],
            "type": "heatmapgl"
           }
          ],
          "histogram": [
           {
            "marker": {
             "pattern": {
              "fillmode": "overlay",
              "size": 10,
              "solidity": 0.2
             }
            },
            "type": "histogram"
           }
          ],
          "histogram2d": [
           {
            "colorbar": {
             "outlinewidth": 0,
             "ticks": ""
            },
            "colorscale": [
             [
              0,
              "#0d0887"
             ],
             [
              0.1111111111111111,
              "#46039f"
             ],
             [
              0.2222222222222222,
              "#7201a8"
             ],
             [
              0.3333333333333333,
              "#9c179e"
             ],
             [
              0.4444444444444444,
              "#bd3786"
             ],
             [
              0.5555555555555556,
              "#d8576b"
             ],
             [
              0.6666666666666666,
              "#ed7953"
             ],
             [
              0.7777777777777778,
              "#fb9f3a"
             ],
             [
              0.8888888888888888,
              "#fdca26"
             ],
             [
              1,
              "#f0f921"
             ]
            ],
            "type": "histogram2d"
           }
          ],
          "histogram2dcontour": [
           {
            "colorbar": {
             "outlinewidth": 0,
             "ticks": ""
            },
            "colorscale": [
             [
              0,
              "#0d0887"
             ],
             [
              0.1111111111111111,
              "#46039f"
             ],
             [
              0.2222222222222222,
              "#7201a8"
             ],
             [
              0.3333333333333333,
              "#9c179e"
             ],
             [
              0.4444444444444444,
              "#bd3786"
             ],
             [
              0.5555555555555556,
              "#d8576b"
             ],
             [
              0.6666666666666666,
              "#ed7953"
             ],
             [
              0.7777777777777778,
              "#fb9f3a"
             ],
             [
              0.8888888888888888,
              "#fdca26"
             ],
             [
              1,
              "#f0f921"
             ]
            ],
            "type": "histogram2dcontour"
           }
          ],
          "mesh3d": [
           {
            "colorbar": {
             "outlinewidth": 0,
             "ticks": ""
            },
            "type": "mesh3d"
           }
          ],
          "parcoords": [
           {
            "line": {
             "colorbar": {
              "outlinewidth": 0,
              "ticks": ""
             }
            },
            "type": "parcoords"
           }
          ],
          "pie": [
           {
            "automargin": true,
            "type": "pie"
           }
          ],
          "scatter": [
           {
            "marker": {
             "line": {
              "color": "#283442"
             }
            },
            "type": "scatter"
           }
          ],
          "scatter3d": [
           {
            "line": {
             "colorbar": {
              "outlinewidth": 0,
              "ticks": ""
             }
            },
            "marker": {
             "colorbar": {
              "outlinewidth": 0,
              "ticks": ""
             }
            },
            "type": "scatter3d"
           }
          ],
          "scattercarpet": [
           {
            "marker": {
             "colorbar": {
              "outlinewidth": 0,
              "ticks": ""
             }
            },
            "type": "scattercarpet"
           }
          ],
          "scattergeo": [
           {
            "marker": {
             "colorbar": {
              "outlinewidth": 0,
              "ticks": ""
             }
            },
            "type": "scattergeo"
           }
          ],
          "scattergl": [
           {
            "marker": {
             "line": {
              "color": "#283442"
             }
            },
            "type": "scattergl"
           }
          ],
          "scattermapbox": [
           {
            "marker": {
             "colorbar": {
              "outlinewidth": 0,
              "ticks": ""
             }
            },
            "type": "scattermapbox"
           }
          ],
          "scatterpolar": [
           {
            "marker": {
             "colorbar": {
              "outlinewidth": 0,
              "ticks": ""
             }
            },
            "type": "scatterpolar"
           }
          ],
          "scatterpolargl": [
           {
            "marker": {
             "colorbar": {
              "outlinewidth": 0,
              "ticks": ""
             }
            },
            "type": "scatterpolargl"
           }
          ],
          "scatterternary": [
           {
            "marker": {
             "colorbar": {
              "outlinewidth": 0,
              "ticks": ""
             }
            },
            "type": "scatterternary"
           }
          ],
          "surface": [
           {
            "colorbar": {
             "outlinewidth": 0,
             "ticks": ""
            },
            "colorscale": [
             [
              0,
              "#0d0887"
             ],
             [
              0.1111111111111111,
              "#46039f"
             ],
             [
              0.2222222222222222,
              "#7201a8"
             ],
             [
              0.3333333333333333,
              "#9c179e"
             ],
             [
              0.4444444444444444,
              "#bd3786"
             ],
             [
              0.5555555555555556,
              "#d8576b"
             ],
             [
              0.6666666666666666,
              "#ed7953"
             ],
             [
              0.7777777777777778,
              "#fb9f3a"
             ],
             [
              0.8888888888888888,
              "#fdca26"
             ],
             [
              1,
              "#f0f921"
             ]
            ],
            "type": "surface"
           }
          ],
          "table": [
           {
            "cells": {
             "fill": {
              "color": "#506784"
             },
             "line": {
              "color": "rgb(17,17,17)"
             }
            },
            "header": {
             "fill": {
              "color": "#2a3f5f"
             },
             "line": {
              "color": "rgb(17,17,17)"
             }
            },
            "type": "table"
           }
          ]
         },
         "layout": {
          "annotationdefaults": {
           "arrowcolor": "#f2f5fa",
           "arrowhead": 0,
           "arrowwidth": 1
          },
          "autotypenumbers": "strict",
          "coloraxis": {
           "colorbar": {
            "outlinewidth": 0,
            "ticks": ""
           }
          },
          "colorscale": {
           "diverging": [
            [
             0,
             "#8e0152"
            ],
            [
             0.1,
             "#c51b7d"
            ],
            [
             0.2,
             "#de77ae"
            ],
            [
             0.3,
             "#f1b6da"
            ],
            [
             0.4,
             "#fde0ef"
            ],
            [
             0.5,
             "#f7f7f7"
            ],
            [
             0.6,
             "#e6f5d0"
            ],
            [
             0.7,
             "#b8e186"
            ],
            [
             0.8,
             "#7fbc41"
            ],
            [
             0.9,
             "#4d9221"
            ],
            [
             1,
             "#276419"
            ]
           ],
           "sequential": [
            [
             0,
             "#0d0887"
            ],
            [
             0.1111111111111111,
             "#46039f"
            ],
            [
             0.2222222222222222,
             "#7201a8"
            ],
            [
             0.3333333333333333,
             "#9c179e"
            ],
            [
             0.4444444444444444,
             "#bd3786"
            ],
            [
             0.5555555555555556,
             "#d8576b"
            ],
            [
             0.6666666666666666,
             "#ed7953"
            ],
            [
             0.7777777777777778,
             "#fb9f3a"
            ],
            [
             0.8888888888888888,
             "#fdca26"
            ],
            [
             1,
             "#f0f921"
            ]
           ],
           "sequentialminus": [
            [
             0,
             "#0d0887"
            ],
            [
             0.1111111111111111,
             "#46039f"
            ],
            [
             0.2222222222222222,
             "#7201a8"
            ],
            [
             0.3333333333333333,
             "#9c179e"
            ],
            [
             0.4444444444444444,
             "#bd3786"
            ],
            [
             0.5555555555555556,
             "#d8576b"
            ],
            [
             0.6666666666666666,
             "#ed7953"
            ],
            [
             0.7777777777777778,
             "#fb9f3a"
            ],
            [
             0.8888888888888888,
             "#fdca26"
            ],
            [
             1,
             "#f0f921"
            ]
           ]
          },
          "colorway": [
           "#636efa",
           "#EF553B",
           "#00cc96",
           "#ab63fa",
           "#FFA15A",
           "#19d3f3",
           "#FF6692",
           "#B6E880",
           "#FF97FF",
           "#FECB52"
          ],
          "font": {
           "color": "#f2f5fa"
          },
          "geo": {
           "bgcolor": "rgb(17,17,17)",
           "lakecolor": "rgb(17,17,17)",
           "landcolor": "rgb(17,17,17)",
           "showlakes": true,
           "showland": true,
           "subunitcolor": "#506784"
          },
          "hoverlabel": {
           "align": "left"
          },
          "hovermode": "closest",
          "mapbox": {
           "style": "dark"
          },
          "paper_bgcolor": "rgb(17,17,17)",
          "plot_bgcolor": "rgb(17,17,17)",
          "polar": {
           "angularaxis": {
            "gridcolor": "#506784",
            "linecolor": "#506784",
            "ticks": ""
           },
           "bgcolor": "rgb(17,17,17)",
           "radialaxis": {
            "gridcolor": "#506784",
            "linecolor": "#506784",
            "ticks": ""
           }
          },
          "scene": {
           "xaxis": {
            "backgroundcolor": "rgb(17,17,17)",
            "gridcolor": "#506784",
            "gridwidth": 2,
            "linecolor": "#506784",
            "showbackground": true,
            "ticks": "",
            "zerolinecolor": "#C8D4E3"
           },
           "yaxis": {
            "backgroundcolor": "rgb(17,17,17)",
            "gridcolor": "#506784",
            "gridwidth": 2,
            "linecolor": "#506784",
            "showbackground": true,
            "ticks": "",
            "zerolinecolor": "#C8D4E3"
           },
           "zaxis": {
            "backgroundcolor": "rgb(17,17,17)",
            "gridcolor": "#506784",
            "gridwidth": 2,
            "linecolor": "#506784",
            "showbackground": true,
            "ticks": "",
            "zerolinecolor": "#C8D4E3"
           }
          },
          "shapedefaults": {
           "line": {
            "color": "#f2f5fa"
           }
          },
          "sliderdefaults": {
           "bgcolor": "#C8D4E3",
           "bordercolor": "rgb(17,17,17)",
           "borderwidth": 1,
           "tickwidth": 0
          },
          "ternary": {
           "aaxis": {
            "gridcolor": "#506784",
            "linecolor": "#506784",
            "ticks": ""
           },
           "baxis": {
            "gridcolor": "#506784",
            "linecolor": "#506784",
            "ticks": ""
           },
           "bgcolor": "rgb(17,17,17)",
           "caxis": {
            "gridcolor": "#506784",
            "linecolor": "#506784",
            "ticks": ""
           }
          },
          "title": {
           "x": 0.05
          },
          "updatemenudefaults": {
           "bgcolor": "#506784",
           "borderwidth": 0
          },
          "xaxis": {
           "automargin": true,
           "gridcolor": "#283442",
           "linecolor": "#506784",
           "ticks": "",
           "title": {
            "standoff": 15
           },
           "zerolinecolor": "#283442",
           "zerolinewidth": 2
          },
          "yaxis": {
           "automargin": true,
           "gridcolor": "#283442",
           "linecolor": "#506784",
           "ticks": "",
           "title": {
            "standoff": 15
           },
           "zerolinecolor": "#283442",
           "zerolinewidth": 2
          }
         }
        },
        "title": {
         "text": "Average Review Ratio by Genre"
        },
        "xaxis": {
         "anchor": "y",
         "domain": [
          0,
          1
         ],
         "title": {
          "text": "Genre"
         }
        },
        "yaxis": {
         "anchor": "x",
         "domain": [
          0,
          1
         ],
         "title": {
          "text": "Review Ratio"
         }
        }
       }
      }
     },
     "metadata": {},
     "output_type": "display_data"
    }
   ],
   "source": [
    "#Bar Plot of Average Review Ratio by Genre:\n",
    "\n",
    "fig = px.bar(result_df, x=\"Genre\", y=\"Review Ratio\", title=\"Average Review Ratio by Genre\", template='plotly_dark')\n",
    "fig.show()"
   ]
  },
  {
   "cell_type": "markdown",
   "metadata": {},
   "source": [
    "### Conclusion:\n",
    "\n",
    "In conclusion, there is diversity in both book ratings and review ratios across genres, suggesting that reader engagement and perception of quality are genre-dependent. However, reader engagement, as measured by the review ratio, does not necessarily align with the perceived quality or ratings of books.\n",
    "\n",
    "Certain genres like political fiction, fantasy, and romance fiction exhibit higher engagement or are more polarizing, leading to a higher review ratio regardless of the average book rating.\n",
    "\n",
    "The publishing years 1957 [Dandelion Wine], 1986 [Answered Prayers], and 2002 [The Years of Rice and Salt] seem to show a higher concentration of engaged reviews. This could be influenced by cultural trends, significant literary movements, or notable book releases that resonate with readers.\n",
    "\n",
    "Temporal trends in genre popularity and reader engagement are observable, which could be valuable for publishers and authors when considering market dynamics and historical reader preferences."
   ]
  }
 ],
 "metadata": {
  "kernelspec": {
   "display_name": "lol",
   "language": "python",
   "name": "python3"
  },
  "language_info": {
   "codemirror_mode": {
    "name": "ipython",
    "version": 3
   },
   "file_extension": ".py",
   "mimetype": "text/x-python",
   "name": "python",
   "nbconvert_exporter": "python",
   "pygments_lexer": "ipython3",
   "version": "3.10.9"
  }
 },
 "nbformat": 4,
 "nbformat_minor": 2
}
